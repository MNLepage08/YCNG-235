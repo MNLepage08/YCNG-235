{
 "cells": [
  {
   "cell_type": "markdown",
   "id": "0649c65b-f323-402a-acf6-fce35150dfd0",
   "metadata": {},
   "source": [
    "### Build a content-based recommendation system using:\n",
    "1. Universal Sentence Encoder: https://tfhub.dev/google/universal-sentence-encoder-large/5\n",
    "2. Annoy: https://github.com/spotify/annoy\n",
    "3. imdb-movies dataset: on myCourse"
   ]
  },
  {
   "cell_type": "code",
   "execution_count": 1,
   "id": "0cc009f6-02a2-42f1-9d41-1e3ca0fd064d",
   "metadata": {},
   "outputs": [],
   "source": [
    "# Install TF for Mac M1 (put in environment.yaml and update the env after)\n",
    "# pip install tensorflow-macos\n",
    "# pip install tensorflow-hub"
   ]
  },
  {
   "cell_type": "code",
   "execution_count": 2,
   "id": "691f901f-0596-4fcd-ac92-b0af87c2449a",
   "metadata": {},
   "outputs": [],
   "source": [
    "import os\n",
    "import tensorflow_hub as hub\n",
    "import tensorflow as tf\n",
    "from annoy import AnnoyIndex\n",
    "import pandas as pd\n",
    "import numpy as np\n",
    "import matplotlib.pyplot as plt\n",
    "from nltk.corpus import stopwords\n",
    "stop = stopwords.words('english')\n",
    "\n",
    "import time\n",
    "import logging\n",
    "logging.basicConfig(\n",
    "    format='%(asctime)s : %(levelname)s : %(message)s',\n",
    "    level=logging.INFO\n",
    ")\n",
    "logger = logging.getLogger(__name__)"
   ]
  },
  {
   "cell_type": "markdown",
   "id": "14d2e1b7-5d93-41e9-ab80-c96ec68db0c8",
   "metadata": {},
   "source": [
    "#### Load imdb-movies dataset from myCourse"
   ]
  },
  {
   "cell_type": "code",
   "execution_count": 3,
   "id": "72293ee8-7662-4fbc-acb5-e3fea74e3e82",
   "metadata": {},
   "outputs": [],
   "source": [
    "BASE_DIR =  os.path.join(os.path.dirname(os.path.realpath('__file__')), 'dev-data') "
   ]
  },
  {
   "cell_type": "code",
   "execution_count": 4,
   "id": "e76173fb-b7a4-4e5b-b146-d0f702ae684f",
   "metadata": {},
   "outputs": [],
   "source": [
    "df = pd.read_csv(f'{BASE_DIR}/data/imdb_top_1000.csv')"
   ]
  },
  {
   "cell_type": "code",
   "execution_count": 5,
   "id": "3b710809-4cb6-45f7-88bb-c3216cfe16d4",
   "metadata": {},
   "outputs": [
    {
     "name": "stdout",
     "output_type": "stream",
     "text": [
      "<class 'pandas.core.frame.DataFrame'>\n",
      "RangeIndex: 1003 entries, 0 to 1002\n",
      "Data columns (total 16 columns):\n",
      " #   Column         Non-Null Count  Dtype  \n",
      "---  ------         --------------  -----  \n",
      " 0   id             1000 non-null   float64\n",
      " 1   series_title   1000 non-null   object \n",
      " 2   released_year  1000 non-null   object \n",
      " 3   certificate    899 non-null    object \n",
      " 4   runtime        1000 non-null   object \n",
      " 5   genre          1000 non-null   object \n",
      " 6   imdb_rating    1000 non-null   float64\n",
      " 7   overview       1000 non-null   object \n",
      " 8   meta_score     843 non-null    float64\n",
      " 9   director       1000 non-null   object \n",
      " 10  star1          1000 non-null   object \n",
      " 11  star2          1000 non-null   object \n",
      " 12  star3          1000 non-null   object \n",
      " 13  star4          1000 non-null   object \n",
      " 14  no_of_votes    1000 non-null   float64\n",
      " 15  gross          832 non-null    object \n",
      "dtypes: float64(4), object(12)\n",
      "memory usage: 125.5+ KB\n"
     ]
    }
   ],
   "source": [
    "df.info()"
   ]
  },
  {
   "cell_type": "markdown",
   "id": "fca6c67e-0653-4f44-b5da-c9a7cec82d95",
   "metadata": {},
   "source": [
    "#### Preprocessing"
   ]
  },
  {
   "cell_type": "code",
   "execution_count": 6,
   "id": "a1364541-7be2-49c9-9841-140c57cdafa5",
   "metadata": {},
   "outputs": [
    {
     "data": {
      "text/html": [
       "<div>\n",
       "<style scoped>\n",
       "    .dataframe tbody tr th:only-of-type {\n",
       "        vertical-align: middle;\n",
       "    }\n",
       "\n",
       "    .dataframe tbody tr th {\n",
       "        vertical-align: top;\n",
       "    }\n",
       "\n",
       "    .dataframe thead th {\n",
       "        text-align: right;\n",
       "    }\n",
       "</style>\n",
       "<table border=\"1\" class=\"dataframe\">\n",
       "  <thead>\n",
       "    <tr style=\"text-align: right;\">\n",
       "      <th></th>\n",
       "      <th>id</th>\n",
       "      <th>series_title</th>\n",
       "      <th>genre</th>\n",
       "      <th>imdb_rating</th>\n",
       "      <th>overview</th>\n",
       "      <th>director</th>\n",
       "    </tr>\n",
       "  </thead>\n",
       "  <tbody>\n",
       "    <tr>\n",
       "      <th>0</th>\n",
       "      <td>1.0</td>\n",
       "      <td>The Shawshank Redemption</td>\n",
       "      <td>Drama</td>\n",
       "      <td>9.3</td>\n",
       "      <td>Two imprisoned men bond over a number of years...</td>\n",
       "      <td>Frank Darabont</td>\n",
       "    </tr>\n",
       "    <tr>\n",
       "      <th>1</th>\n",
       "      <td>2.0</td>\n",
       "      <td>The Godfather</td>\n",
       "      <td>Crime, Drama</td>\n",
       "      <td>9.2</td>\n",
       "      <td>An organized crime dynasty's aging patriarch t...</td>\n",
       "      <td>Francis Ford Coppola</td>\n",
       "    </tr>\n",
       "  </tbody>\n",
       "</table>\n",
       "</div>"
      ],
      "text/plain": [
       "    id              series_title         genre  imdb_rating  \\\n",
       "0  1.0  The Shawshank Redemption         Drama          9.3   \n",
       "1  2.0             The Godfather  Crime, Drama          9.2   \n",
       "\n",
       "                                            overview              director  \n",
       "0  Two imprisoned men bond over a number of years...        Frank Darabont  \n",
       "1  An organized crime dynasty's aging patriarch t...  Francis Ford Coppola  "
      ]
     },
     "execution_count": 6,
     "metadata": {},
     "output_type": "execute_result"
    }
   ],
   "source": [
    "# columns subset\n",
    "cols_to_keep = ['id', 'series_title', 'genre', 'imdb_rating', 'overview', 'director']\n",
    "df = df[cols_to_keep]\n",
    "df.head(2)"
   ]
  },
  {
   "cell_type": "code",
   "execution_count": 7,
   "id": "4abbc4fc-040a-4748-bbc5-696e3722a33e",
   "metadata": {},
   "outputs": [
    {
     "data": {
      "text/html": [
       "<div>\n",
       "<style scoped>\n",
       "    .dataframe tbody tr th:only-of-type {\n",
       "        vertical-align: middle;\n",
       "    }\n",
       "\n",
       "    .dataframe tbody tr th {\n",
       "        vertical-align: top;\n",
       "    }\n",
       "\n",
       "    .dataframe thead th {\n",
       "        text-align: right;\n",
       "    }\n",
       "</style>\n",
       "<table border=\"1\" class=\"dataframe\">\n",
       "  <thead>\n",
       "    <tr style=\"text-align: right;\">\n",
       "      <th></th>\n",
       "      <th>id</th>\n",
       "      <th>series_title</th>\n",
       "      <th>genre</th>\n",
       "      <th>imdb_rating</th>\n",
       "      <th>overview</th>\n",
       "      <th>director</th>\n",
       "    </tr>\n",
       "  </thead>\n",
       "  <tbody>\n",
       "    <tr>\n",
       "      <th>0</th>\n",
       "      <td>1.0</td>\n",
       "      <td>the shawshank redemption</td>\n",
       "      <td>drama</td>\n",
       "      <td>9.3</td>\n",
       "      <td>two imprisoned men bond over a number of years...</td>\n",
       "      <td>frank darabont</td>\n",
       "    </tr>\n",
       "    <tr>\n",
       "      <th>1</th>\n",
       "      <td>2.0</td>\n",
       "      <td>the godfather</td>\n",
       "      <td>crime, drama</td>\n",
       "      <td>9.2</td>\n",
       "      <td>an organized crime dynasty's aging patriarch t...</td>\n",
       "      <td>francis ford coppola</td>\n",
       "    </tr>\n",
       "  </tbody>\n",
       "</table>\n",
       "</div>"
      ],
      "text/plain": [
       "    id              series_title         genre  imdb_rating  \\\n",
       "0  1.0  the shawshank redemption         drama          9.3   \n",
       "1  2.0             the godfather  crime, drama          9.2   \n",
       "\n",
       "                                            overview              director  \n",
       "0  two imprisoned men bond over a number of years...        frank darabont  \n",
       "1  an organized crime dynasty's aging patriarch t...  francis ford coppola  "
      ]
     },
     "execution_count": 7,
     "metadata": {},
     "output_type": "execute_result"
    }
   ],
   "source": [
    "# clean dataset\n",
    "df.dropna(inplace=True)\n",
    "for i in ['series_title', 'genre', 'overview', 'director']:\n",
    "    \n",
    "    df[i] = df[i].str.lower()\n",
    "    df[i] = df[i].str.strip()\n",
    "    \n",
    "df.head(2)"
   ]
  },
  {
   "cell_type": "code",
   "execution_count": 8,
   "id": "93a03b47-03ce-4dd8-b352-0d55834b67f2",
   "metadata": {},
   "outputs": [
    {
     "data": {
      "image/png": "[encoded data removed]",
      "text/plain": [
       "<Figure size 640x480 with 1 Axes>"
      ]
     },
     "metadata": {},
     "output_type": "display_data"
    }
   ],
   "source": [
    "# Frequency distribution of movies rating\n",
    "\n",
    "# Specify the number of bins and calculate bin edges\n",
    "num_bins = 10  # You can adjust this as needed\n",
    "hist, bin_edges = np.histogram(df['imdb_rating'], bins=num_bins)\n",
    "\n",
    "# Calculate the bin widths\n",
    "bin_width = bin_edges[1] - bin_edges[0]\n",
    "\n",
    "# Calculate the bin midpoints\n",
    "bin_midpoints = bin_edges[:-1] + bin_width / 2\n",
    "\n",
    "# Create a histogram with the specified bins and widths\n",
    "plt.hist(df['imdb_rating'], bins=bin_edges, width=bin_width, alpha=0.7, edgecolor='black')\n",
    "\n",
    "# Add labels to the bars\n",
    "for i in range(len(bin_edges) - 1):\n",
    "    plt.text(\n",
    "        bin_midpoints[i],  # x-coordinate for the label (bin midpoint)\n",
    "        hist[i],  # y-coordinate for the label (height of the bar)\n",
    "        str(round(hist[i])),  # Text to display (count in the bin)\n",
    "        ha='center',  # Horizontal alignment\n",
    "        va='bottom'  # Vertical alignment\n",
    "    )\n",
    "\n",
    "# Set the title and axis labels\n",
    "plt.title('Frequency distribution of movies rating', fontsize=14)\n",
    "plt.xlabel('Rating', fontsize=12)\n",
    "plt.ylabel('Count', fontsize=12)\n",
    "\n",
    "# Set x-axis tick positions to the bin midpoints\n",
    "plt.xticks(bin_midpoints, [\"{:.2f}\".format(round(x,2)) for x in bin_midpoints])\n",
    "\n",
    "# Display the plot\n",
    "plt.show()"
   ]
  },
  {
   "cell_type": "code",
   "execution_count": 9,
   "id": "aa9ab8f6-1e27-4401-903a-a8d38e7e19fb",
   "metadata": {},
   "outputs": [
    {
     "data": {
      "text/html": [
       "<div>\n",
       "<style scoped>\n",
       "    .dataframe tbody tr th:only-of-type {\n",
       "        vertical-align: middle;\n",
       "    }\n",
       "\n",
       "    .dataframe tbody tr th {\n",
       "        vertical-align: top;\n",
       "    }\n",
       "\n",
       "    .dataframe thead th {\n",
       "        text-align: right;\n",
       "    }\n",
       "</style>\n",
       "<table border=\"1\" class=\"dataframe\">\n",
       "  <thead>\n",
       "    <tr style=\"text-align: right;\">\n",
       "      <th></th>\n",
       "      <th>id</th>\n",
       "      <th>series_title</th>\n",
       "      <th>genre</th>\n",
       "      <th>imdb_rating</th>\n",
       "      <th>overview</th>\n",
       "      <th>director</th>\n",
       "      <th>tier</th>\n",
       "    </tr>\n",
       "  </thead>\n",
       "  <tbody>\n",
       "    <tr>\n",
       "      <th>0</th>\n",
       "      <td>1.0</td>\n",
       "      <td>the shawshank redemption</td>\n",
       "      <td>drama</td>\n",
       "      <td>9.3</td>\n",
       "      <td>two imprisoned men bond over a number of years...</td>\n",
       "      <td>frank darabont</td>\n",
       "      <td>tier 1</td>\n",
       "    </tr>\n",
       "    <tr>\n",
       "      <th>1</th>\n",
       "      <td>2.0</td>\n",
       "      <td>the godfather</td>\n",
       "      <td>crime, drama</td>\n",
       "      <td>9.2</td>\n",
       "      <td>an organized crime dynasty's aging patriarch t...</td>\n",
       "      <td>francis ford coppola</td>\n",
       "      <td>tier 1</td>\n",
       "    </tr>\n",
       "  </tbody>\n",
       "</table>\n",
       "</div>"
      ],
      "text/plain": [
       "    id              series_title         genre  imdb_rating  \\\n",
       "0  1.0  the shawshank redemption         drama          9.3   \n",
       "1  2.0             the godfather  crime, drama          9.2   \n",
       "\n",
       "                                            overview              director  \\\n",
       "0  two imprisoned men bond over a number of years...        frank darabont   \n",
       "1  an organized crime dynasty's aging patriarch t...  francis ford coppola   \n",
       "\n",
       "     tier  \n",
       "0  tier 1  \n",
       "1  tier 1  "
      ]
     },
     "execution_count": 9,
     "metadata": {},
     "output_type": "execute_result"
    }
   ],
   "source": [
    "# convert ratings into tiers\n",
    "def convert_ratings_into_tiers(x):\n",
    "    \n",
    "    if x < 8:\n",
    "        return 'tier 3'\n",
    "    elif x >= 8 and x < 9:\n",
    "        return 'tier 2'\n",
    "    else:\n",
    "        return 'tier 1'\n",
    "    \n",
    "df['tier'] = df['imdb_rating'].apply(lambda x: convert_ratings_into_tiers(x))\n",
    "\n",
    "df.head(2)"
   ]
  },
  {
   "cell_type": "code",
   "execution_count": 10,
   "id": "ddb8b0d2-1e35-433c-b679-f8bfbb7776d0",
   "metadata": {},
   "outputs": [
    {
     "data": {
      "image/png": "[encoded data removed]",
      "text/plain": [
       "<Figure size 600x500 with 1 Axes>"
      ]
     },
     "metadata": {},
     "output_type": "display_data"
    }
   ],
   "source": [
    "pop = df.groupby(['genre']).agg({\n",
    "    'genre': [('count')]\n",
    "})\n",
    "\n",
    "pop.columns = pop.columns.droplevel(level=0)\n",
    "pop15 = pop.sort_values(by='count', ascending=False).head(15)\n",
    "\n",
    "fig = plt.figure(figsize=(6,5))\n",
    "ax = fig.add_axes([0,0,1,1])\n",
    "author = pop15.index\n",
    "cnt = pop15['count']\n",
    "ax.barh(author, cnt)\n",
    "\n",
    "plt.gca().invert_yaxis()\n",
    "\n",
    "# Set the tick locations and labels\n",
    "current_values = plt.gca().get_xticks()\n",
    "tick_locations = [0, 10, 20, 30, 40, 50, 60, 70, 80] \n",
    "ax.set_xticks(tick_locations)\n",
    "#ax.set_xticklabels(['{:,.0f}'.format(x) for x in tick_locations])\n",
    "\n",
    "for i, v in enumerate(cnt):\n",
    "    ax.text(v + 0.5, i + .15, str(v), color='dimgray')\n",
    "\n",
    "# Set the title and axis labels\n",
    "plt.title('Top 15: Frequency distribution of genre', fontsize=14)\n",
    "plt.ylabel('Genre', fontsize=10)\n",
    "plt.xlabel('Count', fontsize=10)\n",
    "\n",
    "plt.show()"
   ]
  },
  {
   "cell_type": "code",
   "execution_count": 11,
   "id": "31003831-4530-4c98-a63a-fce6b23bd9c0",
   "metadata": {},
   "outputs": [
    {
     "data": {
      "text/html": [
       "<div>\n",
       "<style scoped>\n",
       "    .dataframe tbody tr th:only-of-type {\n",
       "        vertical-align: middle;\n",
       "    }\n",
       "\n",
       "    .dataframe tbody tr th {\n",
       "        vertical-align: top;\n",
       "    }\n",
       "\n",
       "    .dataframe thead th {\n",
       "        text-align: right;\n",
       "    }\n",
       "</style>\n",
       "<table border=\"1\" class=\"dataframe\">\n",
       "  <thead>\n",
       "    <tr style=\"text-align: right;\">\n",
       "      <th></th>\n",
       "      <th>id</th>\n",
       "      <th>series_title</th>\n",
       "      <th>genre</th>\n",
       "      <th>imdb_rating</th>\n",
       "      <th>overview</th>\n",
       "      <th>director</th>\n",
       "      <th>tier</th>\n",
       "      <th>description</th>\n",
       "    </tr>\n",
       "  </thead>\n",
       "  <tbody>\n",
       "    <tr>\n",
       "      <th>0</th>\n",
       "      <td>1.0</td>\n",
       "      <td>the shawshank redemption</td>\n",
       "      <td>drama</td>\n",
       "      <td>9.3</td>\n",
       "      <td>two imprisoned men bond over a number of years...</td>\n",
       "      <td>frank darabont</td>\n",
       "      <td>tier 1</td>\n",
       "      <td>the shawshank redemption drama two imprisoned ...</td>\n",
       "    </tr>\n",
       "    <tr>\n",
       "      <th>1</th>\n",
       "      <td>2.0</td>\n",
       "      <td>the godfather</td>\n",
       "      <td>crime, drama</td>\n",
       "      <td>9.2</td>\n",
       "      <td>an organized crime dynasty's aging patriarch t...</td>\n",
       "      <td>francis ford coppola</td>\n",
       "      <td>tier 1</td>\n",
       "      <td>the godfather crime, drama an organized crime ...</td>\n",
       "    </tr>\n",
       "  </tbody>\n",
       "</table>\n",
       "</div>"
      ],
      "text/plain": [
       "    id              series_title         genre  imdb_rating  \\\n",
       "0  1.0  the shawshank redemption         drama          9.3   \n",
       "1  2.0             the godfather  crime, drama          9.2   \n",
       "\n",
       "                                            overview              director  \\\n",
       "0  two imprisoned men bond over a number of years...        frank darabont   \n",
       "1  an organized crime dynasty's aging patriarch t...  francis ford coppola   \n",
       "\n",
       "     tier                                        description  \n",
       "0  tier 1  the shawshank redemption drama two imprisoned ...  \n",
       "1  tier 1  the godfather crime, drama an organized crime ...  "
      ]
     },
     "execution_count": 11,
     "metadata": {},
     "output_type": "execute_result"
    }
   ],
   "source": [
    "# merge attributes\n",
    "def merge_description(df, col_list):\n",
    "    return df[col_list].apply(lambda x: ' '.join(x), axis=1)\n",
    "\n",
    "cols_to_merge = ['series_title', 'genre', 'overview', 'director', 'tier']\n",
    "\n",
    "# Just curious, if I change the order of the merge \n",
    "# the recommendation change for the last movie\n",
    "# cols_to_merge = ['series_title', 'genre', 'director', 'tier', 'overview']\n",
    "\n",
    "df = df.assign(description=lambda x: merge_description(x, cols_to_merge))\n",
    "\n",
    "df.head(2)"
   ]
  },
  {
   "cell_type": "code",
   "execution_count": 12,
   "id": "1c1c2d60-2d49-4491-8ba6-11552939e28b",
   "metadata": {},
   "outputs": [
    {
     "data": {
      "text/html": [
       "<div>\n",
       "<style scoped>\n",
       "    .dataframe tbody tr th:only-of-type {\n",
       "        vertical-align: middle;\n",
       "    }\n",
       "\n",
       "    .dataframe tbody tr th {\n",
       "        vertical-align: top;\n",
       "    }\n",
       "\n",
       "    .dataframe thead th {\n",
       "        text-align: right;\n",
       "    }\n",
       "</style>\n",
       "<table border=\"1\" class=\"dataframe\">\n",
       "  <thead>\n",
       "    <tr style=\"text-align: right;\">\n",
       "      <th></th>\n",
       "      <th>id</th>\n",
       "      <th>series_title</th>\n",
       "      <th>genre</th>\n",
       "      <th>imdb_rating</th>\n",
       "      <th>overview</th>\n",
       "      <th>director</th>\n",
       "      <th>tier</th>\n",
       "      <th>description</th>\n",
       "    </tr>\n",
       "  </thead>\n",
       "  <tbody>\n",
       "    <tr>\n",
       "      <th>0</th>\n",
       "      <td>1.0</td>\n",
       "      <td>the shawshank redemption</td>\n",
       "      <td>drama</td>\n",
       "      <td>9.3</td>\n",
       "      <td>two imprisoned men bond over a number of years...</td>\n",
       "      <td>frank darabont</td>\n",
       "      <td>tier 1</td>\n",
       "      <td>shawshank redemption drama two imprisoned men ...</td>\n",
       "    </tr>\n",
       "    <tr>\n",
       "      <th>1</th>\n",
       "      <td>2.0</td>\n",
       "      <td>the godfather</td>\n",
       "      <td>crime, drama</td>\n",
       "      <td>9.2</td>\n",
       "      <td>an organized crime dynasty's aging patriarch t...</td>\n",
       "      <td>francis ford coppola</td>\n",
       "      <td>tier 1</td>\n",
       "      <td>godfather crime, drama organized crime dynasty...</td>\n",
       "    </tr>\n",
       "  </tbody>\n",
       "</table>\n",
       "</div>"
      ],
      "text/plain": [
       "    id              series_title         genre  imdb_rating  \\\n",
       "0  1.0  the shawshank redemption         drama          9.3   \n",
       "1  2.0             the godfather  crime, drama          9.2   \n",
       "\n",
       "                                            overview              director  \\\n",
       "0  two imprisoned men bond over a number of years...        frank darabont   \n",
       "1  an organized crime dynasty's aging patriarch t...  francis ford coppola   \n",
       "\n",
       "     tier                                        description  \n",
       "0  tier 1  shawshank redemption drama two imprisoned men ...  \n",
       "1  tier 1  godfather crime, drama organized crime dynasty...  "
      ]
     },
     "execution_count": 12,
     "metadata": {},
     "output_type": "execute_result"
    }
   ],
   "source": [
    "# remove stopwords\n",
    "df['description'] = df['description'].apply(lambda x: ' '.join([w for w in x.split() if w not in (stop)]))\n",
    "\n",
    "df.head(2)"
   ]
  },
  {
   "cell_type": "markdown",
   "id": "c1bb4dc1-2373-44dc-b7bf-962c9f7f503d",
   "metadata": {},
   "source": [
    "#### Embeddings with universal-sentence-encoder-large_5"
   ]
  },
  {
   "cell_type": "markdown",
   "id": "bd39ea02-66e3-4bf7-b992-7e24ecebcf42",
   "metadata": {},
   "source": [
    "\"The Universal Sentence Encoder encodes text into high dimensional vectors that can be used for text classification, semantic similarity, clustering and other natural language tasks.\n",
    "\n",
    "The model is trained and optimized for greater-than-word length text, such as sentences, phrases or short paragraphs. It is trained on a variety of data sources and a variety of tasks with the aim of dynamically accommodating a wide variety of natural language understanding tasks. The input is variable length English text and the output is a 512 dimensional vector. The universal-sentence-encoder-large model is trained with a Transformer encoder.\""
   ]
  },
  {
   "cell_type": "code",
   "execution_count": 13,
   "id": "02e851f8-7397-417f-bfe3-a1046b3e07bf",
   "metadata": {},
   "outputs": [
    {
     "data": {
      "text/plain": [
       "(1000, 8)"
      ]
     },
     "execution_count": 13,
     "metadata": {},
     "output_type": "execute_result"
    }
   ],
   "source": [
    "# only 1000 rows in our dataset\n",
    "# genre is small count number (see top 15-freq of genre histogram)\n",
    "# no need to pass our data in chunk by chunk for embeddings (ex: by genre)\n",
    "\n",
    "df.shape"
   ]
  },
  {
   "cell_type": "code",
   "execution_count": 14,
   "id": "59594f99-b088-4cc4-82d3-27c52d50bf66",
   "metadata": {},
   "outputs": [
    {
     "name": "stderr",
     "output_type": "stream",
     "text": [
      "2023-09-25 17:26:38,390 : INFO : Fingerprint not found. Saved model loading will continue.\n"
     ]
    }
   ],
   "source": [
    "# The model has been loaded locally from the web\n",
    "# https://tfhub.dev/google/universal-sentence-encoder-large/5\n",
    "\n",
    "embed = hub.load(f'{BASE_DIR}/model/universal-sentence-encoder-large_5')"
   ]
  },
  {
   "cell_type": "code",
   "execution_count": 15,
   "id": "9b7d712b-516c-4d17-adfb-cf8363bb9c94",
   "metadata": {},
   "outputs": [
    {
     "name": "stdout",
     "output_type": "stream",
     "text": [
      "Total time: 3.855893850326538 sec\n",
      "(1000, 512)\n"
     ]
    }
   ],
   "source": [
    "start = time.time()\n",
    "features_1 = embed(df['description'])\n",
    "print(f'Total time: {time.time() - start} sec')\n",
    "print(features_1.shape)\n",
    "#embeddings[0] # the dimension is 512"
   ]
  },
  {
   "cell_type": "markdown",
   "id": "09ca8ce1-530d-4034-a12b-96f186c54410",
   "metadata": {},
   "source": [
    "##### Other technique: tf.data: Build TensorFlow input pipelines\n",
    "https://www.tensorflow.org/guide/data\n",
    "\n",
    "\"The tf.data API enables you to build complex input pipelines from simple, reusable pieces. The pipeline for a text model might involve extracting symbols from raw text data, converting them to embedding identifiers with a lookup table, and batching together sequences of different lengths. The tf.data API makes it possible to handle large amounts of data, read from different data formats, and perform complex transformations.\n",
    "\n",
    "To create an input pipeline, you must start with a data source. For example, to construct a Dataset from data in memory, you can use tf.data.Dataset.from_tensors() or tf.data.Dataset.from_tensor_slices(). Once you have a Dataset object, you can transform it into a new Dataset by chaining method calls on the tf.data.Dataset object. Once you have a dataset, you can apply transformations to prepare the data for your model.\""
   ]
  },
  {
   "cell_type": "code",
   "execution_count": 16,
   "id": "ac56b6b5-acb7-4e56-9fa2-4ae5e486525e",
   "metadata": {},
   "outputs": [
    {
     "name": "stdout",
     "output_type": "stream",
     "text": [
      "Total time: 0.6356239318847656 sec\n",
      "<_MapDataset element_spec=TensorSpec(shape=(None, 512), dtype=tf.float32, name=None)>\n"
     ]
    }
   ],
   "source": [
    "start = time.time()\n",
    "\n",
    "features_2 = tf.data.Dataset.from_tensor_slices([df['description']])\n",
    "features_2 = features_2.map(lambda x: embed(x))\n",
    "\n",
    "print(f'Total time: {time.time() - start} sec')\n",
    "print(features_2)"
   ]
  },
  {
   "cell_type": "code",
   "execution_count": 17,
   "id": "1a4062d5-0798-4d5a-bc50-49726338de00",
   "metadata": {},
   "outputs": [
    {
     "data": {
      "text/plain": [
       "512"
      ]
     },
     "execution_count": 17,
     "metadata": {},
     "output_type": "execute_result"
    }
   ],
   "source": [
    "features_2.element_spec.shape[1]"
   ]
  },
  {
   "cell_type": "markdown",
   "id": "163c2748-1635-4cfb-9356-ae2d8a63ad14",
   "metadata": {},
   "source": [
    "Embeddings with tf.data.Dataset and map is more fast:\n",
    "- features_1: Total time: 3.58 sec\n",
    "- features_2: Total time: 0.63 sec"
   ]
  },
  {
   "cell_type": "markdown",
   "id": "10faf38f-a999-4591-a1b1-2e9309484bee",
   "metadata": {},
   "source": [
    "#### Approximate Nearest Neighbors"
   ]
  },
  {
   "cell_type": "code",
   "execution_count": 18,
   "id": "ab6ac6c9-3b1e-4f14-8242-8271e98e6a7f",
   "metadata": {},
   "outputs": [],
   "source": [
    "# Create items dictionary\n",
    "items_dict = dict(enumerate(df['id']))\n",
    "items_dict = {v: k for k, v in items_dict.items()}"
   ]
  },
  {
   "cell_type": "markdown",
   "id": "199deffa-12be-48e1-a847-ed2d08866928",
   "metadata": {},
   "source": [
    "##### With features_1"
   ]
  },
  {
   "cell_type": "code",
   "execution_count": 19,
   "id": "6651c5c8-2bd7-4ca5-beb1-e4a2297e16f0",
   "metadata": {},
   "outputs": [
    {
     "data": {
      "text/plain": [
       "True"
      ]
     },
     "execution_count": 19,
     "metadata": {},
     "output_type": "execute_result"
    }
   ],
   "source": [
    "# https://github.com/spotify/annoy\n",
    "\n",
    "# Length of item vector that will be indexed\n",
    "f = features_1.shape[1]\n",
    "\n",
    "# Create Annoy index with desired dimensions\n",
    "index = AnnoyIndex(f, metric='angular')\n",
    "\n",
    "# add items to the index\n",
    "for i, v in enumerate(features_1):\n",
    "    \n",
    "    index.add_item(i, v)\n",
    "\n",
    "# building the index\n",
    "index.build(n_trees=50)  #more accurate result if you have higher number of tree\n",
    "\n",
    "index.save(f'{BASE_DIR}/model/movies_index_v1.ann')"
   ]
  },
  {
   "cell_type": "code",
   "execution_count": 20,
   "id": "daa273bf-64be-4c2b-94bd-3bc214ece6c4",
   "metadata": {},
   "outputs": [
    {
     "data": {
      "text/plain": [
       "True"
      ]
     },
     "execution_count": 20,
     "metadata": {},
     "output_type": "execute_result"
    }
   ],
   "source": [
    "annoy_index = AnnoyIndex(features_1.shape[1], 'angular')\n",
    "annoy_index.load(f'{BASE_DIR}/model/movies_index_v1.ann')"
   ]
  },
  {
   "cell_type": "code",
   "execution_count": 21,
   "id": "7c0c2b56-6e5c-4c88-ac15-3be00fd13b7c",
   "metadata": {},
   "outputs": [],
   "source": [
    "def recommend(\n",
    "    movie_id, \n",
    "    n_rec, \n",
    "    features,\n",
    "    items_dict,\n",
    "    annoy_index, \n",
    "    df\n",
    "):\n",
    "\n",
    "    \"\"\"\n",
    "    :return: recommendation list\n",
    "    \"\"\"\n",
    "\n",
    "    # Get the index of the movie\n",
    "    idx = items_dict[movie_id]\n",
    "\n",
    "    # Find the nearest neighbors\n",
    "    index_list = annoy_index.get_nns_by_item(i=idx, n=n_rec)\n",
    "\n",
    "    # Generate top-N recommendations\n",
    "    out = list()\n",
    "\n",
    "    i = 0\n",
    "    while i < n_rec:\n",
    "\n",
    "        out.append(\n",
    "                df[df.index == index_list[i]][['id', 'series_title', 'genre', 'director', 'imdb_rating']].values[0])\n",
    "        i += 1\n",
    "\n",
    "    out = pd.DataFrame(out, columns=['id', 'series_title', 'genre', 'director', 'imdb_rating'])\n",
    "\n",
    "    return out"
   ]
  },
  {
   "cell_type": "code",
   "execution_count": 22,
   "id": "894c08ea-4a7e-4f1c-a2b4-6d9672553d30",
   "metadata": {},
   "outputs": [
    {
     "data": {
      "text/html": [
       "<div>\n",
       "<style scoped>\n",
       "    .dataframe tbody tr th:only-of-type {\n",
       "        vertical-align: middle;\n",
       "    }\n",
       "\n",
       "    .dataframe tbody tr th {\n",
       "        vertical-align: top;\n",
       "    }\n",
       "\n",
       "    .dataframe thead th {\n",
       "        text-align: right;\n",
       "    }\n",
       "</style>\n",
       "<table border=\"1\" class=\"dataframe\">\n",
       "  <thead>\n",
       "    <tr style=\"text-align: right;\">\n",
       "      <th></th>\n",
       "      <th>id</th>\n",
       "      <th>series_title</th>\n",
       "      <th>genre</th>\n",
       "      <th>director</th>\n",
       "      <th>imdb_rating</th>\n",
       "    </tr>\n",
       "  </thead>\n",
       "  <tbody>\n",
       "    <tr>\n",
       "      <th>0</th>\n",
       "      <td>2.0</td>\n",
       "      <td>the godfather</td>\n",
       "      <td>crime, drama</td>\n",
       "      <td>francis ford coppola</td>\n",
       "      <td>9.2</td>\n",
       "    </tr>\n",
       "    <tr>\n",
       "      <th>1</th>\n",
       "      <td>4.0</td>\n",
       "      <td>the godfather: part ii</td>\n",
       "      <td>crime, drama</td>\n",
       "      <td>francis ford coppola</td>\n",
       "      <td>9.0</td>\n",
       "    </tr>\n",
       "    <tr>\n",
       "      <th>2</th>\n",
       "      <td>975.0</td>\n",
       "      <td>the godfather: part iii</td>\n",
       "      <td>crime, drama</td>\n",
       "      <td>francis ford coppola</td>\n",
       "      <td>7.6</td>\n",
       "    </tr>\n",
       "    <tr>\n",
       "      <th>3</th>\n",
       "      <td>166.0</td>\n",
       "      <td>casino</td>\n",
       "      <td>crime, drama</td>\n",
       "      <td>martin scorsese</td>\n",
       "      <td>8.2</td>\n",
       "    </tr>\n",
       "    <tr>\n",
       "      <th>4</th>\n",
       "      <td>528.0</td>\n",
       "      <td>the untouchables</td>\n",
       "      <td>crime, drama, thriller</td>\n",
       "      <td>brian de palma</td>\n",
       "      <td>7.9</td>\n",
       "    </tr>\n",
       "    <tr>\n",
       "      <th>5</th>\n",
       "      <td>694.0</td>\n",
       "      <td>the conversation</td>\n",
       "      <td>drama, mystery, thriller</td>\n",
       "      <td>francis ford coppola</td>\n",
       "      <td>7.8</td>\n",
       "    </tr>\n",
       "  </tbody>\n",
       "</table>\n",
       "</div>"
      ],
      "text/plain": [
       "      id             series_title                     genre  \\\n",
       "0    2.0            the godfather              crime, drama   \n",
       "1    4.0   the godfather: part ii              crime, drama   \n",
       "2  975.0  the godfather: part iii              crime, drama   \n",
       "3  166.0                   casino              crime, drama   \n",
       "4  528.0         the untouchables    crime, drama, thriller   \n",
       "5  694.0         the conversation  drama, mystery, thriller   \n",
       "\n",
       "               director  imdb_rating  \n",
       "0  francis ford coppola          9.2  \n",
       "1  francis ford coppola          9.0  \n",
       "2  francis ford coppola          7.6  \n",
       "3       martin scorsese          8.2  \n",
       "4        brian de palma          7.9  \n",
       "5  francis ford coppola          7.8  "
      ]
     },
     "execution_count": 22,
     "metadata": {},
     "output_type": "execute_result"
    }
   ],
   "source": [
    "# the godfather\n",
    "out = recommend(\n",
    "    movie_id=2, \n",
    "    n_rec=6, \n",
    "    features=features_1, \n",
    "    items_dict=items_dict,\n",
    "    annoy_index=annoy_index,\n",
    "    df=df\n",
    ")\n",
    "\n",
    "out"
   ]
  },
  {
   "cell_type": "markdown",
   "id": "229d3337-05d1-4863-b910-9a88982029d6",
   "metadata": {},
   "source": [
    "The first line (serie title: The Godfather) is the movie the user is checking out. \n",
    "The following five lines constitute the recommendation."
   ]
  },
  {
   "cell_type": "markdown",
   "id": "f98092ca-2c32-4401-8275-5aebd20aface",
   "metadata": {},
   "source": [
    "##### With features_2"
   ]
  },
  {
   "cell_type": "code",
   "execution_count": 23,
   "id": "a2bf9b95-b60d-4f34-8db4-6c0581f52254",
   "metadata": {},
   "outputs": [
    {
     "data": {
      "text/plain": [
       "True"
      ]
     },
     "execution_count": 23,
     "metadata": {},
     "output_type": "execute_result"
    }
   ],
   "source": [
    "# https://github.com/spotify/annoy\n",
    "\n",
    "# Length of item vector that will be indexed\n",
    "f = features_2.element_spec.shape[1]\n",
    "\n",
    "# Create Annoy index with desired dimensions\n",
    "index = AnnoyIndex(f, metric='angular')\n",
    "\n",
    "# add items to the index\n",
    "for i, v in enumerate(next(iter(features_2.take(1)))):\n",
    "#for i, v in enumerate(list(features_2)[:][0]): #work also\n",
    "    \n",
    "    index.add_item(i, v)\n",
    "\n",
    "# building the index\n",
    "index.build(n_trees=50)  #more accurate result if you have higher number of tree\n",
    "\n",
    "index.save(f'{BASE_DIR}/model/movies_index_v2.ann')"
   ]
  },
  {
   "cell_type": "code",
   "execution_count": 24,
   "id": "a51d4001-b6c7-4780-85a3-42e801858c9b",
   "metadata": {},
   "outputs": [
    {
     "data": {
      "text/plain": [
       "True"
      ]
     },
     "execution_count": 24,
     "metadata": {},
     "output_type": "execute_result"
    }
   ],
   "source": [
    "annoy_index = AnnoyIndex(features_2.element_spec.shape[1], 'angular')\n",
    "annoy_index.load(f'{BASE_DIR}/model/movies_index_v2.ann')"
   ]
  },
  {
   "cell_type": "code",
   "execution_count": 25,
   "id": "99de3bb2-ed9e-458a-9143-e24e9e21201d",
   "metadata": {},
   "outputs": [
    {
     "data": {
      "text/html": [
       "<div>\n",
       "<style scoped>\n",
       "    .dataframe tbody tr th:only-of-type {\n",
       "        vertical-align: middle;\n",
       "    }\n",
       "\n",
       "    .dataframe tbody tr th {\n",
       "        vertical-align: top;\n",
       "    }\n",
       "\n",
       "    .dataframe thead th {\n",
       "        text-align: right;\n",
       "    }\n",
       "</style>\n",
       "<table border=\"1\" class=\"dataframe\">\n",
       "  <thead>\n",
       "    <tr style=\"text-align: right;\">\n",
       "      <th></th>\n",
       "      <th>id</th>\n",
       "      <th>series_title</th>\n",
       "      <th>genre</th>\n",
       "      <th>director</th>\n",
       "      <th>imdb_rating</th>\n",
       "    </tr>\n",
       "  </thead>\n",
       "  <tbody>\n",
       "    <tr>\n",
       "      <th>0</th>\n",
       "      <td>2.0</td>\n",
       "      <td>the godfather</td>\n",
       "      <td>crime, drama</td>\n",
       "      <td>francis ford coppola</td>\n",
       "      <td>9.2</td>\n",
       "    </tr>\n",
       "    <tr>\n",
       "      <th>1</th>\n",
       "      <td>4.0</td>\n",
       "      <td>the godfather: part ii</td>\n",
       "      <td>crime, drama</td>\n",
       "      <td>francis ford coppola</td>\n",
       "      <td>9.0</td>\n",
       "    </tr>\n",
       "    <tr>\n",
       "      <th>2</th>\n",
       "      <td>975.0</td>\n",
       "      <td>the godfather: part iii</td>\n",
       "      <td>crime, drama</td>\n",
       "      <td>francis ford coppola</td>\n",
       "      <td>7.6</td>\n",
       "    </tr>\n",
       "    <tr>\n",
       "      <th>3</th>\n",
       "      <td>166.0</td>\n",
       "      <td>casino</td>\n",
       "      <td>crime, drama</td>\n",
       "      <td>martin scorsese</td>\n",
       "      <td>8.2</td>\n",
       "    </tr>\n",
       "    <tr>\n",
       "      <th>4</th>\n",
       "      <td>528.0</td>\n",
       "      <td>the untouchables</td>\n",
       "      <td>crime, drama, thriller</td>\n",
       "      <td>brian de palma</td>\n",
       "      <td>7.9</td>\n",
       "    </tr>\n",
       "    <tr>\n",
       "      <th>5</th>\n",
       "      <td>694.0</td>\n",
       "      <td>the conversation</td>\n",
       "      <td>drama, mystery, thriller</td>\n",
       "      <td>francis ford coppola</td>\n",
       "      <td>7.8</td>\n",
       "    </tr>\n",
       "  </tbody>\n",
       "</table>\n",
       "</div>"
      ],
      "text/plain": [
       "      id             series_title                     genre  \\\n",
       "0    2.0            the godfather              crime, drama   \n",
       "1    4.0   the godfather: part ii              crime, drama   \n",
       "2  975.0  the godfather: part iii              crime, drama   \n",
       "3  166.0                   casino              crime, drama   \n",
       "4  528.0         the untouchables    crime, drama, thriller   \n",
       "5  694.0         the conversation  drama, mystery, thriller   \n",
       "\n",
       "               director  imdb_rating  \n",
       "0  francis ford coppola          9.2  \n",
       "1  francis ford coppola          9.0  \n",
       "2  francis ford coppola          7.6  \n",
       "3       martin scorsese          8.2  \n",
       "4        brian de palma          7.9  \n",
       "5  francis ford coppola          7.8  "
      ]
     },
     "execution_count": 25,
     "metadata": {},
     "output_type": "execute_result"
    }
   ],
   "source": [
    "# the godfather\n",
    "out = recommend(\n",
    "    movie_id=2, \n",
    "    n_rec=6, \n",
    "    features=features_2, \n",
    "    items_dict=items_dict,\n",
    "    annoy_index=annoy_index,\n",
    "    df=df\n",
    ")\n",
    "\n",
    "out"
   ]
  },
  {
   "cell_type": "markdown",
   "id": "285714a2-ccff-414a-b0fa-6fd69d3b47e9",
   "metadata": {},
   "source": [
    "Same results for the model created with features_1 and features 2."
   ]
  }
 ],
 "metadata": {
  "kernelspec": {
   "display_name": "Python 3 (ipykernel)",
   "language": "python",
   "name": "python3"
  },
  "language_info": {
   "codemirror_mode": {
    "name": "ipython",
    "version": 3
   },
   "file_extension": ".py",
   "mimetype": "text/x-python",
   "name": "python",
   "nbconvert_exporter": "python",
   "pygments_lexer": "ipython3",
   "version": "3.10.12"
  }
 },
 "nbformat": 4,
 "nbformat_minor": 5
}
