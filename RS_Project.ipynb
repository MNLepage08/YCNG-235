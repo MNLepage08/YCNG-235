{
 "cells": [
  {
   "cell_type": "markdown",
   "id": "b2a4ab4b-dd72-474e-932e-b744f8785169",
   "metadata": {},
   "source": [
    "## **<font color='DarkBlue'>Libraries</font>**"
   ]
  },
  {
   "cell_type": "code",
   "execution_count": 1,
   "id": "e1245009-430d-4e2b-a4c2-e4b2106f1ca5",
   "metadata": {},
   "outputs": [],
   "source": [
    "# pip install dataprep"
   ]
  },
  {
   "cell_type": "code",
   "execution_count": 2,
   "id": "dd570728-2adc-4ac4-b5a1-ff0929d4b817",
   "metadata": {},
   "outputs": [],
   "source": [
    "# pip install lightfm"
   ]
  },
  {
   "cell_type": "code",
   "execution_count": 3,
   "id": "76787e38-35fd-428e-8166-0f4d747652e5",
   "metadata": {},
   "outputs": [],
   "source": [
    "import warnings\n",
    "warnings.filterwarnings(\"ignore\")\n",
    "\n",
    "import matplotlib.pyplot as plt\n",
    "import seaborn as sns\n",
    "import numpy as np\n",
    "import pandas as pd\n",
    "import pickle\n",
    "import os\n",
    "import time\n",
    "from scipy.sparse import csr_matrix\n",
    "from dataprep.clean import clean_country\n",
    "from sklearn.neighbors import NearestNeighbors\n",
    "from sklearn.feature_extraction.text import TfidfVectorizer\n",
    "from implicit.nearest_neighbours import bm25_weight\n",
    "from implicit.als import AlternatingLeastSquares\n",
    "from implicit.bpr import BayesianPersonalizedRanking\n",
    "from implicit.evaluation import train_test_split, mean_average_precision_at_k, ndcg_at_k, AUC_at_k, precision_at_k\n",
    "from lightfm import LightFM, cross_validation\n",
    "from lightfm.data import Dataset\n",
    "from lightfm.evaluation import precision_at_k, auc_score\n",
    "from lightfm.cross_validation import random_train_test_split\n",
    "\n",
    "from nltk.corpus import stopwords\n",
    "stop = stopwords.words('english')\n",
    "\n",
    "# https://github.com/benfred/implicit\n",
    "# it's super fast...\n",
    "from implicit.nearest_neighbours import (\n",
    "    BM25Recommender,\n",
    "    CosineRecommender,\n",
    "    TFIDFRecommender\n",
    ")\n",
    "\n",
    "import logging\n",
    "logging.basicConfig(\n",
    "    format='%(asctime)s : %(levelname)s : %(message)s',\n",
    "    level=logging.INFO\n",
    ")\n",
    "logger = logging.getLogger(__name__)"
   ]
  },
  {
   "cell_type": "markdown",
   "id": "f6d132f7-dd82-485d-958a-f5e438b17df9",
   "metadata": {},
   "source": [
    "## **<font color='DarkBlue'>Dataset</font>**"
   ]
  },
  {
   "cell_type": "code",
   "execution_count": 4,
   "id": "4a7c365c-5c79-42bf-a357-22650f374e86",
   "metadata": {},
   "outputs": [],
   "source": [
    "# Read dataset\n",
    "# https://www.kaggle.com/datasets/arashnic/book-recommendation-dataset\n",
    "\n",
    "books = pd.read_csv('Data/archive/Books.csv', dtype='unicode')\n",
    "ratings = pd.read_csv(\"Data/archive/Ratings.csv\")\n",
    "users = pd.read_csv(\"Data/archive/Users.csv\")"
   ]
  },
  {
   "cell_type": "markdown",
   "id": "5cb918be-da8e-4027-b31d-28478037b583",
   "metadata": {},
   "source": [
    "**<font color='DarkBlue'>Books:</font>**\n",
    "__________"
   ]
  },
  {
   "cell_type": "markdown",
   "id": "6fd96183-b294-41ed-a31c-e920228986b4",
   "metadata": {},
   "source": [
    "Books are identified by their respective ISBN. Invalid ISBNs have already been removed from the dataset. Moreover, some content-based information is given (Book-Title, Book-Author, Year-Of-Publication, Publisher), obtained from Amazon Web Services. Note that in case of several authors, only the first is provided. URLs linking to cover images are also given, appearing in three different flavours (Image-URL-S, Image-URL-M, Image-URL-L), i.e., small, medium, large. These URLs point to the Amazon web site."
   ]
  },
  {
   "cell_type": "code",
   "execution_count": 5,
   "id": "9d9a4b11-c47b-49b7-b543-80698f55b087",
   "metadata": {},
   "outputs": [
    {
     "data": {
      "text/html": [
       "<div>\n",
       "<style scoped>\n",
       "    .dataframe tbody tr th:only-of-type {\n",
       "        vertical-align: middle;\n",
       "    }\n",
       "\n",
       "    .dataframe tbody tr th {\n",
       "        vertical-align: top;\n",
       "    }\n",
       "\n",
       "    .dataframe thead th {\n",
       "        text-align: right;\n",
       "    }\n",
       "</style>\n",
       "<table border=\"1\" class=\"dataframe\">\n",
       "  <thead>\n",
       "    <tr style=\"text-align: right;\">\n",
       "      <th></th>\n",
       "      <th>ISBN</th>\n",
       "      <th>Book-Title</th>\n",
       "      <th>Book-Author</th>\n",
       "      <th>Year-Of-Publication</th>\n",
       "      <th>Publisher</th>\n",
       "      <th>Image-URL-S</th>\n",
       "      <th>Image-URL-M</th>\n",
       "      <th>Image-URL-L</th>\n",
       "    </tr>\n",
       "  </thead>\n",
       "  <tbody>\n",
       "    <tr>\n",
       "      <th>0</th>\n",
       "      <td>0195153448</td>\n",
       "      <td>Classical Mythology</td>\n",
       "      <td>Mark P. O. Morford</td>\n",
       "      <td>2002</td>\n",
       "      <td>Oxford University Press</td>\n",
       "      <td>http://images.amazon.com/images/P/0195153448.0...</td>\n",
       "      <td>http://images.amazon.com/images/P/0195153448.0...</td>\n",
       "      <td>http://images.amazon.com/images/P/0195153448.0...</td>\n",
       "    </tr>\n",
       "    <tr>\n",
       "      <th>1</th>\n",
       "      <td>0002005018</td>\n",
       "      <td>Clara Callan</td>\n",
       "      <td>Richard Bruce Wright</td>\n",
       "      <td>2001</td>\n",
       "      <td>HarperFlamingo Canada</td>\n",
       "      <td>http://images.amazon.com/images/P/0002005018.0...</td>\n",
       "      <td>http://images.amazon.com/images/P/0002005018.0...</td>\n",
       "      <td>http://images.amazon.com/images/P/0002005018.0...</td>\n",
       "    </tr>\n",
       "    <tr>\n",
       "      <th>2</th>\n",
       "      <td>0060973129</td>\n",
       "      <td>Decision in Normandy</td>\n",
       "      <td>Carlo D'Este</td>\n",
       "      <td>1991</td>\n",
       "      <td>HarperPerennial</td>\n",
       "      <td>http://images.amazon.com/images/P/0060973129.0...</td>\n",
       "      <td>http://images.amazon.com/images/P/0060973129.0...</td>\n",
       "      <td>http://images.amazon.com/images/P/0060973129.0...</td>\n",
       "    </tr>\n",
       "    <tr>\n",
       "      <th>3</th>\n",
       "      <td>0374157065</td>\n",
       "      <td>Flu: The Story of the Great Influenza Pandemic...</td>\n",
       "      <td>Gina Bari Kolata</td>\n",
       "      <td>1999</td>\n",
       "      <td>Farrar Straus Giroux</td>\n",
       "      <td>http://images.amazon.com/images/P/0374157065.0...</td>\n",
       "      <td>http://images.amazon.com/images/P/0374157065.0...</td>\n",
       "      <td>http://images.amazon.com/images/P/0374157065.0...</td>\n",
       "    </tr>\n",
       "    <tr>\n",
       "      <th>4</th>\n",
       "      <td>0393045218</td>\n",
       "      <td>The Mummies of Urumchi</td>\n",
       "      <td>E. J. W. Barber</td>\n",
       "      <td>1999</td>\n",
       "      <td>W. W. Norton &amp;amp; Company</td>\n",
       "      <td>http://images.amazon.com/images/P/0393045218.0...</td>\n",
       "      <td>http://images.amazon.com/images/P/0393045218.0...</td>\n",
       "      <td>http://images.amazon.com/images/P/0393045218.0...</td>\n",
       "    </tr>\n",
       "  </tbody>\n",
       "</table>\n",
       "</div>"
      ],
      "text/plain": [
       "         ISBN                                         Book-Title  \\\n",
       "0  0195153448                                Classical Mythology   \n",
       "1  0002005018                                       Clara Callan   \n",
       "2  0060973129                               Decision in Normandy   \n",
       "3  0374157065  Flu: The Story of the Great Influenza Pandemic...   \n",
       "4  0393045218                             The Mummies of Urumchi   \n",
       "\n",
       "            Book-Author Year-Of-Publication                   Publisher  \\\n",
       "0    Mark P. O. Morford                2002     Oxford University Press   \n",
       "1  Richard Bruce Wright                2001       HarperFlamingo Canada   \n",
       "2          Carlo D'Este                1991             HarperPerennial   \n",
       "3      Gina Bari Kolata                1999        Farrar Straus Giroux   \n",
       "4       E. J. W. Barber                1999  W. W. Norton &amp; Company   \n",
       "\n",
       "                                         Image-URL-S  \\\n",
       "0  http://images.amazon.com/images/P/0195153448.0...   \n",
       "1  http://images.amazon.com/images/P/0002005018.0...   \n",
       "2  http://images.amazon.com/images/P/0060973129.0...   \n",
       "3  http://images.amazon.com/images/P/0374157065.0...   \n",
       "4  http://images.amazon.com/images/P/0393045218.0...   \n",
       "\n",
       "                                         Image-URL-M  \\\n",
       "0  http://images.amazon.com/images/P/0195153448.0...   \n",
       "1  http://images.amazon.com/images/P/0002005018.0...   \n",
       "2  http://images.amazon.com/images/P/0060973129.0...   \n",
       "3  http://images.amazon.com/images/P/0374157065.0...   \n",
       "4  http://images.amazon.com/images/P/0393045218.0...   \n",
       "\n",
       "                                         Image-URL-L  \n",
       "0  http://images.amazon.com/images/P/0195153448.0...  \n",
       "1  http://images.amazon.com/images/P/0002005018.0...  \n",
       "2  http://images.amazon.com/images/P/0060973129.0...  \n",
       "3  http://images.amazon.com/images/P/0374157065.0...  \n",
       "4  http://images.amazon.com/images/P/0393045218.0...  "
      ]
     },
     "execution_count": 5,
     "metadata": {},
     "output_type": "execute_result"
    }
   ],
   "source": [
    "books.head()"
   ]
  },
  {
   "cell_type": "markdown",
   "id": "d66256f6-4a94-478b-b42b-1ec7969e6917",
   "metadata": {},
   "source": [
    "**<font color='DarkBlue'>Ratings:</font>**\n",
    "____________\n",
    "Contains the book rating information. Ratings (Book-Rating) are either explicit, expressed on a scale from 1-10 (higher values denoting higher appreciation), or implicit, expressed by 0."
   ]
  },
  {
   "cell_type": "code",
   "execution_count": 6,
   "id": "7606167b-a54f-46fa-8083-1cf08947b1d4",
   "metadata": {},
   "outputs": [
    {
     "data": {
      "text/html": [
       "<div>\n",
       "<style scoped>\n",
       "    .dataframe tbody tr th:only-of-type {\n",
       "        vertical-align: middle;\n",
       "    }\n",
       "\n",
       "    .dataframe tbody tr th {\n",
       "        vertical-align: top;\n",
       "    }\n",
       "\n",
       "    .dataframe thead th {\n",
       "        text-align: right;\n",
       "    }\n",
       "</style>\n",
       "<table border=\"1\" class=\"dataframe\">\n",
       "  <thead>\n",
       "    <tr style=\"text-align: right;\">\n",
       "      <th></th>\n",
       "      <th>User-ID</th>\n",
       "      <th>ISBN</th>\n",
       "      <th>Book-Rating</th>\n",
       "    </tr>\n",
       "  </thead>\n",
       "  <tbody>\n",
       "    <tr>\n",
       "      <th>0</th>\n",
       "      <td>276725</td>\n",
       "      <td>034545104X</td>\n",
       "      <td>0</td>\n",
       "    </tr>\n",
       "    <tr>\n",
       "      <th>1</th>\n",
       "      <td>276726</td>\n",
       "      <td>0155061224</td>\n",
       "      <td>5</td>\n",
       "    </tr>\n",
       "    <tr>\n",
       "      <th>2</th>\n",
       "      <td>276727</td>\n",
       "      <td>0446520802</td>\n",
       "      <td>0</td>\n",
       "    </tr>\n",
       "    <tr>\n",
       "      <th>3</th>\n",
       "      <td>276729</td>\n",
       "      <td>052165615X</td>\n",
       "      <td>3</td>\n",
       "    </tr>\n",
       "    <tr>\n",
       "      <th>4</th>\n",
       "      <td>276729</td>\n",
       "      <td>0521795028</td>\n",
       "      <td>6</td>\n",
       "    </tr>\n",
       "  </tbody>\n",
       "</table>\n",
       "</div>"
      ],
      "text/plain": [
       "   User-ID        ISBN  Book-Rating\n",
       "0   276725  034545104X            0\n",
       "1   276726  0155061224            5\n",
       "2   276727  0446520802            0\n",
       "3   276729  052165615X            3\n",
       "4   276729  0521795028            6"
      ]
     },
     "execution_count": 6,
     "metadata": {},
     "output_type": "execute_result"
    }
   ],
   "source": [
    "ratings.head()"
   ]
  },
  {
   "cell_type": "markdown",
   "id": "382c0b22-d2f9-47e0-a4ad-000349c00bef",
   "metadata": {},
   "source": [
    "**<font color='DarkBlue'>Users:</font>**\n",
    "__________"
   ]
  },
  {
   "cell_type": "markdown",
   "id": "0056e468-30c7-480c-960b-35c8d4ef0634",
   "metadata": {},
   "source": [
    "Contains the users. Note that user IDs (User-ID) have been anonymized and map to integers. Demographic data is provided (Location, Age) if available. Otherwise, these fields contain NULL-values."
   ]
  },
  {
   "cell_type": "code",
   "execution_count": 7,
   "id": "e0a47352-0e52-4703-b2ba-17f2eb7cb86e",
   "metadata": {},
   "outputs": [
    {
     "data": {
      "text/html": [
       "<div>\n",
       "<style scoped>\n",
       "    .dataframe tbody tr th:only-of-type {\n",
       "        vertical-align: middle;\n",
       "    }\n",
       "\n",
       "    .dataframe tbody tr th {\n",
       "        vertical-align: top;\n",
       "    }\n",
       "\n",
       "    .dataframe thead th {\n",
       "        text-align: right;\n",
       "    }\n",
       "</style>\n",
       "<table border=\"1\" class=\"dataframe\">\n",
       "  <thead>\n",
       "    <tr style=\"text-align: right;\">\n",
       "      <th></th>\n",
       "      <th>User-ID</th>\n",
       "      <th>Location</th>\n",
       "      <th>Age</th>\n",
       "    </tr>\n",
       "  </thead>\n",
       "  <tbody>\n",
       "    <tr>\n",
       "      <th>0</th>\n",
       "      <td>1</td>\n",
       "      <td>nyc, new york, usa</td>\n",
       "      <td>NaN</td>\n",
       "    </tr>\n",
       "    <tr>\n",
       "      <th>1</th>\n",
       "      <td>2</td>\n",
       "      <td>stockton, california, usa</td>\n",
       "      <td>18.0</td>\n",
       "    </tr>\n",
       "    <tr>\n",
       "      <th>2</th>\n",
       "      <td>3</td>\n",
       "      <td>moscow, yukon territory, russia</td>\n",
       "      <td>NaN</td>\n",
       "    </tr>\n",
       "    <tr>\n",
       "      <th>3</th>\n",
       "      <td>4</td>\n",
       "      <td>porto, v.n.gaia, portugal</td>\n",
       "      <td>17.0</td>\n",
       "    </tr>\n",
       "    <tr>\n",
       "      <th>4</th>\n",
       "      <td>5</td>\n",
       "      <td>farnborough, hants, united kingdom</td>\n",
       "      <td>NaN</td>\n",
       "    </tr>\n",
       "  </tbody>\n",
       "</table>\n",
       "</div>"
      ],
      "text/plain": [
       "   User-ID                            Location   Age\n",
       "0        1                  nyc, new york, usa   NaN\n",
       "1        2           stockton, california, usa  18.0\n",
       "2        3     moscow, yukon territory, russia   NaN\n",
       "3        4           porto, v.n.gaia, portugal  17.0\n",
       "4        5  farnborough, hants, united kingdom   NaN"
      ]
     },
     "execution_count": 7,
     "metadata": {},
     "output_type": "execute_result"
    }
   ],
   "source": [
    "users.head()"
   ]
  },
  {
   "cell_type": "markdown",
   "id": "73b850ab-eff1-4f95-ab4f-85e16460c77a",
   "metadata": {},
   "source": [
    "## **<font color='DarkBlue'>Data Cleaning</font>**"
   ]
  },
  {
   "cell_type": "markdown",
   "id": "2c7900a0-57aa-4aaf-a167-9a449725c88d",
   "metadata": {},
   "source": [
    "**<font color='DarkBlue'>Books:</font>**\n",
    "__________"
   ]
  },
  {
   "cell_type": "code",
   "execution_count": 8,
   "id": "3c697038-c44a-4602-bed9-2cbd8e44cec3",
   "metadata": {},
   "outputs": [
    {
     "name": "stdout",
     "output_type": "stream",
     "text": [
      "<class 'pandas.core.frame.DataFrame'>\n",
      "RangeIndex: 271360 entries, 0 to 271359\n",
      "Data columns (total 8 columns):\n",
      " #   Column            Non-Null Count   Dtype \n",
      "---  ------            --------------   ----- \n",
      " 0   isbn              271360 non-null  object\n",
      " 1   book_title        271360 non-null  object\n",
      " 2   book_author       271359 non-null  object\n",
      " 3   year_publication  271360 non-null  object\n",
      " 4   publisher         271358 non-null  object\n",
      " 5   image_url_s       271360 non-null  object\n",
      " 6   image_url_m       271360 non-null  object\n",
      " 7   image_url_l       271357 non-null  object\n",
      "dtypes: object(8)\n",
      "memory usage: 16.6+ MB\n"
     ]
    }
   ],
   "source": [
    "# summary of a DataFrame\n",
    "# 271360 entries, 8 columns\n",
    "# null values: Book-Autor = 2, Publisher = 2, Image-URL-L = 3\n",
    "\n",
    "# Rename columns\n",
    "books.rename(columns={'ISBN': 'isbn', 'Book-Title': 'book_title', 'Book-Author': 'book_author',\n",
    "                     'Year-Of-Publication': 'year_publication', 'Publisher': 'publisher',\n",
    "                     'Image-URL-S': 'image_url_s', 'Image-URL-M': 'image_url_m', 'Image-URL-L': 'image_url_l'}\n",
    "                     , inplace=True)\n",
    "\n",
    "books.info()"
   ]
  },
  {
   "cell_type": "code",
   "execution_count": 9,
   "id": "4f5e8d49-c978-4344-af13-9fc6b05597a2",
   "metadata": {},
   "outputs": [
    {
     "data": {
      "text/html": [
       "<div>\n",
       "<style scoped>\n",
       "    .dataframe tbody tr th:only-of-type {\n",
       "        vertical-align: middle;\n",
       "    }\n",
       "\n",
       "    .dataframe tbody tr th {\n",
       "        vertical-align: top;\n",
       "    }\n",
       "\n",
       "    .dataframe thead th {\n",
       "        text-align: right;\n",
       "    }\n",
       "</style>\n",
       "<table border=\"1\" class=\"dataframe\">\n",
       "  <thead>\n",
       "    <tr style=\"text-align: right;\">\n",
       "      <th></th>\n",
       "      <th>isbn</th>\n",
       "      <th>book_title</th>\n",
       "      <th>book_author</th>\n",
       "      <th>year_publication</th>\n",
       "      <th>publisher</th>\n",
       "      <th>image_url_s</th>\n",
       "      <th>image_url_m</th>\n",
       "      <th>image_url_l</th>\n",
       "    </tr>\n",
       "  </thead>\n",
       "  <tbody>\n",
       "    <tr>\n",
       "      <th>128890</th>\n",
       "      <td>193169656X</td>\n",
       "      <td>Tyrant Moon</td>\n",
       "      <td>Elaine Corvidae</td>\n",
       "      <td>2002</td>\n",
       "      <td>NaN</td>\n",
       "      <td>http://images.amazon.com/images/P/193169656X.0...</td>\n",
       "      <td>http://images.amazon.com/images/P/193169656X.0...</td>\n",
       "      <td>http://images.amazon.com/images/P/193169656X.0...</td>\n",
       "    </tr>\n",
       "    <tr>\n",
       "      <th>129037</th>\n",
       "      <td>1931696993</td>\n",
       "      <td>Finders Keepers</td>\n",
       "      <td>Linnea Sinclair</td>\n",
       "      <td>2001</td>\n",
       "      <td>NaN</td>\n",
       "      <td>http://images.amazon.com/images/P/1931696993.0...</td>\n",
       "      <td>http://images.amazon.com/images/P/1931696993.0...</td>\n",
       "      <td>http://images.amazon.com/images/P/1931696993.0...</td>\n",
       "    </tr>\n",
       "    <tr>\n",
       "      <th>187689</th>\n",
       "      <td>9627982032</td>\n",
       "      <td>The Credit Suisse Guide to Managing Your Perso...</td>\n",
       "      <td>NaN</td>\n",
       "      <td>1995</td>\n",
       "      <td>Edinburgh Financial Publishing</td>\n",
       "      <td>http://images.amazon.com/images/P/9627982032.0...</td>\n",
       "      <td>http://images.amazon.com/images/P/9627982032.0...</td>\n",
       "      <td>http://images.amazon.com/images/P/9627982032.0...</td>\n",
       "    </tr>\n",
       "    <tr>\n",
       "      <th>209538</th>\n",
       "      <td>078946697X</td>\n",
       "      <td>DK Readers: Creating the X-Men, How It All Beg...</td>\n",
       "      <td>2000</td>\n",
       "      <td>DK Publishing Inc</td>\n",
       "      <td>http://images.amazon.com/images/P/078946697X.0...</td>\n",
       "      <td>http://images.amazon.com/images/P/078946697X.0...</td>\n",
       "      <td>http://images.amazon.com/images/P/078946697X.0...</td>\n",
       "      <td>NaN</td>\n",
       "    </tr>\n",
       "    <tr>\n",
       "      <th>220731</th>\n",
       "      <td>2070426769</td>\n",
       "      <td>Peuple du ciel, suivi de 'Les Bergers\\\";Jean-M...</td>\n",
       "      <td>2003</td>\n",
       "      <td>Gallimard</td>\n",
       "      <td>http://images.amazon.com/images/P/2070426769.0...</td>\n",
       "      <td>http://images.amazon.com/images/P/2070426769.0...</td>\n",
       "      <td>http://images.amazon.com/images/P/2070426769.0...</td>\n",
       "      <td>NaN</td>\n",
       "    </tr>\n",
       "    <tr>\n",
       "      <th>221678</th>\n",
       "      <td>0789466953</td>\n",
       "      <td>DK Readers: Creating the X-Men, How Comic Book...</td>\n",
       "      <td>2000</td>\n",
       "      <td>DK Publishing Inc</td>\n",
       "      <td>http://images.amazon.com/images/P/0789466953.0...</td>\n",
       "      <td>http://images.amazon.com/images/P/0789466953.0...</td>\n",
       "      <td>http://images.amazon.com/images/P/0789466953.0...</td>\n",
       "      <td>NaN</td>\n",
       "    </tr>\n",
       "  </tbody>\n",
       "</table>\n",
       "</div>"
      ],
      "text/plain": [
       "              isbn                                         book_title  \\\n",
       "128890  193169656X                                        Tyrant Moon   \n",
       "129037  1931696993                                    Finders Keepers   \n",
       "187689  9627982032  The Credit Suisse Guide to Managing Your Perso...   \n",
       "209538  078946697X  DK Readers: Creating the X-Men, How It All Beg...   \n",
       "220731  2070426769  Peuple du ciel, suivi de 'Les Bergers\\\";Jean-M...   \n",
       "221678  0789466953  DK Readers: Creating the X-Men, How Comic Book...   \n",
       "\n",
       "            book_author   year_publication  \\\n",
       "128890  Elaine Corvidae               2002   \n",
       "129037  Linnea Sinclair               2001   \n",
       "187689              NaN               1995   \n",
       "209538             2000  DK Publishing Inc   \n",
       "220731             2003          Gallimard   \n",
       "221678             2000  DK Publishing Inc   \n",
       "\n",
       "                                                publisher  \\\n",
       "128890                                                NaN   \n",
       "129037                                                NaN   \n",
       "187689                     Edinburgh Financial Publishing   \n",
       "209538  http://images.amazon.com/images/P/078946697X.0...   \n",
       "220731  http://images.amazon.com/images/P/2070426769.0...   \n",
       "221678  http://images.amazon.com/images/P/0789466953.0...   \n",
       "\n",
       "                                              image_url_s  \\\n",
       "128890  http://images.amazon.com/images/P/193169656X.0...   \n",
       "129037  http://images.amazon.com/images/P/1931696993.0...   \n",
       "187689  http://images.amazon.com/images/P/9627982032.0...   \n",
       "209538  http://images.amazon.com/images/P/078946697X.0...   \n",
       "220731  http://images.amazon.com/images/P/2070426769.0...   \n",
       "221678  http://images.amazon.com/images/P/0789466953.0...   \n",
       "\n",
       "                                              image_url_m  \\\n",
       "128890  http://images.amazon.com/images/P/193169656X.0...   \n",
       "129037  http://images.amazon.com/images/P/1931696993.0...   \n",
       "187689  http://images.amazon.com/images/P/9627982032.0...   \n",
       "209538  http://images.amazon.com/images/P/078946697X.0...   \n",
       "220731  http://images.amazon.com/images/P/2070426769.0...   \n",
       "221678  http://images.amazon.com/images/P/0789466953.0...   \n",
       "\n",
       "                                              image_url_l  \n",
       "128890  http://images.amazon.com/images/P/193169656X.0...  \n",
       "129037  http://images.amazon.com/images/P/1931696993.0...  \n",
       "187689  http://images.amazon.com/images/P/9627982032.0...  \n",
       "209538                                                NaN  \n",
       "220731                                                NaN  \n",
       "221678                                                NaN  "
      ]
     },
     "execution_count": 9,
     "metadata": {},
     "output_type": "execute_result"
    }
   ],
   "source": [
    "# show null values\n",
    "\n",
    "# ISBN 0751352497 - Not fond book-author\n",
    "# ISBN 9627982032 - Not fond book-author\n",
    "\n",
    "# ISBN 193169656X - Publisher: NovelBooks, Inc.\n",
    "# https://www.abebooks.com/9781931696562/Tyrant-Moon-Corvidae-Elaine-193169656X/plp\n",
    "\n",
    "# ISBN 1931696993 - Publisher: NovelBooks, Inc.\n",
    "# https://www.abebooks.com/9781931696999/Finders-Keepers-Linnea-Sinclair-1931696993/plp\n",
    "\n",
    "books[books.isna().any(axis=1)]"
   ]
  },
  {
   "cell_type": "code",
   "execution_count": 10,
   "id": "05f00b4a-6985-42dd-81d2-6eabbfc3e56b",
   "metadata": {},
   "outputs": [],
   "source": [
    "# Replace NULL with a default string\n",
    "books.loc[(books.isbn == '0751352497'),'book_author'] = 'Unknown'\n",
    "books.loc[(books.isbn == '9627982032'),'book_author'] = 'Unknown'\n",
    "books.loc[(books.isbn == '193169656X'),'publisher'] = 'NovelBooks, Inc.'\n",
    "books.loc[(books.isbn == '1931696993'),'publisher'] = 'NovelBooks, Inc.'\n",
    "\n",
    "# ISBN '078946697X'\n",
    "books.loc[books.isbn == '078946697X','year_publication'] = 2000\n",
    "books.loc[books.isbn == '078946697X','book_author'] = \"Michael Teitelbaum\"\n",
    "books.loc[books.isbn == '078946697X','publisher'] = \"DK Publishing Inc\"\n",
    "books.loc[books.isbn == '078946697X','book_title'] = \"DK Readers: Creating the X-Men, How It All Began (Level 4: Proficient Readers)\"\n",
    "books.loc[books.isbn == '078946697X','image_url_m'] = \"http://images.amazon.com/images/P/078946697X.01.MZZZZZZZ.jpg\"\n",
    "\n",
    "# ISBN 2070426769\n",
    "books.loc[books.isbn == '2070426769','year_publication'] = 2003\n",
    "books.loc[books.isbn == '2070426769','book_author'] = \"Jean-Marie Gustave Le Clezio\"\n",
    "books.loc[books.isbn == '2070426769','publisher'] = \"Gallimard\"\n",
    "books.loc[books.isbn == '2070426769','book_title'] = \"Peuple du ciel, suivi de Les Bergers\"\n",
    "books.loc[books.isbn == '2070426769','image_url_m'] = \"http://images.amazon.com/images/P/2070426769.01.MZZZZZZZ.jpg\"\n",
    "\n",
    "# ISBN '0789466953'\n",
    "books.loc[books.isbn == '0789466953','year_publication'] = 2000\n",
    "books.loc[books.isbn == '0789466953','book_author'] = \"James Buckley\"\n",
    "books.loc[books.isbn == '0789466953','publisher'] = \"DK Publishing Inc\"\n",
    "books.loc[books.isbn == '0789466953','book_title'] = \"\"\"DK Readers: Creating the X-Men, How Comic Books \n",
    "                                                        Come to Life (Level 4: Proficient Readers)\"\"\"\n",
    "books.loc[books.isbn == '0789466953','image_url_m'] = \"http://images.amazon.com/images/P/0789466953.01.MZZZZZZZ.jpg\"\n",
    "\n",
    "# Keep only medium image\n",
    "books = books.drop(['image_url_s', 'image_url_l'], axis=1)"
   ]
  },
  {
   "cell_type": "code",
   "execution_count": 11,
   "id": "5ace38e1-46d5-42b3-b4b2-35159913e569",
   "metadata": {},
   "outputs": [
    {
     "data": {
      "text/html": [
       "<div>\n",
       "<style scoped>\n",
       "    .dataframe tbody tr th:only-of-type {\n",
       "        vertical-align: middle;\n",
       "    }\n",
       "\n",
       "    .dataframe tbody tr th {\n",
       "        vertical-align: top;\n",
       "    }\n",
       "\n",
       "    .dataframe thead th {\n",
       "        text-align: right;\n",
       "    }\n",
       "</style>\n",
       "<table border=\"1\" class=\"dataframe\">\n",
       "  <thead>\n",
       "    <tr style=\"text-align: right;\">\n",
       "      <th></th>\n",
       "      <th>isbn</th>\n",
       "      <th>book_title</th>\n",
       "      <th>book_author</th>\n",
       "      <th>year_publication</th>\n",
       "      <th>publisher</th>\n",
       "      <th>image_url_m</th>\n",
       "    </tr>\n",
       "  </thead>\n",
       "  <tbody>\n",
       "  </tbody>\n",
       "</table>\n",
       "</div>"
      ],
      "text/plain": [
       "Empty DataFrame\n",
       "Columns: [isbn, book_title, book_author, year_publication, publisher, image_url_m]\n",
       "Index: []"
      ]
     },
     "execution_count": 11,
     "metadata": {},
     "output_type": "execute_result"
    }
   ],
   "source": [
    "books[books.isna().any(axis=1)]"
   ]
  },
  {
   "cell_type": "code",
   "execution_count": 12,
   "id": "e2af8d73-049d-4ad4-8345-65be8a91f367",
   "metadata": {},
   "outputs": [],
   "source": [
    "# Use to_numeric() to convert the 'object' dtype column to 'int' dtype\n",
    "books['year_publication'] = books['year_publication'].astype(str).astype(int)"
   ]
  },
  {
   "cell_type": "code",
   "execution_count": 13,
   "id": "5cf2b57c-5332-4ba6-a9cb-535bffe7f522",
   "metadata": {},
   "outputs": [
    {
     "data": {
      "text/html": [
       "<div>\n",
       "<style scoped>\n",
       "    .dataframe tbody tr th:only-of-type {\n",
       "        vertical-align: middle;\n",
       "    }\n",
       "\n",
       "    .dataframe tbody tr th {\n",
       "        vertical-align: top;\n",
       "    }\n",
       "\n",
       "    .dataframe thead th {\n",
       "        text-align: right;\n",
       "    }\n",
       "</style>\n",
       "<table border=\"1\" class=\"dataframe\">\n",
       "  <thead>\n",
       "    <tr style=\"text-align: right;\">\n",
       "      <th></th>\n",
       "      <th>isbn</th>\n",
       "      <th>book_title</th>\n",
       "      <th>book_author</th>\n",
       "      <th>year_publication</th>\n",
       "      <th>publisher</th>\n",
       "      <th>image_url_m</th>\n",
       "    </tr>\n",
       "  </thead>\n",
       "  <tbody>\n",
       "  </tbody>\n",
       "</table>\n",
       "</div>"
      ],
      "text/plain": [
       "Empty DataFrame\n",
       "Columns: [isbn, book_title, book_author, year_publication, publisher, image_url_m]\n",
       "Index: []"
      ]
     },
     "execution_count": 13,
     "metadata": {},
     "output_type": "execute_result"
    }
   ],
   "source": [
    "# Dublicate rows\n",
    "books[books.duplicated()]"
   ]
  },
  {
   "cell_type": "code",
   "execution_count": 14,
   "id": "31a4106c-a094-4f79-889e-8edad6672c19",
   "metadata": {},
   "outputs": [
    {
     "data": {
      "text/plain": [
       "count    271360.000000\n",
       "mean       1959.761273\n",
       "std         257.992836\n",
       "min           0.000000\n",
       "25%        1989.000000\n",
       "50%        1995.000000\n",
       "75%        2000.000000\n",
       "max        2050.000000\n",
       "Name: year_publication, dtype: float64"
      ]
     },
     "execution_count": 14,
     "metadata": {},
     "output_type": "execute_result"
    }
   ],
   "source": [
    "# Stat on year of publication\n",
    "# min = 0, max = 2050!\n",
    "\n",
    "books[\"year_publication\"].describe()"
   ]
  },
  {
   "cell_type": "code",
   "execution_count": 15,
   "id": "d3c52fa5-0489-4a0d-8f4e-7a34c207718b",
   "metadata": {},
   "outputs": [
    {
     "name": "stdout",
     "output_type": "stream",
     "text": [
      "[0, 1376, 1378, 1806, 1897, 1900, 1901, 1902, 1904, 1906, 1908, 1909, 1910, 1911, 1914, 1917, 1919, 1920, 1921, 1922, 1923, 1924, 1925, 1926, 1927, 1928, 1929, 1930, 1931, 1932, 1933, 1934, 1935, 1936, 1937, 1938, 1939, 1940, 1941, 1942, 1943, 1944, 1945, 1946, 1947, 1948, 1949, 1950, 1951, 1952, 1953, 1954, 1955, 1956, 1957, 1958, 1959, 1960, 1961, 1962, 1963, 1964, 1965, 1966, 1967, 1968, 1969, 1970, 1971, 1972, 1973, 1974, 1975, 1976, 1977, 1978, 1979, 1980, 1981, 1982, 1983, 1984, 1985, 1986, 1987, 1988, 1989, 1990, 1991, 1992, 1993, 1994, 1995, 1996, 1997, 1998, 1999, 2000, 2001, 2002, 2003, 2004, 2005, 2006, 2008, 2010, 2011, 2012, 2020, 2021, 2024, 2026, 2030, 2037, 2038, 2050]\n"
     ]
    }
   ],
   "source": [
    "# See the years of publication\n",
    "print(sorted(books['year_publication'].unique()))"
   ]
  },
  {
   "cell_type": "markdown",
   "id": "4023ab23-af0a-4bc6-9284-bfc31cacab57",
   "metadata": {},
   "source": [
    "Acknowledgements:\n",
    "\n",
    "Collected by Cai-Nicolas Ziegler in a 4-week crawl (August / September 2004) from the Book-Crossing community with kind permission from Ron Hornbaker, CTO of Humankind Systems. Contains 278,858 users (anonymized but with demographic information) providing 1,149,780 ratings (explicit / implicit) about 271,379 books."
   ]
  },
  {
   "cell_type": "code",
   "execution_count": 16,
   "id": "2ea8889f-c0bf-4aa1-b424-f732e0887d7f",
   "metadata": {},
   "outputs": [],
   "source": [
    "#However, the value 0 is invalid and as this dataset was published in 2004, we have assumed the the years after 2004 to be invalid \n",
    "\n",
    "#setting invalid years as NaN\n",
    "books.loc[(books['year_publication'] > 2004) | (books['year_publication'] == 0),'year_publication'] = np.NAN\n",
    "\n",
    "#replacing NaNs with mean value of yearOfPublication\n",
    "books['year_publication'].fillna(round(books['year_publication'].mean(), 0), inplace=True)\n",
    "\n",
    "#resetting the dtype\n",
    "books['year_publication'] = books['year_publication'].astype(int).astype(int)"
   ]
  },
  {
   "cell_type": "code",
   "execution_count": 17,
   "id": "ec7fea05-72f4-4a02-b263-838f23bbebf4",
   "metadata": {},
   "outputs": [
    {
     "name": "stdout",
     "output_type": "stream",
     "text": [
      "[1376, 1378, 1806, 1897, 1900, 1901, 1902, 1904, 1906, 1908, 1909, 1910, 1911, 1914, 1917, 1919, 1920, 1921, 1922, 1923, 1924, 1925, 1926, 1927, 1928, 1929, 1930, 1931, 1932, 1933, 1934, 1935, 1936, 1937, 1938, 1939, 1940, 1941, 1942, 1943, 1944, 1945, 1946, 1947, 1948, 1949, 1950, 1951, 1952, 1953, 1954, 1955, 1956, 1957, 1958, 1959, 1960, 1961, 1962, 1963, 1964, 1965, 1966, 1967, 1968, 1969, 1970, 1971, 1972, 1973, 1974, 1975, 1976, 1977, 1978, 1979, 1980, 1981, 1982, 1983, 1984, 1985, 1986, 1987, 1988, 1989, 1990, 1991, 1992, 1993, 1994, 1995, 1996, 1997, 1998, 1999, 2000, 2001, 2002, 2003, 2004]\n"
     ]
    }
   ],
   "source": [
    "# See the years of publication\n",
    "print(sorted(books['year_publication'].unique()))"
   ]
  },
  {
   "cell_type": "code",
   "execution_count": 18,
   "id": "f61d38d2-9ff8-4b58-ab2e-e2e4971c60ec",
   "metadata": {},
   "outputs": [
    {
     "data": {
      "text/plain": [
       "isbn                271360\n",
       "book_title          242135\n",
       "book_author         102021\n",
       "year_publication       101\n",
       "publisher            16804\n",
       "image_url_m         271044\n",
       "dtype: int64"
      ]
     },
     "execution_count": 18,
     "metadata": {},
     "output_type": "execute_result"
    }
   ],
   "source": [
    "# Count unique values\n",
    "books.nunique()"
   ]
  },
  {
   "cell_type": "markdown",
   "id": "f9c8968b-2c7d-415c-a0b9-7cea0eaffe91",
   "metadata": {},
   "source": [
    "**<font color='DarkBlue'>Ratings:</font>**\n",
    "____________"
   ]
  },
  {
   "cell_type": "code",
   "execution_count": 19,
   "id": "ddb40949-dfab-4f2b-a0f9-800f439b892c",
   "metadata": {},
   "outputs": [
    {
     "name": "stdout",
     "output_type": "stream",
     "text": [
      "<class 'pandas.core.frame.DataFrame'>\n",
      "RangeIndex: 1149780 entries, 0 to 1149779\n",
      "Data columns (total 3 columns):\n",
      " #   Column       Non-Null Count    Dtype \n",
      "---  ------       --------------    ----- \n",
      " 0   user_id      1149780 non-null  int64 \n",
      " 1   isbn         1149780 non-null  object\n",
      " 2   book_rating  1149780 non-null  int64 \n",
      "dtypes: int64(2), object(1)\n",
      "memory usage: 26.3+ MB\n"
     ]
    }
   ],
   "source": [
    "# summary of a DataFrame\n",
    "# 1149780  entries, 3 columns\n",
    "# no null values\n",
    "\n",
    "# Rename columns\n",
    "ratings.rename(columns={'User-ID': 'user_id', 'ISBN': 'isbn', 'Book-Rating': 'book_rating'}\n",
    "                     , inplace=True)\n",
    "\n",
    "ratings.info()"
   ]
  },
  {
   "cell_type": "code",
   "execution_count": 20,
   "id": "920a0d10-967d-4843-a75c-27fbeabde00a",
   "metadata": {},
   "outputs": [
    {
     "data": {
      "text/html": [
       "<div>\n",
       "<style scoped>\n",
       "    .dataframe tbody tr th:only-of-type {\n",
       "        vertical-align: middle;\n",
       "    }\n",
       "\n",
       "    .dataframe tbody tr th {\n",
       "        vertical-align: top;\n",
       "    }\n",
       "\n",
       "    .dataframe thead th {\n",
       "        text-align: right;\n",
       "    }\n",
       "</style>\n",
       "<table border=\"1\" class=\"dataframe\">\n",
       "  <thead>\n",
       "    <tr style=\"text-align: right;\">\n",
       "      <th></th>\n",
       "      <th>user_id</th>\n",
       "      <th>isbn</th>\n",
       "      <th>book_rating</th>\n",
       "    </tr>\n",
       "  </thead>\n",
       "  <tbody>\n",
       "  </tbody>\n",
       "</table>\n",
       "</div>"
      ],
      "text/plain": [
       "Empty DataFrame\n",
       "Columns: [user_id, isbn, book_rating]\n",
       "Index: []"
      ]
     },
     "execution_count": 20,
     "metadata": {},
     "output_type": "execute_result"
    }
   ],
   "source": [
    "# Dublicate rows\n",
    "ratings[ratings.duplicated()]"
   ]
  },
  {
   "cell_type": "code",
   "execution_count": 21,
   "id": "035d8f4b-6f44-4cc7-ae1a-e0127d1945de",
   "metadata": {},
   "outputs": [
    {
     "name": "stdout",
     "output_type": "stream",
     "text": [
      "(1031136, 3)\n"
     ]
    }
   ],
   "source": [
    "# ratings dataset should have books only which exist in our books dataset, unless new books are added to books dataset\n",
    "ratings = ratings[ratings.isbn.isin(books.isbn)]\n",
    "\n",
    "# it can be seen that many rows having book ISBN not part of books dataset got dropped off\n",
    "# Before: 1,149,780 --> Now: 1,031,136\n",
    "print(ratings.shape)"
   ]
  },
  {
   "cell_type": "code",
   "execution_count": 22,
   "id": "a3d96cd0-94a0-432a-a00c-96cf5c741947",
   "metadata": {},
   "outputs": [
    {
     "data": {
      "text/plain": [
       "(1031136, 3)"
      ]
     },
     "execution_count": 22,
     "metadata": {},
     "output_type": "execute_result"
    }
   ],
   "source": [
    "#ratings dataset should have ratings from users which exist in users dataset, unless new users are added to users dataset\n",
    "ratings = ratings[ratings['user_id'].isin(users['User-ID'])]\n",
    "\n",
    "#no new users added, hence we will go with above dataset ratings_new (1031136, 3)\n",
    "ratings.shape"
   ]
  },
  {
   "cell_type": "markdown",
   "id": "8998b096-53b9-498e-ac00-ce0b5ef62ab7",
   "metadata": {},
   "source": [
    "Ratings (Book-Rating) are either explicit, expressed on a scale from 1-10 (higher values denoting higher appreciation), or implicit, expressed by 0."
   ]
  },
  {
   "cell_type": "code",
   "execution_count": 23,
   "id": "c134004d-02cd-44f5-b2ff-412b640a427b",
   "metadata": {},
   "outputs": [
    {
     "name": "stdout",
     "output_type": "stream",
     "text": [
      "[0, 1, 2, 3, 4, 5, 6, 7, 8, 9, 10]\n"
     ]
    }
   ],
   "source": [
    "# See the ratings\n",
    "print(sorted(ratings['book_rating'].unique()))"
   ]
  },
  {
   "cell_type": "code",
   "execution_count": 24,
   "id": "70c42888-6bdd-41fe-bec1-9520e4805d47",
   "metadata": {},
   "outputs": [
    {
     "data": {
      "text/html": [
       "<div>\n",
       "<style scoped>\n",
       "    .dataframe tbody tr th:only-of-type {\n",
       "        vertical-align: middle;\n",
       "    }\n",
       "\n",
       "    .dataframe tbody tr th {\n",
       "        vertical-align: top;\n",
       "    }\n",
       "\n",
       "    .dataframe thead th {\n",
       "        text-align: right;\n",
       "    }\n",
       "</style>\n",
       "<table border=\"1\" class=\"dataframe\">\n",
       "  <thead>\n",
       "    <tr style=\"text-align: right;\">\n",
       "      <th></th>\n",
       "      <th>count</th>\n",
       "    </tr>\n",
       "    <tr>\n",
       "      <th>book_rating</th>\n",
       "      <th></th>\n",
       "    </tr>\n",
       "  </thead>\n",
       "  <tbody>\n",
       "    <tr>\n",
       "      <th>0</th>\n",
       "      <td>647294</td>\n",
       "    </tr>\n",
       "    <tr>\n",
       "      <th>1</th>\n",
       "      <td>1481</td>\n",
       "    </tr>\n",
       "    <tr>\n",
       "      <th>2</th>\n",
       "      <td>2375</td>\n",
       "    </tr>\n",
       "    <tr>\n",
       "      <th>3</th>\n",
       "      <td>5118</td>\n",
       "    </tr>\n",
       "    <tr>\n",
       "      <th>4</th>\n",
       "      <td>7617</td>\n",
       "    </tr>\n",
       "    <tr>\n",
       "      <th>5</th>\n",
       "      <td>45355</td>\n",
       "    </tr>\n",
       "    <tr>\n",
       "      <th>6</th>\n",
       "      <td>31687</td>\n",
       "    </tr>\n",
       "    <tr>\n",
       "      <th>7</th>\n",
       "      <td>66402</td>\n",
       "    </tr>\n",
       "    <tr>\n",
       "      <th>8</th>\n",
       "      <td>91804</td>\n",
       "    </tr>\n",
       "    <tr>\n",
       "      <th>9</th>\n",
       "      <td>60778</td>\n",
       "    </tr>\n",
       "    <tr>\n",
       "      <th>10</th>\n",
       "      <td>71225</td>\n",
       "    </tr>\n",
       "  </tbody>\n",
       "</table>\n",
       "</div>"
      ],
      "text/plain": [
       "              count\n",
       "book_rating        \n",
       "0            647294\n",
       "1              1481\n",
       "2              2375\n",
       "3              5118\n",
       "4              7617\n",
       "5             45355\n",
       "6             31687\n",
       "7             66402\n",
       "8             91804\n",
       "9             60778\n",
       "10            71225"
      ]
     },
     "execution_count": 24,
     "metadata": {},
     "output_type": "execute_result"
    }
   ],
   "source": [
    "# Count the rathings\n",
    "rtngs = ratings.groupby(['book_rating']).agg({\n",
    "    'book_rating': [('count')]})\n",
    "\n",
    "rtngs.columns = rtngs.columns.droplevel(level=0)\n",
    "rtngs"
   ]
  },
  {
   "cell_type": "code",
   "execution_count": 25,
   "id": "139261e1-ce22-43ec-8f06-ccf8c677b648",
   "metadata": {},
   "outputs": [],
   "source": [
    "# segragating implicit and explict ratings datasets\n",
    "ratings_explicit = ratings[ratings['book_rating'] != 0]\n",
    "ratings_implicit = ratings[ratings['book_rating'] == 0]"
   ]
  },
  {
   "cell_type": "markdown",
   "id": "541113ae-50d1-483e-9779-8e92c23f7a04",
   "metadata": {},
   "source": [
    "**<font color='DarkBlue'>Users:</font>**\n",
    "__________"
   ]
  },
  {
   "cell_type": "code",
   "execution_count": 26,
   "id": "070c0d92-63b4-4e43-9b90-d3ea4d534d68",
   "metadata": {},
   "outputs": [
    {
     "name": "stdout",
     "output_type": "stream",
     "text": [
      "<class 'pandas.core.frame.DataFrame'>\n",
      "RangeIndex: 278858 entries, 0 to 278857\n",
      "Data columns (total 3 columns):\n",
      " #   Column    Non-Null Count   Dtype  \n",
      "---  ------    --------------   -----  \n",
      " 0   user_id   278858 non-null  int64  \n",
      " 1   location  278858 non-null  object \n",
      " 2   age       168096 non-null  float64\n",
      "dtypes: float64(1), int64(1), object(1)\n",
      "memory usage: 6.4+ MB\n"
     ]
    }
   ],
   "source": [
    "# summary of a DataFrame\n",
    "# 278858 entries, 3 columns\n",
    "# Age: nul values\n",
    "\n",
    "# Rename columns\n",
    "users.rename(columns={'User-ID': 'user_id', 'Location': 'location', 'Age': 'age'}\n",
    "                     , inplace=True)\n",
    "\n",
    "users.info()"
   ]
  },
  {
   "cell_type": "code",
   "execution_count": 27,
   "id": "be675b91-e199-46b6-8093-795f47a5de4d",
   "metadata": {},
   "outputs": [
    {
     "data": {
      "text/html": [
       "<div>\n",
       "<style scoped>\n",
       "    .dataframe tbody tr th:only-of-type {\n",
       "        vertical-align: middle;\n",
       "    }\n",
       "\n",
       "    .dataframe tbody tr th {\n",
       "        vertical-align: top;\n",
       "    }\n",
       "\n",
       "    .dataframe thead th {\n",
       "        text-align: right;\n",
       "    }\n",
       "</style>\n",
       "<table border=\"1\" class=\"dataframe\">\n",
       "  <thead>\n",
       "    <tr style=\"text-align: right;\">\n",
       "      <th></th>\n",
       "      <th>user_id</th>\n",
       "      <th>location</th>\n",
       "      <th>age</th>\n",
       "    </tr>\n",
       "  </thead>\n",
       "  <tbody>\n",
       "  </tbody>\n",
       "</table>\n",
       "</div>"
      ],
      "text/plain": [
       "Empty DataFrame\n",
       "Columns: [user_id, location, age]\n",
       "Index: []"
      ]
     },
     "execution_count": 27,
     "metadata": {},
     "output_type": "execute_result"
    }
   ],
   "source": [
    "# Dublicate rows\n",
    "users[users.duplicated()]"
   ]
  },
  {
   "cell_type": "code",
   "execution_count": 28,
   "id": "06898704-00c8-4675-b7cc-6e40108db2d1",
   "metadata": {},
   "outputs": [
    {
     "name": "stdout",
     "output_type": "stream",
     "text": [
      "[nan, 0.0, 1.0, 2.0, 3.0, 4.0, 5.0, 6.0, 7.0, 8.0, 9.0, 10.0, 11.0, 12.0, 13.0, 14.0, 15.0, 16.0, 17.0, 18.0, 19.0, 20.0, 21.0, 22.0, 23.0, 24.0, 25.0, 26.0, 27.0, 28.0, 29.0, 30.0, 31.0, 32.0, 33.0, 34.0, 35.0, 36.0, 37.0, 38.0, 39.0, 40.0, 41.0, 42.0, 43.0, 44.0, 45.0, 46.0, 47.0, 48.0, 49.0, 50.0, 51.0, 52.0, 53.0, 54.0, 55.0, 56.0, 57.0, 58.0, 59.0, 60.0, 61.0, 62.0, 63.0, 64.0, 65.0, 66.0, 67.0, 68.0, 69.0, 70.0, 71.0, 72.0, 73.0, 74.0, 75.0, 76.0, 77.0, 78.0, 79.0, 80.0, 81.0, 82.0, 83.0, 84.0, 85.0, 86.0, 87.0, 88.0, 89.0, 90.0, 91.0, 92.0, 93.0, 94.0, 95.0, 96.0, 97.0, 98.0, 99.0, 100.0, 101.0, 102.0, 103.0, 104.0, 105.0, 106.0, 107.0, 108.0, 109.0, 110.0, 111.0, 113.0, 114.0, 115.0, 116.0, 118.0, 119.0, 123.0, 124.0, 127.0, 128.0, 132.0, 133.0, 136.0, 137.0, 138.0, 140.0, 141.0, 143.0, 146.0, 147.0, 148.0, 151.0, 152.0, 156.0, 157.0, 159.0, 162.0, 168.0, 172.0, 175.0, 183.0, 186.0, 189.0, 199.0, 200.0, 201.0, 204.0, 207.0, 208.0, 209.0, 210.0, 212.0, 219.0, 220.0, 223.0, 226.0, 228.0, 229.0, 230.0, 231.0, 237.0, 239.0, 244.0]\n"
     ]
    }
   ],
   "source": [
    "# See the age\n",
    "print(sorted(users['age'].unique()))"
   ]
  },
  {
   "cell_type": "code",
   "execution_count": 29,
   "id": "a7077844-83cc-4942-991c-4082dd7c08cf",
   "metadata": {},
   "outputs": [],
   "source": [
    "# In my view values below 8 and above 180 do not make much sense for our book rating case...hence replacing these by NaNs\n",
    "users.loc[(users.age > 100) | (users.age < 8), 'age'] = np.nan\n",
    "\n",
    "#replacing NaNs with mean\n",
    "users.age = users.age.fillna(users.age.mean())\n",
    "\n",
    "#setting the data type as int\n",
    "users.age = users.age.astype(np.int32)"
   ]
  },
  {
   "cell_type": "code",
   "execution_count": 30,
   "id": "093a0b6d-29ab-4f34-98b3-fe6aac27d189",
   "metadata": {},
   "outputs": [
    {
     "name": "stdout",
     "output_type": "stream",
     "text": [
      "[8, 9, 10, 11, 12, 13, 14, 15, 16, 17, 18, 19, 20, 21, 22, 23, 24, 25, 26, 27, 28, 29, 30, 31, 32, 33, 34, 35, 36, 37, 38, 39, 40, 41, 42, 43, 44, 45, 46, 47, 48, 49, 50, 51, 52, 53, 54, 55, 56, 57, 58, 59, 60, 61, 62, 63, 64, 65, 66, 67, 68, 69, 70, 71, 72, 73, 74, 75, 76, 77, 78, 79, 80, 81, 82, 83, 84, 85, 86, 87, 88, 89, 90, 91, 92, 93, 94, 95, 96, 97, 98, 99, 100]\n"
     ]
    }
   ],
   "source": [
    "# See the age\n",
    "print(sorted(users['age'].unique()))"
   ]
  },
  {
   "cell_type": "code",
   "execution_count": 31,
   "id": "9183e97f-5be1-439f-903b-a57a4951a802",
   "metadata": {},
   "outputs": [
    {
     "data": {
      "text/html": [
       "<div>\n",
       "<style scoped>\n",
       "    .dataframe tbody tr th:only-of-type {\n",
       "        vertical-align: middle;\n",
       "    }\n",
       "\n",
       "    .dataframe tbody tr th {\n",
       "        vertical-align: top;\n",
       "    }\n",
       "\n",
       "    .dataframe thead th {\n",
       "        text-align: right;\n",
       "    }\n",
       "</style>\n",
       "<table border=\"1\" class=\"dataframe\">\n",
       "  <thead>\n",
       "    <tr style=\"text-align: right;\">\n",
       "      <th></th>\n",
       "      <th>user_id</th>\n",
       "      <th>location</th>\n",
       "      <th>age</th>\n",
       "      <th>country</th>\n",
       "    </tr>\n",
       "  </thead>\n",
       "  <tbody>\n",
       "    <tr>\n",
       "      <th>0</th>\n",
       "      <td>1</td>\n",
       "      <td>nyc, new york, usa</td>\n",
       "      <td>34</td>\n",
       "      <td>usa</td>\n",
       "    </tr>\n",
       "    <tr>\n",
       "      <th>1</th>\n",
       "      <td>2</td>\n",
       "      <td>stockton, california, usa</td>\n",
       "      <td>18</td>\n",
       "      <td>usa</td>\n",
       "    </tr>\n",
       "    <tr>\n",
       "      <th>2</th>\n",
       "      <td>3</td>\n",
       "      <td>moscow, yukon territory, russia</td>\n",
       "      <td>34</td>\n",
       "      <td>russia</td>\n",
       "    </tr>\n",
       "    <tr>\n",
       "      <th>3</th>\n",
       "      <td>4</td>\n",
       "      <td>porto, v.n.gaia, portugal</td>\n",
       "      <td>17</td>\n",
       "      <td>portugal</td>\n",
       "    </tr>\n",
       "    <tr>\n",
       "      <th>4</th>\n",
       "      <td>5</td>\n",
       "      <td>farnborough, hants, united kingdom</td>\n",
       "      <td>34</td>\n",
       "      <td>united kingdom</td>\n",
       "    </tr>\n",
       "  </tbody>\n",
       "</table>\n",
       "</div>"
      ],
      "text/plain": [
       "   user_id                            location  age          country\n",
       "0        1                  nyc, new york, usa   34              usa\n",
       "1        2           stockton, california, usa   18              usa\n",
       "2        3     moscow, yukon territory, russia   34           russia\n",
       "3        4           porto, v.n.gaia, portugal   17         portugal\n",
       "4        5  farnborough, hants, united kingdom   34   united kingdom"
      ]
     },
     "execution_count": 31,
     "metadata": {},
     "output_type": "execute_result"
    }
   ],
   "source": [
    "# Assign the countries to the dataset\n",
    "\n",
    "countries = []\n",
    "cond = users['location'].str.split(',')\n",
    "\n",
    "for cont in cond:\n",
    "    countries.append(cont[-1])\n",
    "\n",
    "users['country'] = countries\n",
    "users.head()"
   ]
  },
  {
   "cell_type": "code",
   "execution_count": 32,
   "id": "8d097004-f51b-4cca-a406-e3f1f6fb5b5c",
   "metadata": {},
   "outputs": [
    {
     "data": {
      "application/vnd.jupyter.widget-view+json": {
       "model_id": "2979fe1033ef46138bf9353cb2738654",
       "version_major": 2,
       "version_minor": 0
      },
      "text/plain": [
       "  0%|                                                     | 0/8 [00:00<?, ?it/s]"
      ]
     },
     "metadata": {},
     "output_type": "display_data"
    },
    {
     "name": "stdout",
     "output_type": "stream",
     "text": [
      "Country Cleaning Report:\n",
      "\t274226 values cleaned (98.34%)\n",
      "\t37 values unable to be parsed (0.01%), set to NaN\n",
      "Result contains 274226 (98.34%) values in the correct format and 4632 null values (1.66%)\n"
     ]
    },
    {
     "data": {
      "text/html": [
       "<div>\n",
       "<style scoped>\n",
       "    .dataframe tbody tr th:only-of-type {\n",
       "        vertical-align: middle;\n",
       "    }\n",
       "\n",
       "    .dataframe tbody tr th {\n",
       "        vertical-align: top;\n",
       "    }\n",
       "\n",
       "    .dataframe thead th {\n",
       "        text-align: right;\n",
       "    }\n",
       "</style>\n",
       "<table border=\"1\" class=\"dataframe\">\n",
       "  <thead>\n",
       "    <tr style=\"text-align: right;\">\n",
       "      <th></th>\n",
       "      <th>country</th>\n",
       "      <th>country_clean</th>\n",
       "    </tr>\n",
       "  </thead>\n",
       "  <tbody>\n",
       "    <tr>\n",
       "      <th>0</th>\n",
       "      <td>usa</td>\n",
       "      <td>United States</td>\n",
       "    </tr>\n",
       "    <tr>\n",
       "      <th>2</th>\n",
       "      <td>russia</td>\n",
       "      <td>Russia</td>\n",
       "    </tr>\n",
       "    <tr>\n",
       "      <th>3</th>\n",
       "      <td>portugal</td>\n",
       "      <td>Portugal</td>\n",
       "    </tr>\n",
       "    <tr>\n",
       "      <th>4</th>\n",
       "      <td>united kingdom</td>\n",
       "      <td>United Kingdom</td>\n",
       "    </tr>\n",
       "    <tr>\n",
       "      <th>7</th>\n",
       "      <td>canada</td>\n",
       "      <td>Canada</td>\n",
       "    </tr>\n",
       "  </tbody>\n",
       "</table>\n",
       "</div>"
      ],
      "text/plain": [
       "           country   country_clean\n",
       "0              usa   United States\n",
       "2           russia          Russia\n",
       "3         portugal        Portugal\n",
       "4   united kingdom  United Kingdom\n",
       "7           canada          Canada"
      ]
     },
     "execution_count": 32,
     "metadata": {},
     "output_type": "execute_result"
    }
   ],
   "source": [
    "# Create a DataFrame with one column\n",
    "country = pd.DataFrame(users, columns=['country'])\n",
    "\n",
    "# https://docs.dataprep.ai/user_guide/clean/clean_country.html#:~:text=The%20function%20clean_country()%20cleans,is%20valid%2C%20and%20False%20otherwise.\n",
    "country_clean = clean_country(country, \"country\", fuzzy_dist=2)\n",
    "\n",
    "# Drop duplicate\n",
    "country_clean = country_clean.drop_duplicates()\n",
    "country_clean.head()"
   ]
  },
  {
   "cell_type": "code",
   "execution_count": 33,
   "id": "47d5fcd3-0e9d-45f0-9fbf-2aefd7a42fbb",
   "metadata": {},
   "outputs": [
    {
     "name": "stdout",
     "output_type": "stream",
     "text": [
      "<class 'pandas.core.frame.DataFrame'>\n",
      "RangeIndex: 278858 entries, 0 to 278857\n",
      "Data columns (total 3 columns):\n",
      " #   Column   Non-Null Count   Dtype \n",
      "---  ------   --------------   ----- \n",
      " 0   user_id  278858 non-null  int64 \n",
      " 1   age      278858 non-null  int32 \n",
      " 2   country  278858 non-null  object\n",
      "dtypes: int32(1), int64(1), object(1)\n",
      "memory usage: 5.3+ MB\n"
     ]
    }
   ],
   "source": [
    "users = users.join(country_clean.set_index('country'), on='country')\n",
    "\n",
    "# drop Location & Country column and rename country_clean\n",
    "users = users.drop(['location', 'country'], axis=1)\n",
    "users = users.rename(columns={'country_clean': 'country'})\n",
    "\n",
    "# Fill unknown for null values\n",
    "users['country'].fillna('Unknown', inplace=True)\n",
    "users.info()"
   ]
  },
  {
   "cell_type": "code",
   "execution_count": 34,
   "id": "1f3101ed-e9be-449b-9573-b9886a566803",
   "metadata": {},
   "outputs": [
    {
     "name": "stdout",
     "output_type": "stream",
     "text": [
      "['Afghanistan', 'Aland Islands', 'Albania', 'Algeria', 'American Samoa', 'Andorra', 'Angola', 'Antarctica', 'Antigua and Barbuda', 'Argentina', 'Armenia', 'Aruba', 'Australia', 'Austria', 'Azerbaijan', 'Bahamas', 'Bahrain', 'Bangladesh', 'Barbados', 'Belarus', 'Belgium', 'Belize', 'Benin', 'Bermuda', 'Bhutan', 'Bolivia', 'Bosnia and Herzegovina', 'Botswana', 'Brazil', 'British Virgin Islands', 'Brunei Darussalam', 'Bulgaria', 'Burkina Faso', 'Cabo Verde', 'Cambodia', 'Cameroon', 'Canada', 'Cayman Islands', 'Chad', 'Channel Islands', 'Chile', 'China', 'Cocos (Keeling) Islands', 'Colombia', 'Comoros', 'Congo Republic', 'Cook Islands', 'Costa Rica', \"Cote d'Ivoire\", 'Croatia', 'Cuba', 'Cyprus', 'Czech Republic', 'DR Congo', 'Denmark', 'Djibouti', 'Dominica', 'Dominican Republic', 'Ecuador', 'Egypt', 'El Salvador', 'Equatorial Guinea', 'Eritrea', 'Estonia', 'Eswatini', 'Ethiopia', 'Faeroe Islands', 'Fiji', 'Finland', 'France', 'Gabon', 'Gambia', 'Georgia', 'Germany', 'Ghana', 'Greece', 'Grenada', 'Guam', 'Guatemala', 'Guernsey', 'Guinea', 'Guinea-Bissau', 'Guyana', 'Haiti', 'Honduras', 'Hong Kong', 'Hungary', 'Iceland', 'India', 'Indonesia', 'Iran', 'Iraq', 'Ireland', 'Isle of Man', 'Israel', 'Italy', 'Jamaica', 'Japan', 'Jersey', 'Jordan', 'Kazakhstan', 'Kenya', 'Kiribati', 'Kosovo', 'Kuwait', 'Kyrgyz Republic', 'Laos', 'Latvia', 'Lebanon', 'Lesotho', 'Liberia', 'Libya', 'Lithuania', 'Luxembourg', 'Macau', 'Macedonia', 'Madagascar', 'Malawi', 'Malaysia', 'Maldives', 'Mali', 'Malta', 'Marshall Islands', 'Mauritania', 'Mauritius', 'Mexico', 'Micronesia, Fed. Sts.', 'Moldova', 'Monaco', 'Mongolia', 'Morocco', 'Mozambique', 'Myanmar', 'Namibia', 'Nepal', 'Netherlands', 'Netherlands Antilles', 'New Zealand', 'Nicaragua', 'Niger', 'Nigeria', 'Niue', 'North Korea', 'Northern Mariana Islands', 'Norway', 'Oman', 'Pakistan', 'Palau', 'Palestine', 'Panama', 'Papua New Guinea', 'Paraguay', 'Peru', 'Philippines', 'Poland', 'Portugal', 'Puerto Rico', 'Qatar', 'Romania', 'Russia', 'Rwanda', 'Samoa', 'San Marino', 'Sao Tome and Principe', 'Saudi Arabia', 'Senegal', 'Serbia', 'Sierra Leone', 'Singapore', 'Slovakia', 'Slovenia', 'Solomon Islands', 'Somalia', 'South Africa', 'South Korea', 'Soviet Union (former)', 'Spain', 'Sri Lanka', 'St. Helena', 'St. Kitts and Nevis', 'St. Lucia', 'St. Vincent and the Grenadines', 'Sudan', 'Suriname', 'Sweden', 'Switzerland', 'Syria', 'Taiwan', 'Tajikistan', 'Tanzania', 'Thailand', 'Togo', 'Tonga', 'Trinidad and Tobago', 'Tunisia', 'Turkey', 'Turkmenistan', 'Uganda', 'Ukraine', 'United Arab Emirates', 'United Kingdom', 'United States', 'United States Virgin Islands', 'Unknown', 'Uruguay', 'Uzbekistan', 'Vanuatu', 'Vatican', 'Venezuela', 'Vietnam', 'Yemen', 'Zambia', 'Zanzibar', 'Zimbabwe']\n"
     ]
    }
   ],
   "source": [
    "# See the countries\n",
    "print(sorted(users['country'].unique()))"
   ]
  },
  {
   "cell_type": "markdown",
   "id": "01ef8488-e0d6-43da-926b-97a5d10ec2ea",
   "metadata": {},
   "source": [
    "## **<font color='DarkBlue'>Data Exploration</font>**"
   ]
  },
  {
   "cell_type": "markdown",
   "id": "e26e6115-a0f7-495d-9ee3-2ed62bdac508",
   "metadata": {},
   "source": [
    "**<font color='DarkBlue'>Books:</font>**\n",
    "__________"
   ]
  },
  {
   "cell_type": "code",
   "execution_count": 35,
   "id": "ab5f904f-cd72-4a01-8bf4-d42c32025571",
   "metadata": {},
   "outputs": [
    {
     "name": "stderr",
     "output_type": "stream",
     "text": [
      "The unique number of books: 271360\n"
     ]
    }
   ],
   "source": [
    "logger.info(f'The unique number of books: {books[\"isbn\"].nunique()}')"
   ]
  },
  {
   "cell_type": "code",
   "execution_count": 36,
   "id": "7147574b-91bd-4efe-b93e-43dd034e8966",
   "metadata": {},
   "outputs": [
    {
     "data": {
      "image/png": "[encoded data removed]",
      "text/plain": [
       "<Figure size 600x200 with 1 Axes>"
      ]
     },
     "metadata": {},
     "output_type": "display_data"
    }
   ],
   "source": [
    "pop_author = books.groupby(['book_author']).agg({\n",
    "    'book_author': [('count')]\n",
    "})\n",
    "\n",
    "pop_author.columns = pop_author.columns.droplevel(level=0)\n",
    "pop5_author = pop_author.sort_values(by='count', ascending=False).head(5)\n",
    "\n",
    "fig = plt.figure(figsize=(6,2))\n",
    "ax = fig.add_axes([0,0,1,1])\n",
    "author = pop5_author.index\n",
    "cnt = pop5_author['count']\n",
    "ax.barh(author, cnt)\n",
    "\n",
    "plt.gca().invert_yaxis()\n",
    "\n",
    "# Set the tick locations and labels\n",
    "current_values = plt.gca().get_xticks()\n",
    "tick_locations = [0, 100, 200, 300, 400, 500, 600, 700] \n",
    "ax.set_xticks(tick_locations)\n",
    "#ax.set_xticklabels(['{:,.0f}'.format(x) for x in tick_locations])\n",
    "\n",
    "for i, v in enumerate(cnt):\n",
    "    ax.text(v + 2, i + .15, str(v), color='dimgray')\n",
    "\n",
    "# Set the title and axis labels\n",
    "plt.title('Top 5: Author', fontsize=14)\n",
    "plt.ylabel('Author', fontsize=10)\n",
    "plt.xlabel('Count', fontsize=10)\n",
    "\n",
    "plt.show()"
   ]
  },
  {
   "cell_type": "code",
   "execution_count": 37,
   "id": "18dbbf94-606e-4862-81ac-fd5f57170ae7",
   "metadata": {},
   "outputs": [
    {
     "data": {
      "image/png": "[encoded data removed]",
      "text/plain": [
       "<Figure size 600x200 with 1 Axes>"
      ]
     },
     "metadata": {},
     "output_type": "display_data"
    }
   ],
   "source": [
    "pop_publisher = books.groupby(['publisher']).agg({\n",
    "    'publisher': [('count')]\n",
    "})\n",
    "\n",
    "pop_publisher.columns = pop_publisher.columns.droplevel(level=0)\n",
    "pop5_publisher = pop_publisher.sort_values(by='count', ascending=False).head(5)\n",
    "\n",
    "fig = plt.figure(figsize=(6,2))\n",
    "ax = fig.add_axes([0,0,1,1])\n",
    "publisher = pop5_publisher.index\n",
    "cnt = pop5_publisher['count']\n",
    "ax.barh(publisher, cnt)\n",
    "\n",
    "plt.gca().invert_yaxis()\n",
    "\n",
    "# Set the tick locations and labels\n",
    "current_values = plt.gca().get_xticks()\n",
    "tick_locations = [1000, 2000, 3000, 4000, 5000, 6000, 7000, 8000] \n",
    "ax.set_xticks(tick_locations)\n",
    "#ax.set_xticklabels(['{:,.0f}'.format(x) for x in tick_locations])\n",
    "\n",
    "for i, v in enumerate(cnt):\n",
    "    ax.text(v + 10, i + .15, str(v), color='dimgray')\n",
    "\n",
    "# Set the title and axis labels\n",
    "plt.title('Top 5: Publisher', fontsize=14)\n",
    "plt.ylabel('Publisher', fontsize=10)\n",
    "plt.xlabel('Count', fontsize=10)\n",
    "\n",
    "plt.show()"
   ]
  },
  {
   "cell_type": "code",
   "execution_count": 38,
   "id": "f6578ce7-391b-403f-9e34-6641d665a9a2",
   "metadata": {},
   "outputs": [
    {
     "data": {
      "image/png": "[encoded data removed]",
      "text/plain": [
       "<Figure size 800x200 with 1 Axes>"
      ]
     },
     "metadata": {},
     "output_type": "display_data"
    }
   ],
   "source": [
    "pop_year = books.groupby(['year_publication']).agg({\n",
    "    'year_publication': [('count')]\n",
    "})\n",
    "\n",
    "pop_year.columns = pop_year.columns.droplevel(level=0)\n",
    "pop_year = pop_year.sort_values(by='year_publication', ascending=False)\n",
    "\n",
    "pop_year_1 = pop_year[pop_year.index >= 1970]\n",
    "\n",
    "fig = plt.figure(figsize=(8,2))\n",
    "ax = fig.add_axes([0,0,1,1])\n",
    "year = pop_year_1.index\n",
    "cnt = pop_year_1['count']\n",
    "ax.bar(year, cnt)\n",
    "\n",
    "# Set the title and axis labels\n",
    "plt.title('Year of Publication', fontsize=14)\n",
    "plt.ylabel('Count', fontsize=10)\n",
    "plt.xlabel('Year', fontsize=10)\n",
    "\n",
    "plt.show()"
   ]
  },
  {
   "cell_type": "markdown",
   "id": "d6ef11c3-6885-442d-991f-77c0339eb1b2",
   "metadata": {},
   "source": [
    "**<font color='DarkBlue'>Ratings:</font>**\n",
    "____________"
   ]
  },
  {
   "cell_type": "code",
   "execution_count": 39,
   "id": "cc1f7a18-0d3c-4b79-a3e1-ed1ec436583c",
   "metadata": {},
   "outputs": [
    {
     "data": {
      "text/html": [
       "<div>\n",
       "<style scoped>\n",
       "    .dataframe tbody tr th:only-of-type {\n",
       "        vertical-align: middle;\n",
       "    }\n",
       "\n",
       "    .dataframe tbody tr th {\n",
       "        vertical-align: top;\n",
       "    }\n",
       "\n",
       "    .dataframe thead th {\n",
       "        text-align: right;\n",
       "    }\n",
       "</style>\n",
       "<table border=\"1\" class=\"dataframe\">\n",
       "  <thead>\n",
       "    <tr style=\"text-align: right;\">\n",
       "      <th></th>\n",
       "      <th>user_id</th>\n",
       "      <th>isbn</th>\n",
       "      <th>count</th>\n",
       "    </tr>\n",
       "  </thead>\n",
       "  <tbody>\n",
       "    <tr>\n",
       "      <th>0</th>\n",
       "      <td>2</td>\n",
       "      <td>0195153448</td>\n",
       "      <td>1</td>\n",
       "    </tr>\n",
       "    <tr>\n",
       "      <th>687428</th>\n",
       "      <td>188343</td>\n",
       "      <td>0439544165</td>\n",
       "      <td>1</td>\n",
       "    </tr>\n",
       "  </tbody>\n",
       "</table>\n",
       "</div>"
      ],
      "text/plain": [
       "        user_id        isbn  count\n",
       "0             2  0195153448      1\n",
       "687428   188343  0439544165      1"
      ]
     },
     "execution_count": 39,
     "metadata": {},
     "output_type": "execute_result"
    }
   ],
   "source": [
    "# implicit & explicit rating is 1 by user by book\n",
    "# I don't have the definition for implicit rating but maybe is buy/read a book and user don't rating this one\n",
    "\n",
    "grouped_counts = ratings.groupby(['user_id', 'isbn']).size().reset_index(name='count')\n",
    "grouped_counts.sort_values(by='count', ascending=False).head(2)"
   ]
  },
  {
   "cell_type": "code",
   "execution_count": 40,
   "id": "36342295-3f44-4d45-8ed6-2f15ed9625f6",
   "metadata": {},
   "outputs": [
    {
     "data": {
      "text/plain": [
       "(1031136, 3)"
      ]
     },
     "execution_count": 40,
     "metadata": {},
     "output_type": "execute_result"
    }
   ],
   "source": [
    "grouped_counts.shape"
   ]
  },
  {
   "cell_type": "code",
   "execution_count": 41,
   "id": "04f675ea-b582-4aa8-b69a-570a1347ace0",
   "metadata": {},
   "outputs": [
    {
     "name": "stdout",
     "output_type": "stream",
     "text": [
      "No Rathing = 647294\n",
      "Rating [1, 10] = 383842\n"
     ]
    }
   ],
   "source": [
    "# Create column for count the rathings\n",
    "cnt_rating = ratings['book_rating'].apply(lambda x: 'No Rating' if x == 0 else 'Rating [1, 10]')\n",
    "\n",
    "print(\"No Rathing = \" + str(cnt_rating.value_counts()['No Rating']))\n",
    "print(\"Rating [1, 10] = \" + str(cnt_rating.value_counts()['Rating [1, 10]']))"
   ]
  },
  {
   "cell_type": "code",
   "execution_count": 42,
   "id": "acb3c859-2390-43a6-9c38-27672aa169aa",
   "metadata": {},
   "outputs": [
    {
     "data": {
      "image/png": "[encoded data removed]",
      "text/plain": [
       "<Figure size 400x400 with 1 Axes>"
      ]
     },
     "metadata": {},
     "output_type": "display_data"
    }
   ],
   "source": [
    "# Create pie chart for No Rating / Rating\n",
    "\n",
    "plt.figure(figsize=(4,4))\n",
    "plt.pie(cnt_rating.value_counts(),\n",
    "        labels=['Implicit: [0]','Explicit: [1, 10]'],\n",
    "        colors=['gainsboro','lightblue'],\n",
    "        wedgeprops={\"edgecolor\":\"black\",'linewidth': 1, 'antialiased': True},\n",
    "        autopct='%.2f%%')\n",
    "plt.gca().set_aspect('equal') \n",
    "plt.title('Rating percentage', fontsize=14)\n",
    "plt.show()"
   ]
  },
  {
   "cell_type": "markdown",
   "id": "c7f0f094-87a8-4079-ad6b-f519af34a6b2",
   "metadata": {},
   "source": [
    "Explicit Ratings:"
   ]
  },
  {
   "cell_type": "code",
   "execution_count": 43,
   "id": "3278f199-4dac-45f3-9863-a7180e878587",
   "metadata": {},
   "outputs": [
    {
     "data": {
      "image/png": "[encoded data removed]",
      "text/plain": [
       "<Figure size 640x480 with 1 Axes>"
      ]
     },
     "metadata": {},
     "output_type": "display_data"
    }
   ],
   "source": [
    "# Specify the number of bins and calculate bin edges\n",
    "num_bins = 10  # You can adjust this as needed\n",
    "hist, bin_edges = np.histogram(ratings_explicit['book_rating'], bins=num_bins)\n",
    "\n",
    "# Calculate the bin widths\n",
    "bin_width = bin_edges[1] - bin_edges[0]\n",
    "\n",
    "# Calculate the bin midpoints\n",
    "bin_midpoints = bin_edges[:-1] + bin_width / 2\n",
    "\n",
    "# Create a histogram with the specified bins and widths\n",
    "plt.hist(ratings_explicit['book_rating'], bins=bin_edges, width=bin_width, alpha=0.7, edgecolor='black')\n",
    "\n",
    "# Add labels to the bars\n",
    "for i in range(len(bin_edges) - 1):\n",
    "    plt.text(\n",
    "        bin_midpoints[i],  # x-coordinate for the label (bin midpoint)\n",
    "        hist[i],  # y-coordinate for the label (height of the bar)\n",
    "        str(round(hist[i])),  # Text to display (count in the bin)\n",
    "        ha='center',  # Horizontal alignment\n",
    "        va='bottom'  # Vertical alignment\n",
    "    )\n",
    "\n",
    "# Set the title and axis labels\n",
    "plt.title('Frequency distribution of explicit ratings', fontsize=14)\n",
    "plt.xlabel('Rating', fontsize=12)\n",
    "plt.ylabel('Count', fontsize=12)\n",
    "\n",
    "# Set x-axis tick positions to the bin midpoints\n",
    "plt.xticks(bin_midpoints, [int(round(x,0)) for x in bin_midpoints])\n",
    "\n",
    "# Display the plot\n",
    "plt.show()"
   ]
  },
  {
   "cell_type": "markdown",
   "id": "a598abc9-20e4-4073-84b9-4e968cbf20aa",
   "metadata": {},
   "source": [
    "It can be seen that higher ratings are more common amongst users and rating 8 has been rated highest number of times"
   ]
  },
  {
   "cell_type": "code",
   "execution_count": 44,
   "id": "90c6329e-f8cc-4f0e-b94f-ddcce6699216",
   "metadata": {},
   "outputs": [
    {
     "data": {
      "text/html": [
       "<div>\n",
       "<style scoped>\n",
       "    .dataframe tbody tr th:only-of-type {\n",
       "        vertical-align: middle;\n",
       "    }\n",
       "\n",
       "    .dataframe tbody tr th {\n",
       "        vertical-align: top;\n",
       "    }\n",
       "\n",
       "    .dataframe thead th {\n",
       "        text-align: right;\n",
       "    }\n",
       "</style>\n",
       "<table border=\"1\" class=\"dataframe\">\n",
       "  <thead>\n",
       "    <tr style=\"text-align: right;\">\n",
       "      <th></th>\n",
       "      <th>count</th>\n",
       "    </tr>\n",
       "    <tr>\n",
       "      <th>user_id</th>\n",
       "      <th></th>\n",
       "    </tr>\n",
       "  </thead>\n",
       "  <tbody>\n",
       "    <tr>\n",
       "      <th>11676</th>\n",
       "      <td>11144</td>\n",
       "    </tr>\n",
       "    <tr>\n",
       "      <th>198711</th>\n",
       "      <td>6456</td>\n",
       "    </tr>\n",
       "    <tr>\n",
       "      <th>153662</th>\n",
       "      <td>5814</td>\n",
       "    </tr>\n",
       "    <tr>\n",
       "      <th>98391</th>\n",
       "      <td>5779</td>\n",
       "    </tr>\n",
       "    <tr>\n",
       "      <th>35859</th>\n",
       "      <td>5646</td>\n",
       "    </tr>\n",
       "  </tbody>\n",
       "</table>\n",
       "</div>"
      ],
      "text/plain": [
       "         count\n",
       "user_id       \n",
       "11676    11144\n",
       "198711    6456\n",
       "153662    5814\n",
       "98391     5779\n",
       "35859     5646"
      ]
     },
     "execution_count": 44,
     "metadata": {},
     "output_type": "execute_result"
    }
   ],
   "source": [
    "# Number of ratings per user\n",
    "# Some users are very prolific !!!\n",
    "# Passionate readers, account with several users, bots?\n",
    "\n",
    "pop_rting_users = ratings.groupby(['user_id']).agg({\n",
    "    'user_id': [('count')]\n",
    "})\n",
    "\n",
    "pop_rting_users.columns = pop_rting_users.columns.droplevel(level=0)\n",
    "pop_rting_users.sort_values(by='count', ascending=False).head()"
   ]
  },
  {
   "cell_type": "code",
   "execution_count": 45,
   "id": "0682a60e-85b8-4242-8bda-20b43e8ff34c",
   "metadata": {},
   "outputs": [
    {
     "data": {
      "text/html": [
       "<div>\n",
       "<style scoped>\n",
       "    .dataframe tbody tr th:only-of-type {\n",
       "        vertical-align: middle;\n",
       "    }\n",
       "\n",
       "    .dataframe tbody tr th {\n",
       "        vertical-align: top;\n",
       "    }\n",
       "\n",
       "    .dataframe thead tr th {\n",
       "        text-align: left;\n",
       "    }\n",
       "\n",
       "    .dataframe thead tr:last-of-type th {\n",
       "        text-align: right;\n",
       "    }\n",
       "</style>\n",
       "<table border=\"1\" class=\"dataframe\">\n",
       "  <thead>\n",
       "    <tr>\n",
       "      <th></th>\n",
       "      <th>book_rating</th>\n",
       "    </tr>\n",
       "    <tr>\n",
       "      <th></th>\n",
       "      <th>count</th>\n",
       "    </tr>\n",
       "    <tr>\n",
       "      <th>book_rating</th>\n",
       "      <th></th>\n",
       "    </tr>\n",
       "  </thead>\n",
       "  <tbody>\n",
       "    <tr>\n",
       "      <th>0.0</th>\n",
       "      <td>88</td>\n",
       "    </tr>\n",
       "    <tr>\n",
       "      <th>5.0</th>\n",
       "      <td>160</td>\n",
       "    </tr>\n",
       "    <tr>\n",
       "      <th>6.0</th>\n",
       "      <td>5</td>\n",
       "    </tr>\n",
       "    <tr>\n",
       "      <th>7.0</th>\n",
       "      <td>34</td>\n",
       "    </tr>\n",
       "    <tr>\n",
       "      <th>8.0</th>\n",
       "      <td>1496</td>\n",
       "    </tr>\n",
       "    <tr>\n",
       "      <th>9.0</th>\n",
       "      <td>2561</td>\n",
       "    </tr>\n",
       "    <tr>\n",
       "      <th>10.0</th>\n",
       "      <td>1435</td>\n",
       "    </tr>\n",
       "  </tbody>\n",
       "</table>\n",
       "</div>"
      ],
      "text/plain": [
       "            book_rating\n",
       "                  count\n",
       "book_rating            \n",
       "0.0                  88\n",
       "5.0                 160\n",
       "6.0                   5\n",
       "7.0                  34\n",
       "8.0                1496\n",
       "9.0                2561\n",
       "10.0               1435"
      ]
     },
     "execution_count": 45,
     "metadata": {},
     "output_type": "execute_result"
    }
   ],
   "source": [
    "# But we have var in the rathing of one prolific user\n",
    "ratings.groupby(ratings.book_rating[ratings['user_id']==98391]).agg({\n",
    "    'book_rating': [('count')]\n",
    "})"
   ]
  },
  {
   "cell_type": "code",
   "execution_count": 46,
   "id": "522970fa-f9b4-4d54-bb86-d47bf30a3127",
   "metadata": {},
   "outputs": [
    {
     "data": {
      "text/html": [
       "<div>\n",
       "<style scoped>\n",
       "    .dataframe tbody tr th:only-of-type {\n",
       "        vertical-align: middle;\n",
       "    }\n",
       "\n",
       "    .dataframe tbody tr th {\n",
       "        vertical-align: top;\n",
       "    }\n",
       "\n",
       "    .dataframe thead th {\n",
       "        text-align: right;\n",
       "    }\n",
       "</style>\n",
       "<table border=\"1\" class=\"dataframe\">\n",
       "  <thead>\n",
       "    <tr style=\"text-align: right;\">\n",
       "      <th></th>\n",
       "      <th>avg_rating</th>\n",
       "    </tr>\n",
       "    <tr>\n",
       "      <th>isbn</th>\n",
       "      <th></th>\n",
       "    </tr>\n",
       "  </thead>\n",
       "  <tbody>\n",
       "    <tr>\n",
       "      <th>038550120X</th>\n",
       "      <td>7.580247</td>\n",
       "    </tr>\n",
       "  </tbody>\n",
       "</table>\n",
       "</div>"
      ],
      "text/plain": [
       "            avg_rating\n",
       "isbn                  \n",
       "038550120X    7.580247"
      ]
     },
     "execution_count": 46,
     "metadata": {},
     "output_type": "execute_result"
    }
   ],
   "source": [
    "# Calculate number rating by movie_id\n",
    "avg_rating = pd.DataFrame(ratings_explicit.groupby('isbn')['book_rating'].mean())\n",
    "avg_rating.rename(columns={'book_rating': 'avg_rating'}, inplace=True)\n",
    "avg_rating[avg_rating.index==\"038550120X\"]"
   ]
  },
  {
   "cell_type": "code",
   "execution_count": 47,
   "id": "3570b553-587f-4c3a-972b-7451b21be276",
   "metadata": {},
   "outputs": [
    {
     "data": {
      "text/html": [
       "<div>\n",
       "<style scoped>\n",
       "    .dataframe tbody tr th:only-of-type {\n",
       "        vertical-align: middle;\n",
       "    }\n",
       "\n",
       "    .dataframe tbody tr th {\n",
       "        vertical-align: top;\n",
       "    }\n",
       "\n",
       "    .dataframe thead th {\n",
       "        text-align: right;\n",
       "    }\n",
       "</style>\n",
       "<table border=\"1\" class=\"dataframe\">\n",
       "  <thead>\n",
       "    <tr style=\"text-align: right;\">\n",
       "      <th></th>\n",
       "      <th>avg_rating</th>\n",
       "    </tr>\n",
       "  </thead>\n",
       "  <tbody>\n",
       "    <tr>\n",
       "      <th>count</th>\n",
       "      <td>149836.000000</td>\n",
       "    </tr>\n",
       "    <tr>\n",
       "      <th>mean</th>\n",
       "      <td>7.527543</td>\n",
       "    </tr>\n",
       "    <tr>\n",
       "      <th>std</th>\n",
       "      <td>1.711876</td>\n",
       "    </tr>\n",
       "    <tr>\n",
       "      <th>min</th>\n",
       "      <td>1.000000</td>\n",
       "    </tr>\n",
       "    <tr>\n",
       "      <th>25%</th>\n",
       "      <td>6.500000</td>\n",
       "    </tr>\n",
       "    <tr>\n",
       "      <th>50%</th>\n",
       "      <td>8.000000</td>\n",
       "    </tr>\n",
       "    <tr>\n",
       "      <th>75%</th>\n",
       "      <td>9.000000</td>\n",
       "    </tr>\n",
       "    <tr>\n",
       "      <th>95%</th>\n",
       "      <td>10.000000</td>\n",
       "    </tr>\n",
       "    <tr>\n",
       "      <th>100%</th>\n",
       "      <td>10.000000</td>\n",
       "    </tr>\n",
       "    <tr>\n",
       "      <th>max</th>\n",
       "      <td>10.000000</td>\n",
       "    </tr>\n",
       "  </tbody>\n",
       "</table>\n",
       "</div>"
      ],
      "text/plain": [
       "          avg_rating\n",
       "count  149836.000000\n",
       "mean        7.527543\n",
       "std         1.711876\n",
       "min         1.000000\n",
       "25%         6.500000\n",
       "50%         8.000000\n",
       "75%         9.000000\n",
       "95%        10.000000\n",
       "100%       10.000000\n",
       "max        10.000000"
      ]
     },
     "execution_count": 47,
     "metadata": {},
     "output_type": "execute_result"
    }
   ],
   "source": [
    "# 25% of the average rating for movie are equal or less of 6.5\n",
    "avg_rating.describe(percentiles=[.25, .5, .75, .95, 1])"
   ]
  },
  {
   "cell_type": "code",
   "execution_count": 48,
   "id": "0db0e141-d895-49f4-8d74-383c9d4c31aa",
   "metadata": {},
   "outputs": [
    {
     "data": {
      "image/png": "[encoded data removed]",
      "text/plain": [
       "<Figure size 640x480 with 1 Axes>"
      ]
     },
     "metadata": {},
     "output_type": "display_data"
    }
   ],
   "source": [
    "# Specify the number of bins and calculate bin edges\n",
    "num_bins = 10  # You can adjust this as needed\n",
    "hist, bin_edges = np.histogram(avg_rating['avg_rating'], bins=num_bins)\n",
    "\n",
    "# Calculate the bin widths\n",
    "bin_width = bin_edges[1] - bin_edges[0]\n",
    "\n",
    "# Calculate the bin midpoints\n",
    "bin_midpoints = bin_edges[:-1] + bin_width / 2\n",
    "\n",
    "# Create a histogram with the specified bins and widths\n",
    "plt.hist(avg_rating['avg_rating'], bins=bin_edges, width=bin_width, alpha=0.7, edgecolor='black')\n",
    "\n",
    "# Add labels to the bars\n",
    "for i in range(len(bin_edges) - 1):\n",
    "    plt.text(\n",
    "        bin_midpoints[i],  # x-coordinate for the label (bin midpoint)\n",
    "        hist[i],  # y-coordinate for the label (height of the bar)\n",
    "        str(round(hist[i])),  # Text to display (count in the bin)\n",
    "        ha='center',  # Horizontal alignment\n",
    "        va='bottom'  # Vertical alignment\n",
    "    )\n",
    "\n",
    "# Add a vertical line at x-coordinate 6.5\n",
    "plt.axvline(x=6.4, color='red', linestyle='--')\n",
    "plt.axvspan(1, 6.4, color='gray', alpha=0.15, lw=0)\n",
    "plt.annotate('First Quartile', xy=(0.2284, 0.8), xycoords='axes fraction', color = 'black')\n",
    "\n",
    "# Set the title and axis labels\n",
    "plt.title('Frequency Distribution of Averare Ratings', fontsize=14)\n",
    "plt.xlabel('Rating', fontsize=12)\n",
    "plt.ylabel('Count', fontsize=12)\n",
    "\n",
    "# Set x-axis tick positions to the bin midpoints\n",
    "plt.xticks(bin_midpoints, [int(round(x,0)) for x in bin_midpoints])\n",
    "\n",
    "# Display the plot\n",
    "plt.show()"
   ]
  },
  {
   "cell_type": "markdown",
   "id": "b1442a50-8665-42f1-8cd0-48f62a269bb6",
   "metadata": {},
   "source": [
    "**<font color='DarkBlue'>Users:</font>**\n",
    "__________"
   ]
  },
  {
   "cell_type": "code",
   "execution_count": 49,
   "id": "baf57f91-21e9-424d-ba01-e44bab54e035",
   "metadata": {},
   "outputs": [
    {
     "name": "stderr",
     "output_type": "stream",
     "text": [
      "The unique number of users: 278858\n"
     ]
    }
   ],
   "source": [
    "logger.info(f'The unique number of users: {users[\"user_id\"].nunique()}')"
   ]
  },
  {
   "cell_type": "code",
   "execution_count": 50,
   "id": "a3992f10-405e-46c0-9610-040adb53c903",
   "metadata": {},
   "outputs": [
    {
     "data": {
      "image/png": "[encoded data removed]",
      "text/plain": [
       "<Figure size 1600x400 with 1 Axes>"
      ]
     },
     "metadata": {},
     "output_type": "display_data"
    }
   ],
   "source": [
    "fig = plt.figure(figsize =(16, 4))\n",
    " \n",
    "plt.boxplot(users[\"age\"], vert=False)\n",
    "plt.title('Box Plot of Age', fontsize=14)\n",
    "plt.xlabel('Age', fontsize=12)\n",
    "plt.yticks([])\n",
    "plt.show()"
   ]
  },
  {
   "cell_type": "code",
   "execution_count": 51,
   "id": "83426cc4-4617-4243-b7a3-e8fe78fb41c6",
   "metadata": {},
   "outputs": [
    {
     "data": {
      "image/png": "[encoded data removed]",
      "text/plain": [
       "<Figure size 600x200 with 1 Axes>"
      ]
     },
     "metadata": {},
     "output_type": "display_data"
    }
   ],
   "source": [
    "pop_country = users.groupby(['country']).agg({\n",
    "    'country': [('count')]\n",
    "})\n",
    "\n",
    "pop_country.columns = pop_country.columns.droplevel(level=0)\n",
    "pop5_country = pop_country.sort_values(by='count', ascending=False).head(5)\n",
    "\n",
    "fig = plt.figure(figsize=(6,2))\n",
    "ax = fig.add_axes([0,0,1,1])\n",
    "country = pop5_country.index\n",
    "cnt = pop5_country['count']/1000\n",
    "ax.barh(country, cnt)\n",
    "\n",
    "plt.gca().invert_yaxis()\n",
    "\n",
    "# Set the tick locations and labels\n",
    "current_values = plt.gca().get_xticks()\n",
    "#tick_locations = [0, 20000, 40000, 60000, 80000, 100000, 120000, 140000, 160000] \n",
    "tick_locations = [0, 20, 40, 60, 80, 100, 120, 140, 160] \n",
    "ax.set_xticks(tick_locations)\n",
    "ax.set_xticklabels(['{:,.0f}'.format(x) for x in tick_locations])\n",
    "\n",
    "for i, v in enumerate(cnt):\n",
    "    ax.text(v + 2, i + .15, str(v), color='dimgray')\n",
    "\n",
    "# Set the title and axis labels\n",
    "plt.title('Top 5: Country Users', fontsize=14)\n",
    "plt.ylabel('Country', fontsize=10)\n",
    "plt.xlabel('Count (in thousand)', fontsize=10)\n",
    "\n",
    "plt.show()"
   ]
  },
  {
   "cell_type": "markdown",
   "id": "ac137c18-1e97-41f1-aae8-05b499c962d5",
   "metadata": {},
   "source": [
    "**<font color='DarkBlue'>Books & Ratings:</font>**\n",
    "____________________"
   ]
  },
  {
   "cell_type": "code",
   "execution_count": 52,
   "id": "ecec54b4-b0bc-4a06-9751-bf9c11e4b652",
   "metadata": {},
   "outputs": [
    {
     "name": "stdout",
     "output_type": "stream",
     "text": [
      "(1031136, 7) (647294, 7) (383842, 7)\n"
     ]
    }
   ],
   "source": [
    "# merge\n",
    "df = ratings.merge(books[['isbn', 'book_title', 'book_author', 'publisher', 'year_publication']], \n",
    "                   how='left', on='isbn')\n",
    "dfi = ratings_implicit.merge(books[['isbn', 'book_title', 'book_author', 'publisher', 'year_publication']], \n",
    "                             how='left', on='isbn')\n",
    "dfe = ratings_explicit.merge(books[['isbn', 'book_title', 'book_author', 'publisher', 'year_publication']], \n",
    "                             how='left', on='isbn')\n",
    "\n",
    "print(df.shape, dfi.shape, dfe.shape)"
   ]
  },
  {
   "cell_type": "code",
   "execution_count": 53,
   "id": "bb2b1c7b-4dbd-41dc-9810-61ab6d501745",
   "metadata": {},
   "outputs": [
    {
     "data": {
      "text/html": [
       "<div>\n",
       "<style scoped>\n",
       "    .dataframe tbody tr th:only-of-type {\n",
       "        vertical-align: middle;\n",
       "    }\n",
       "\n",
       "    .dataframe tbody tr th {\n",
       "        vertical-align: top;\n",
       "    }\n",
       "\n",
       "    .dataframe thead th {\n",
       "        text-align: right;\n",
       "    }\n",
       "</style>\n",
       "<table border=\"1\" class=\"dataframe\">\n",
       "  <thead>\n",
       "    <tr style=\"text-align: right;\">\n",
       "      <th></th>\n",
       "      <th>count</th>\n",
       "    </tr>\n",
       "  </thead>\n",
       "  <tbody>\n",
       "    <tr>\n",
       "      <th>count</th>\n",
       "      <td>270151.000000</td>\n",
       "    </tr>\n",
       "    <tr>\n",
       "      <th>mean</th>\n",
       "      <td>3.816888</td>\n",
       "    </tr>\n",
       "    <tr>\n",
       "      <th>std</th>\n",
       "      <td>13.811690</td>\n",
       "    </tr>\n",
       "    <tr>\n",
       "      <th>min</th>\n",
       "      <td>1.000000</td>\n",
       "    </tr>\n",
       "    <tr>\n",
       "      <th>50%</th>\n",
       "      <td>1.000000</td>\n",
       "    </tr>\n",
       "    <tr>\n",
       "      <th>54%</th>\n",
       "      <td>2.000000</td>\n",
       "    </tr>\n",
       "    <tr>\n",
       "      <th>75%</th>\n",
       "      <td>3.000000</td>\n",
       "    </tr>\n",
       "    <tr>\n",
       "      <th>95%</th>\n",
       "      <td>12.000000</td>\n",
       "    </tr>\n",
       "    <tr>\n",
       "      <th>max</th>\n",
       "      <td>2502.000000</td>\n",
       "    </tr>\n",
       "  </tbody>\n",
       "</table>\n",
       "</div>"
      ],
      "text/plain": [
       "               count\n",
       "count  270151.000000\n",
       "mean        3.816888\n",
       "std        13.811690\n",
       "min         1.000000\n",
       "50%         1.000000\n",
       "54%         2.000000\n",
       "75%         3.000000\n",
       "95%        12.000000\n",
       "max      2502.000000"
      ]
     },
     "execution_count": 53,
     "metadata": {},
     "output_type": "execute_result"
    }
   ],
   "source": [
    "#  54% of books in the dataset are less than or equal of 2 ratings\n",
    "\n",
    "cnt_isbn = df.groupby(['isbn']).agg({'isbn': [('count')]})\n",
    "cnt_isbn.columns = cnt_isbn.columns.droplevel(level=0)\n",
    "#cnt_isbn.sort_values(by='count', ascending=False).head(10)\n",
    "cnt_isbn.describe(percentiles=[.5, .54, .75, .95])"
   ]
  },
  {
   "cell_type": "code",
   "execution_count": 54,
   "id": "55b634f8-ae89-4940-afba-7b309a3300b1",
   "metadata": {},
   "outputs": [
    {
     "data": {
      "text/html": [
       "<div>\n",
       "<style scoped>\n",
       "    .dataframe tbody tr th:only-of-type {\n",
       "        vertical-align: middle;\n",
       "    }\n",
       "\n",
       "    .dataframe tbody tr th {\n",
       "        vertical-align: top;\n",
       "    }\n",
       "\n",
       "    .dataframe thead th {\n",
       "        text-align: right;\n",
       "    }\n",
       "</style>\n",
       "<table border=\"1\" class=\"dataframe\">\n",
       "  <thead>\n",
       "    <tr style=\"text-align: right;\">\n",
       "      <th></th>\n",
       "      <th>count</th>\n",
       "    </tr>\n",
       "  </thead>\n",
       "  <tbody>\n",
       "    <tr>\n",
       "      <th>count</th>\n",
       "      <td>92106.000000</td>\n",
       "    </tr>\n",
       "    <tr>\n",
       "      <th>mean</th>\n",
       "      <td>11.195101</td>\n",
       "    </tr>\n",
       "    <tr>\n",
       "      <th>std</th>\n",
       "      <td>88.685678</td>\n",
       "    </tr>\n",
       "    <tr>\n",
       "      <th>min</th>\n",
       "      <td>1.000000</td>\n",
       "    </tr>\n",
       "    <tr>\n",
       "      <th>50%</th>\n",
       "      <td>1.000000</td>\n",
       "    </tr>\n",
       "    <tr>\n",
       "      <th>56%</th>\n",
       "      <td>2.000000</td>\n",
       "    </tr>\n",
       "    <tr>\n",
       "      <th>75%</th>\n",
       "      <td>4.000000</td>\n",
       "    </tr>\n",
       "    <tr>\n",
       "      <th>95%</th>\n",
       "      <td>31.000000</td>\n",
       "    </tr>\n",
       "    <tr>\n",
       "      <th>100%</th>\n",
       "      <td>11144.000000</td>\n",
       "    </tr>\n",
       "    <tr>\n",
       "      <th>max</th>\n",
       "      <td>11144.000000</td>\n",
       "    </tr>\n",
       "  </tbody>\n",
       "</table>\n",
       "</div>"
      ],
      "text/plain": [
       "              count\n",
       "count  92106.000000\n",
       "mean      11.195101\n",
       "std       88.685678\n",
       "min        1.000000\n",
       "50%        1.000000\n",
       "56%        2.000000\n",
       "75%        4.000000\n",
       "95%       31.000000\n",
       "100%   11144.000000\n",
       "max    11144.000000"
      ]
     },
     "execution_count": 54,
     "metadata": {},
     "output_type": "execute_result"
    }
   ],
   "source": [
    "#  56% of users in the dataset are less than or equal of 2 ratings\n",
    "\n",
    "cnt_user = df.groupby(['user_id']).agg({'user_id': [('count')]})\n",
    "cnt_user.columns = cnt_user.columns.droplevel(level=0)\n",
    "#cnt_user.sort_values(by='count', ascending=False).head(5)\n",
    "cnt_user.describe(percentiles=[.5, .56, .75, .95, 1])"
   ]
  },
  {
   "cell_type": "markdown",
   "id": "40e4fd9d-387c-497b-a870-e18abd6eba43",
   "metadata": {},
   "source": [
    "If I want build hybrid model (CBF & CF) by switching to try to improve the score in collaborative filtering, we drop more of 50% of the database if only take interaction of books, users >= 2."
   ]
  },
  {
   "cell_type": "code",
   "execution_count": 55,
   "id": "d3727c7f-f1a8-443c-8780-f369d906620c",
   "metadata": {},
   "outputs": [
    {
     "data": {
      "image/png": "[encoded data removed]",
      "text/plain": [
       "<Figure size 1000x300 with 1 Axes>"
      ]
     },
     "metadata": {},
     "output_type": "display_data"
    }
   ],
   "source": [
    "pop_year_i = dfi.groupby(['year_publication']).agg({\n",
    "    'year_publication': [('count')]})\n",
    "pop_year_e = dfe.groupby(['year_publication']).agg({\n",
    "    'year_publication': [('count')]})\n",
    "\n",
    "pop_year_i.columns = pop_year_i.columns.droplevel(level=0)\n",
    "pop_year_i = pop_year_i.sort_values(by='year_publication', ascending=False)\n",
    "pop_year_e.columns = pop_year_e.columns.droplevel(level=0)\n",
    "pop_year_e = pop_year_e.sort_values(by='year_publication', ascending=False)\n",
    "\n",
    "pop_year_1 = pop_year_i[pop_year_i.index >= 1970]\n",
    "pop_year_2 = pop_year_e[pop_year_e.index >= 1970]\n",
    "\n",
    "fig, ax = plt.subplots(figsize=(10, 3))\n",
    "\n",
    "# Define the width of the bars\n",
    "bar_width = 0.35\n",
    "\n",
    "# Define the x-axis positions for the bars\n",
    "x = pop_year_1.index\n",
    "\n",
    "# Create the bars for implicit and explicit ratings\n",
    "bar1 = ax.bar(x - bar_width/2, pop_year_1['count'], bar_width, label='Implicit Rating', color='royalblue')\n",
    "bar2 = ax.bar(x + bar_width/2, pop_year_2['count'], bar_width, label='Explicit Rating', color='yellowgreen')\n",
    "\n",
    "# Set the title and axis labels\n",
    "plt.title('Frequency Distribution of Rating by Year of Publication', fontsize=14)\n",
    "plt.ylabel('Count', fontsize=10)\n",
    "plt.xlabel('Year of Publication', fontsize=10)\n",
    "\n",
    "# Set the x-axis ticks and labels by 5-year intervals\n",
    "years = range(1970, max(pop_year_1.index) + 1, 5)\n",
    "ax.set_xticks(years)\n",
    "\n",
    "# Create x-axis labels for the 5-year intervals\n",
    "ax.set_xticklabels([str(year) for year in years])\n",
    "\n",
    "# Create a legend\n",
    "ax.legend()\n",
    "\n",
    "# Display the plot\n",
    "plt.tight_layout()\n",
    "plt.show()"
   ]
  },
  {
   "cell_type": "code",
   "execution_count": 56,
   "id": "bc8e3c1e-b19c-43af-9f17-fa25f850c409",
   "metadata": {},
   "outputs": [
    {
     "data": {
      "text/plain": [
       "count       93.000000\n",
       "mean      6960.150538\n",
       "std      13609.089453\n",
       "min          1.000000\n",
       "25%         11.000000\n",
       "50%        163.000000\n",
       "75%       5125.000000\n",
       "95%      41099.000000\n",
       "100%     53814.000000\n",
       "max      53814.000000\n",
       "Name: count, dtype: float64"
      ]
     },
     "execution_count": 56,
     "metadata": {},
     "output_type": "execute_result"
    }
   ],
   "source": [
    "# 25% of book with implicit rating have year <- 11\n",
    "# less interaction for old book...\n",
    "pop_year_i['count'].describe(percentiles=[.25, .5, .75, .95, 1])"
   ]
  },
  {
   "cell_type": "code",
   "execution_count": 57,
   "id": "46af5bd9-4b3b-450b-8fac-b0bfe099271c",
   "metadata": {},
   "outputs": [
    {
     "data": {
      "text/plain": [
       "count       93.000000\n",
       "mean      4127.333333\n",
       "std       8570.183690\n",
       "min          1.000000\n",
       "25%          8.000000\n",
       "50%        116.000000\n",
       "75%       2456.000000\n",
       "95%      26102.600000\n",
       "100%     37986.000000\n",
       "max      37986.000000\n",
       "Name: count, dtype: float64"
      ]
     },
     "execution_count": 57,
     "metadata": {},
     "output_type": "execute_result"
    }
   ],
   "source": [
    "# 25% of book with explicit rating have year <- 8\n",
    "# less interaction for old book...\n",
    "pop_year_e['count'].describe(percentiles=[.25, .5, .75, .95, 1])"
   ]
  },
  {
   "cell_type": "code",
   "execution_count": 58,
   "id": "63ef19b8-e614-4093-8a44-3d0892d19ead",
   "metadata": {},
   "outputs": [
    {
     "data": {
      "text/plain": [
       "(383842, 3)"
      ]
     },
     "execution_count": 58,
     "metadata": {},
     "output_type": "execute_result"
    }
   ],
   "source": [
    "ratings_explicit.shape"
   ]
  },
  {
   "cell_type": "markdown",
   "id": "44c4b8c0-7d09-45a3-9195-7d3fd3cec182",
   "metadata": {},
   "source": [
    "## **<font color='DarkBlue'>Recommandation Systems</font>**"
   ]
  },
  {
   "cell_type": "markdown",
   "id": "1f76a945-1893-4fcd-a34c-d1cfa7f0bd6d",
   "metadata": {},
   "source": [
    "#### <font color='DarkBlue'>Content Based Filtering</font>"
   ]
  },
  {
   "cell_type": "markdown",
   "id": "734b665a-da2f-4bce-b110-604269f62626",
   "metadata": {},
   "source": [
    "Use-Case: Item-to-Item recommendation\n",
    "\n",
    "We ignore the engagement user in this section. Based on the similarity content of the items."
   ]
  },
  {
   "cell_type": "code",
   "execution_count": 59,
   "id": "5e838ada-ff8f-4e48-a44e-1570df344e35",
   "metadata": {},
   "outputs": [
    {
     "data": {
      "text/html": [
       "<div>\n",
       "<style scoped>\n",
       "    .dataframe tbody tr th:only-of-type {\n",
       "        vertical-align: middle;\n",
       "    }\n",
       "\n",
       "    .dataframe tbody tr th {\n",
       "        vertical-align: top;\n",
       "    }\n",
       "\n",
       "    .dataframe thead th {\n",
       "        text-align: right;\n",
       "    }\n",
       "</style>\n",
       "<table border=\"1\" class=\"dataframe\">\n",
       "  <thead>\n",
       "    <tr style=\"text-align: right;\">\n",
       "      <th></th>\n",
       "      <th>isbn</th>\n",
       "      <th>book_title</th>\n",
       "      <th>book_author</th>\n",
       "      <th>year_publication</th>\n",
       "      <th>publisher</th>\n",
       "      <th>image_url_m</th>\n",
       "      <th>avg_rating</th>\n",
       "    </tr>\n",
       "  </thead>\n",
       "  <tbody>\n",
       "    <tr>\n",
       "      <th>0</th>\n",
       "      <td>0195153448</td>\n",
       "      <td>Classical Mythology</td>\n",
       "      <td>Mark P. O. Morford</td>\n",
       "      <td>2002</td>\n",
       "      <td>Oxford University Press</td>\n",
       "      <td>http://images.amazon.com/images/P/0195153448.0...</td>\n",
       "      <td>NaN</td>\n",
       "    </tr>\n",
       "    <tr>\n",
       "      <th>1</th>\n",
       "      <td>0002005018</td>\n",
       "      <td>Clara Callan</td>\n",
       "      <td>Richard Bruce Wright</td>\n",
       "      <td>2001</td>\n",
       "      <td>HarperFlamingo Canada</td>\n",
       "      <td>http://images.amazon.com/images/P/0002005018.0...</td>\n",
       "      <td>7.666667</td>\n",
       "    </tr>\n",
       "  </tbody>\n",
       "</table>\n",
       "</div>"
      ],
      "text/plain": [
       "         isbn           book_title           book_author  year_publication  \\\n",
       "0  0195153448  Classical Mythology    Mark P. O. Morford              2002   \n",
       "1  0002005018         Clara Callan  Richard Bruce Wright              2001   \n",
       "\n",
       "                 publisher                                        image_url_m  \\\n",
       "0  Oxford University Press  http://images.amazon.com/images/P/0195153448.0...   \n",
       "1    HarperFlamingo Canada  http://images.amazon.com/images/P/0002005018.0...   \n",
       "\n",
       "   avg_rating  \n",
       "0         NaN  \n",
       "1    7.666667  "
      ]
     },
     "execution_count": 59,
     "metadata": {},
     "output_type": "execute_result"
    }
   ],
   "source": [
    "# Merge the average rating\n",
    "cbf = books.merge(avg_rating, how='left', on='isbn')\n",
    "cbf.head(2)"
   ]
  },
  {
   "cell_type": "code",
   "execution_count": 60,
   "id": "18c8da65-28cc-4546-aac6-f5af5614eb12",
   "metadata": {},
   "outputs": [
    {
     "data": {
      "text/plain": [
       "(271360, 7)"
      ]
     },
     "execution_count": 60,
     "metadata": {},
     "output_type": "execute_result"
    }
   ],
   "source": [
    "cbf.shape"
   ]
  },
  {
   "cell_type": "code",
   "execution_count": 61,
   "id": "0998c463-18c7-491a-8531-428b89198943",
   "metadata": {},
   "outputs": [
    {
     "data": {
      "text/html": [
       "<div>\n",
       "<style scoped>\n",
       "    .dataframe tbody tr th:only-of-type {\n",
       "        vertical-align: middle;\n",
       "    }\n",
       "\n",
       "    .dataframe tbody tr th {\n",
       "        vertical-align: top;\n",
       "    }\n",
       "\n",
       "    .dataframe thead th {\n",
       "        text-align: right;\n",
       "    }\n",
       "</style>\n",
       "<table border=\"1\" class=\"dataframe\">\n",
       "  <thead>\n",
       "    <tr style=\"text-align: right;\">\n",
       "      <th></th>\n",
       "      <th>isbn</th>\n",
       "      <th>book_title</th>\n",
       "      <th>publisher</th>\n",
       "      <th>book_author</th>\n",
       "      <th>avg_rating</th>\n",
       "    </tr>\n",
       "  </thead>\n",
       "  <tbody>\n",
       "    <tr>\n",
       "      <th>254249</th>\n",
       "      <td>0000913154</td>\n",
       "      <td>The Way Things Work: An Illustrated Encycloped...</td>\n",
       "      <td>Simon &amp;amp; Schuster</td>\n",
       "      <td>C. van Amerongen (translator)</td>\n",
       "      <td>8.0</td>\n",
       "    </tr>\n",
       "    <tr>\n",
       "      <th>215806</th>\n",
       "      <td>0001010565</td>\n",
       "      <td>Mog's Christmas</td>\n",
       "      <td>Collins</td>\n",
       "      <td>Judith Kerr</td>\n",
       "      <td>NaN</td>\n",
       "    </tr>\n",
       "    <tr>\n",
       "      <th>42562</th>\n",
       "      <td>0001046438</td>\n",
       "      <td>Liar</td>\n",
       "      <td>Harpercollins Uk</td>\n",
       "      <td>Stephen Fry</td>\n",
       "      <td>9.0</td>\n",
       "    </tr>\n",
       "    <tr>\n",
       "      <th>112555</th>\n",
       "      <td>0001046713</td>\n",
       "      <td>Twopence to Cross the Mersey</td>\n",
       "      <td>HarperCollins Publishers</td>\n",
       "      <td>Helen Forrester</td>\n",
       "      <td>NaN</td>\n",
       "    </tr>\n",
       "    <tr>\n",
       "      <th>42604</th>\n",
       "      <td>000104687X</td>\n",
       "      <td>T.S. Eliot Reading \\The Wasteland\\\" and Other ...</td>\n",
       "      <td>HarperCollins Publishers</td>\n",
       "      <td>T.S. Eliot</td>\n",
       "      <td>6.0</td>\n",
       "    </tr>\n",
       "  </tbody>\n",
       "</table>\n",
       "</div>"
      ],
      "text/plain": [
       "              isbn                                         book_title  \\\n",
       "254249  0000913154  The Way Things Work: An Illustrated Encycloped...   \n",
       "215806  0001010565                                    Mog's Christmas   \n",
       "42562   0001046438                                               Liar   \n",
       "112555  0001046713                       Twopence to Cross the Mersey   \n",
       "42604   000104687X  T.S. Eliot Reading \\The Wasteland\\\" and Other ...   \n",
       "\n",
       "                       publisher                    book_author  avg_rating  \n",
       "254249      Simon &amp; Schuster  C. van Amerongen (translator)         8.0  \n",
       "215806                   Collins                    Judith Kerr         NaN  \n",
       "42562           Harpercollins Uk                    Stephen Fry         9.0  \n",
       "112555  HarperCollins Publishers                Helen Forrester         NaN  \n",
       "42604   HarperCollins Publishers                     T.S. Eliot         6.0  "
      ]
     },
     "execution_count": 61,
     "metadata": {},
     "output_type": "execute_result"
    }
   ],
   "source": [
    "# columns subset\n",
    "cols_to_keep = ['isbn', 'book_title', 'publisher', 'book_author', 'avg_rating']\n",
    "cbf = cbf[cols_to_keep]\n",
    "cbf.sort_values(by='isbn').head()"
   ]
  },
  {
   "cell_type": "code",
   "execution_count": 62,
   "id": "840a3506-4ca4-4b61-8416-462e1ed75694",
   "metadata": {},
   "outputs": [
    {
     "data": {
      "text/html": [
       "<div>\n",
       "<style scoped>\n",
       "    .dataframe tbody tr th:only-of-type {\n",
       "        vertical-align: middle;\n",
       "    }\n",
       "\n",
       "    .dataframe tbody tr th {\n",
       "        vertical-align: top;\n",
       "    }\n",
       "\n",
       "    .dataframe thead th {\n",
       "        text-align: right;\n",
       "    }\n",
       "</style>\n",
       "<table border=\"1\" class=\"dataframe\">\n",
       "  <thead>\n",
       "    <tr style=\"text-align: right;\">\n",
       "      <th></th>\n",
       "      <th>isbn</th>\n",
       "      <th>book_title</th>\n",
       "      <th>publisher</th>\n",
       "      <th>book_author</th>\n",
       "      <th>avg_rating</th>\n",
       "    </tr>\n",
       "  </thead>\n",
       "  <tbody>\n",
       "    <tr>\n",
       "      <th>0</th>\n",
       "      <td>0195153448</td>\n",
       "      <td>classical mythology</td>\n",
       "      <td>oxford university press</td>\n",
       "      <td>mark p. o. morford</td>\n",
       "      <td>NaN</td>\n",
       "    </tr>\n",
       "    <tr>\n",
       "      <th>1</th>\n",
       "      <td>0002005018</td>\n",
       "      <td>clara callan</td>\n",
       "      <td>harperflamingo canada</td>\n",
       "      <td>richard bruce wright</td>\n",
       "      <td>7.667969</td>\n",
       "    </tr>\n",
       "  </tbody>\n",
       "</table>\n",
       "</div>"
      ],
      "text/plain": [
       "         isbn           book_title                publisher  \\\n",
       "0  0195153448  classical mythology  oxford university press   \n",
       "1  0002005018         clara callan    harperflamingo canada   \n",
       "\n",
       "            book_author  avg_rating  \n",
       "0    mark p. o. morford         NaN  \n",
       "1  richard bruce wright    7.667969  "
      ]
     },
     "execution_count": 62,
     "metadata": {},
     "output_type": "execute_result"
    }
   ],
   "source": [
    "# lower case & removes any leading and trailing whitespaces. \n",
    "for i in ['book_title', 'publisher', 'book_author']:\n",
    "    cbf.loc[:, i] = cbf[i].str.lower()\n",
    "    cbf.loc[:, i] = cbf[i].str.strip()\n",
    "\n",
    "cbf['avg_rating'] = cbf['avg_rating'].astype(np.float16)\n",
    "cbf.head(2)"
   ]
  },
  {
   "cell_type": "code",
   "execution_count": 63,
   "id": "2a187468-f20c-4dd3-aae6-bcc7f07efb44",
   "metadata": {},
   "outputs": [],
   "source": [
    "# convert ratings into tiers\n",
    "def convert_ratings_into_tiers(x):\n",
    "    \n",
    "    if pd.isna(x):\n",
    "        return 'tier 5'\n",
    "    elif x >= 1 and x <= 4:\n",
    "        return 'tier 4'\n",
    "    elif x > 4 and x <= 6:\n",
    "        return 'tier 3'\n",
    "    elif x > 6 and x <= 8:\n",
    "        return 'tier 2'\n",
    "    else:\n",
    "        return 'tier 1'"
   ]
  },
  {
   "cell_type": "code",
   "execution_count": 64,
   "id": "37053cca-a74b-4dc3-bb84-7f4e5424eede",
   "metadata": {},
   "outputs": [
    {
     "data": {
      "text/html": [
       "<div>\n",
       "<style scoped>\n",
       "    .dataframe tbody tr th:only-of-type {\n",
       "        vertical-align: middle;\n",
       "    }\n",
       "\n",
       "    .dataframe tbody tr th {\n",
       "        vertical-align: top;\n",
       "    }\n",
       "\n",
       "    .dataframe thead th {\n",
       "        text-align: right;\n",
       "    }\n",
       "</style>\n",
       "<table border=\"1\" class=\"dataframe\">\n",
       "  <thead>\n",
       "    <tr style=\"text-align: right;\">\n",
       "      <th></th>\n",
       "      <th>isbn</th>\n",
       "      <th>book_title</th>\n",
       "      <th>publisher</th>\n",
       "      <th>book_author</th>\n",
       "      <th>avg_rating</th>\n",
       "      <th>tier</th>\n",
       "    </tr>\n",
       "  </thead>\n",
       "  <tbody>\n",
       "    <tr>\n",
       "      <th>0</th>\n",
       "      <td>0195153448</td>\n",
       "      <td>classical mythology</td>\n",
       "      <td>oxford university press</td>\n",
       "      <td>mark p. o. morford</td>\n",
       "      <td>NaN</td>\n",
       "      <td>tier 5</td>\n",
       "    </tr>\n",
       "    <tr>\n",
       "      <th>1</th>\n",
       "      <td>0002005018</td>\n",
       "      <td>clara callan</td>\n",
       "      <td>harperflamingo canada</td>\n",
       "      <td>richard bruce wright</td>\n",
       "      <td>7.667969</td>\n",
       "      <td>tier 2</td>\n",
       "    </tr>\n",
       "    <tr>\n",
       "      <th>2</th>\n",
       "      <td>0060973129</td>\n",
       "      <td>decision in normandy</td>\n",
       "      <td>harperperennial</td>\n",
       "      <td>carlo d'este</td>\n",
       "      <td>7.500000</td>\n",
       "      <td>tier 2</td>\n",
       "    </tr>\n",
       "    <tr>\n",
       "      <th>3</th>\n",
       "      <td>0374157065</td>\n",
       "      <td>flu: the story of the great influenza pandemic...</td>\n",
       "      <td>farrar straus giroux</td>\n",
       "      <td>gina bari kolata</td>\n",
       "      <td>7.832031</td>\n",
       "      <td>tier 2</td>\n",
       "    </tr>\n",
       "    <tr>\n",
       "      <th>4</th>\n",
       "      <td>0393045218</td>\n",
       "      <td>the mummies of urumchi</td>\n",
       "      <td>w. w. norton &amp;amp; company</td>\n",
       "      <td>e. j. w. barber</td>\n",
       "      <td>NaN</td>\n",
       "      <td>tier 5</td>\n",
       "    </tr>\n",
       "    <tr>\n",
       "      <th>5</th>\n",
       "      <td>0399135782</td>\n",
       "      <td>the kitchen god's wife</td>\n",
       "      <td>putnam pub group</td>\n",
       "      <td>amy tan</td>\n",
       "      <td>8.179688</td>\n",
       "      <td>tier 1</td>\n",
       "    </tr>\n",
       "    <tr>\n",
       "      <th>6</th>\n",
       "      <td>0425176428</td>\n",
       "      <td>what if?: the world's foremost military histor...</td>\n",
       "      <td>berkley publishing group</td>\n",
       "      <td>robert cowley</td>\n",
       "      <td>8.000000</td>\n",
       "      <td>tier 2</td>\n",
       "    </tr>\n",
       "    <tr>\n",
       "      <th>7</th>\n",
       "      <td>0671870432</td>\n",
       "      <td>pleading guilty</td>\n",
       "      <td>audioworks</td>\n",
       "      <td>scott turow</td>\n",
       "      <td>8.000000</td>\n",
       "      <td>tier 2</td>\n",
       "    </tr>\n",
       "    <tr>\n",
       "      <th>8</th>\n",
       "      <td>0679425608</td>\n",
       "      <td>under the black flag: the romance and the real...</td>\n",
       "      <td>random house</td>\n",
       "      <td>david cordingly</td>\n",
       "      <td>NaN</td>\n",
       "      <td>tier 5</td>\n",
       "    </tr>\n",
       "    <tr>\n",
       "      <th>9</th>\n",
       "      <td>074322678X</td>\n",
       "      <td>where you'll find me: and other stories</td>\n",
       "      <td>scribner</td>\n",
       "      <td>ann beattie</td>\n",
       "      <td>5.000000</td>\n",
       "      <td>tier 3</td>\n",
       "    </tr>\n",
       "  </tbody>\n",
       "</table>\n",
       "</div>"
      ],
      "text/plain": [
       "         isbn                                         book_title  \\\n",
       "0  0195153448                                classical mythology   \n",
       "1  0002005018                                       clara callan   \n",
       "2  0060973129                               decision in normandy   \n",
       "3  0374157065  flu: the story of the great influenza pandemic...   \n",
       "4  0393045218                             the mummies of urumchi   \n",
       "5  0399135782                             the kitchen god's wife   \n",
       "6  0425176428  what if?: the world's foremost military histor...   \n",
       "7  0671870432                                    pleading guilty   \n",
       "8  0679425608  under the black flag: the romance and the real...   \n",
       "9  074322678X            where you'll find me: and other stories   \n",
       "\n",
       "                    publisher           book_author  avg_rating    tier  \n",
       "0     oxford university press    mark p. o. morford         NaN  tier 5  \n",
       "1       harperflamingo canada  richard bruce wright    7.667969  tier 2  \n",
       "2             harperperennial          carlo d'este    7.500000  tier 2  \n",
       "3        farrar straus giroux      gina bari kolata    7.832031  tier 2  \n",
       "4  w. w. norton &amp; company       e. j. w. barber         NaN  tier 5  \n",
       "5            putnam pub group               amy tan    8.179688  tier 1  \n",
       "6    berkley publishing group         robert cowley    8.000000  tier 2  \n",
       "7                  audioworks           scott turow    8.000000  tier 2  \n",
       "8                random house       david cordingly         NaN  tier 5  \n",
       "9                    scribner           ann beattie    5.000000  tier 3  "
      ]
     },
     "execution_count": 64,
     "metadata": {},
     "output_type": "execute_result"
    }
   ],
   "source": [
    "cbf['tier'] = cbf['avg_rating'].apply(lambda x: convert_ratings_into_tiers(x))\n",
    "cbf.head(10)"
   ]
  },
  {
   "cell_type": "code",
   "execution_count": 65,
   "id": "21a74cfb-9e86-4c69-8ce9-f1e935c8c92a",
   "metadata": {},
   "outputs": [
    {
     "data": {
      "text/html": [
       "<div>\n",
       "<style scoped>\n",
       "    .dataframe tbody tr th:only-of-type {\n",
       "        vertical-align: middle;\n",
       "    }\n",
       "\n",
       "    .dataframe tbody tr th {\n",
       "        vertical-align: top;\n",
       "    }\n",
       "\n",
       "    .dataframe thead th {\n",
       "        text-align: right;\n",
       "    }\n",
       "</style>\n",
       "<table border=\"1\" class=\"dataframe\">\n",
       "  <thead>\n",
       "    <tr style=\"text-align: right;\">\n",
       "      <th></th>\n",
       "      <th>isbn</th>\n",
       "      <th>book_title</th>\n",
       "      <th>publisher</th>\n",
       "      <th>book_author</th>\n",
       "      <th>avg_rating</th>\n",
       "      <th>tier</th>\n",
       "      <th>description</th>\n",
       "    </tr>\n",
       "  </thead>\n",
       "  <tbody>\n",
       "    <tr>\n",
       "      <th>0</th>\n",
       "      <td>0195153448</td>\n",
       "      <td>classical mythology</td>\n",
       "      <td>oxford university press</td>\n",
       "      <td>mark p. o. morford</td>\n",
       "      <td>NaN</td>\n",
       "      <td>tier 5</td>\n",
       "      <td>classical mythology oxford university press ti...</td>\n",
       "    </tr>\n",
       "    <tr>\n",
       "      <th>1</th>\n",
       "      <td>0002005018</td>\n",
       "      <td>clara callan</td>\n",
       "      <td>harperflamingo canada</td>\n",
       "      <td>richard bruce wright</td>\n",
       "      <td>7.667969</td>\n",
       "      <td>tier 2</td>\n",
       "      <td>clara callan harperflamingo canada tier 2</td>\n",
       "    </tr>\n",
       "  </tbody>\n",
       "</table>\n",
       "</div>"
      ],
      "text/plain": [
       "         isbn           book_title                publisher  \\\n",
       "0  0195153448  classical mythology  oxford university press   \n",
       "1  0002005018         clara callan    harperflamingo canada   \n",
       "\n",
       "            book_author  avg_rating    tier  \\\n",
       "0    mark p. o. morford         NaN  tier 5   \n",
       "1  richard bruce wright    7.667969  tier 2   \n",
       "\n",
       "                                         description  \n",
       "0  classical mythology oxford university press ti...  \n",
       "1          clara callan harperflamingo canada tier 2  "
      ]
     },
     "execution_count": 65,
     "metadata": {},
     "output_type": "execute_result"
    }
   ],
   "source": [
    "# merge attributes\n",
    "def merge_description(df, col_list):\n",
    "    return df[col_list].apply(lambda x: ' '.join(x), axis=1)\n",
    "\n",
    "cols_to_merge = ['book_title', 'publisher', 'tier']\n",
    "cbf= cbf.assign(description=lambda x: merge_description(x, cols_to_merge))\n",
    "cbf.head(2)"
   ]
  },
  {
   "cell_type": "code",
   "execution_count": 66,
   "id": "83f8006c-4f71-4794-9bd1-95f61c238446",
   "metadata": {},
   "outputs": [
    {
     "data": {
      "text/html": [
       "<div>\n",
       "<style scoped>\n",
       "    .dataframe tbody tr th:only-of-type {\n",
       "        vertical-align: middle;\n",
       "    }\n",
       "\n",
       "    .dataframe tbody tr th {\n",
       "        vertical-align: top;\n",
       "    }\n",
       "\n",
       "    .dataframe thead th {\n",
       "        text-align: right;\n",
       "    }\n",
       "</style>\n",
       "<table border=\"1\" class=\"dataframe\">\n",
       "  <thead>\n",
       "    <tr style=\"text-align: right;\">\n",
       "      <th></th>\n",
       "      <th>isbn</th>\n",
       "      <th>book_title</th>\n",
       "      <th>publisher</th>\n",
       "      <th>book_author</th>\n",
       "      <th>avg_rating</th>\n",
       "      <th>tier</th>\n",
       "      <th>description</th>\n",
       "    </tr>\n",
       "  </thead>\n",
       "  <tbody>\n",
       "    <tr>\n",
       "      <th>0</th>\n",
       "      <td>0195153448</td>\n",
       "      <td>classical mythology</td>\n",
       "      <td>oxford university press</td>\n",
       "      <td>mark p. o. morford</td>\n",
       "      <td>NaN</td>\n",
       "      <td>tier 5</td>\n",
       "      <td>classical mythology oxford university press ti...</td>\n",
       "    </tr>\n",
       "    <tr>\n",
       "      <th>1</th>\n",
       "      <td>0002005018</td>\n",
       "      <td>clara callan</td>\n",
       "      <td>harperflamingo canada</td>\n",
       "      <td>richard bruce wright</td>\n",
       "      <td>7.667969</td>\n",
       "      <td>tier 2</td>\n",
       "      <td>clara callan harperflamingo canada tier 2</td>\n",
       "    </tr>\n",
       "  </tbody>\n",
       "</table>\n",
       "</div>"
      ],
      "text/plain": [
       "         isbn           book_title                publisher  \\\n",
       "0  0195153448  classical mythology  oxford university press   \n",
       "1  0002005018         clara callan    harperflamingo canada   \n",
       "\n",
       "            book_author  avg_rating    tier  \\\n",
       "0    mark p. o. morford         NaN  tier 5   \n",
       "1  richard bruce wright    7.667969  tier 2   \n",
       "\n",
       "                                         description  \n",
       "0  classical mythology oxford university press ti...  \n",
       "1          clara callan harperflamingo canada tier 2  "
      ]
     },
     "execution_count": 66,
     "metadata": {},
     "output_type": "execute_result"
    }
   ],
   "source": [
    "# remove stopwords\n",
    "cbf['description'] = cbf['description'].apply(lambda x: ' '.join([w for w in x.split() if w not in (stop)]))\n",
    "cbf.head(2)"
   ]
  },
  {
   "cell_type": "markdown",
   "id": "62328665-5b80-41ff-b82c-0576f2a1884e",
   "metadata": {},
   "source": [
    "We can use TF-IDF or embedding:\n",
    "\n",
    "1. TF_IDF: https://scikit-learn.org/stable/modules/generated/sklearn.feature_extraction.text.TfidfVectorizer.html\n",
    "2. Sentence Transformer: https://www.sbert.net/docs/pretrained_models.html\n",
    "3. Universal Sentence Encoder: https://tfhub.dev/google/universal-sentence-encoder-large/5"
   ]
  },
  {
   "cell_type": "markdown",
   "id": "99b2e12b-5e6c-4af5-a54f-bac38f709702",
   "metadata": {},
   "source": [
    "TF-IDF:"
   ]
  },
  {
   "cell_type": "code",
   "execution_count": 67,
   "id": "85e0a7c6-71fa-4b9f-b42f-18cdfb07550a",
   "metadata": {},
   "outputs": [],
   "source": [
    "# Initialize tf-idf vectorizer\n",
    "tfidf_vectorizer = TfidfVectorizer(\n",
    "    analyzer='word',                  # whether the feature should be made of word or character n-grams       \n",
    "    min_df=1,                         # minimum required occurences of a word \n",
    "                                      # (ignore terms that have a document frequency strictly lower than 1)\n",
    "    encoding='utf-8',                  # encoding\n",
    "    lowercase=True,                   # convert all words to lowercase\n",
    "    token_pattern='[a-zA-Z0-9]{3,}',  # num chars > 3\n",
    "    norm='l2',                        # L2 normalization\n",
    ")"
   ]
  },
  {
   "cell_type": "code",
   "execution_count": 68,
   "id": "0de024b3-d50d-4dc4-b131-c5a7028e05c9",
   "metadata": {},
   "outputs": [
    {
     "data": {
      "text/plain": [
       "<271360x81153 sparse matrix of type '<class 'numpy.float64'>'\n",
       "\twith 1951312 stored elements in Compressed Sparse Row format>"
      ]
     },
     "execution_count": 68,
     "metadata": {},
     "output_type": "execute_result"
    }
   ],
   "source": [
    "# fit to the dataset\n",
    "features = tfidf_vectorizer.fit_transform(cbf['description'])\n",
    "features"
   ]
  },
  {
   "cell_type": "code",
   "execution_count": 69,
   "id": "ceaba70b-0b40-4446-a205-e23c12afe95d",
   "metadata": {},
   "outputs": [
    {
     "data": {
      "text/plain": [
       "array([0.57476454, 0.58429464, 0.39871582, 0.23594546, 0.0663163 ,\n",
       "       0.33045889])"
      ]
     },
     "execution_count": 69,
     "metadata": {},
     "output_type": "execute_result"
    }
   ],
   "source": [
    "book_1 = features[0].toarray()\n",
    "book_1[book_1 > 0]"
   ]
  },
  {
   "cell_type": "code",
   "execution_count": 70,
   "id": "465eb093-27ec-4a37-b9be-b833732465eb",
   "metadata": {},
   "outputs": [
    {
     "data": {
      "text/plain": [
       "array([ 8.14056729, 12.81805814, 12.81805814, ..., 12.41259303,\n",
       "       12.81805814, 12.81805814])"
      ]
     },
     "execution_count": 70,
     "metadata": {},
     "output_type": "execute_result"
    }
   ],
   "source": [
    "tfidf_vectorizer.idf_"
   ]
  },
  {
   "cell_type": "markdown",
   "id": "4085ce30-c7d3-4902-86e9-7308caeb7ada",
   "metadata": {},
   "source": [
    "Differente technique to calculate the similarity:\n",
    "\n",
    "1. Cosine Similarity: https://scikit-learn.org/stable/modules/generated/sklearn.metrics.pairwise.cosine_similarity.html\n",
    "2. Nearest Neighnors: https://scikit-learn.org/stable/modules/neighbors.html\n",
    "3. Approximate Nearest Neighbors:\n",
    "   \n",
    "    - Annoy: https://github.com/spotify/annoy (CPU More efficient)\n",
    "    - NMSLIB: https://github.com/nmslib/nmslib --> more popular in industry\n",
    "    - Faiss: https://github.com/facebookresearch/faiss (CPU More efficient)"
   ]
  },
  {
   "cell_type": "markdown",
   "id": "beb14687-8e78-4c60-bc8b-2639fb66a9b8",
   "metadata": {},
   "source": [
    "Nearest Neighbors:"
   ]
  },
  {
   "cell_type": "code",
   "execution_count": 71,
   "id": "16ad3a49-e808-4edb-b481-b3b91dda50dd",
   "metadata": {},
   "outputs": [],
   "source": [
    "# Create nearest neighbors\n",
    "nn = NearestNeighbors(n_neighbors=20).fit(features)"
   ]
  },
  {
   "cell_type": "code",
   "execution_count": 72,
   "id": "ec150f95-5dd8-4e0c-90f0-b1813d94630e",
   "metadata": {},
   "outputs": [],
   "source": [
    "# Create items dictionary\n",
    "items_dict = dict(enumerate(cbf['isbn']))\n",
    "items_dict = {v: k for k, v in items_dict.items()}"
   ]
  },
  {
   "cell_type": "code",
   "execution_count": 73,
   "id": "2be642be-6443-42f7-bf42-8f5b87963599",
   "metadata": {},
   "outputs": [],
   "source": [
    "def recommend(\n",
    "    book_id, \n",
    "    n_rec, \n",
    "    features,\n",
    "    items_dict,\n",
    "    nearest_neighbors, \n",
    "    df\n",
    "):\n",
    "\n",
    "    \"\"\"\n",
    "    :return: recommendation list\n",
    "    \"\"\"\n",
    "\n",
    "    # Get the index of the movie\n",
    "    idx = items_dict[book_id]\n",
    "\n",
    "    # Find the K-neighbors of a point\n",
    "    distances, indices = nn.kneighbors(features[idx].reshape(1, -1))\n",
    "    index_list = indices.ravel()\n",
    "\n",
    "    # Generate top-N recommendations\n",
    "    out = list()\n",
    "\n",
    "    i = 0\n",
    "    while i <= n_rec:\n",
    "        out.append(\n",
    "                cbf[cbf.index == index_list[i]][['book_title', 'book_author', 'publisher', 'tier', 'avg_rating']].values[0])\n",
    "        i += 1\n",
    "\n",
    "    out = pd.DataFrame(out, columns=['book_title', 'book_author', 'publisher', 'tier', 'avg_rating'])\n",
    "\n",
    "    return out"
   ]
  },
  {
   "cell_type": "code",
   "execution_count": 74,
   "id": "85484e58-842d-4d6e-afca-a25132683d75",
   "metadata": {},
   "outputs": [
    {
     "data": {
      "text/html": [
       "<div>\n",
       "<style scoped>\n",
       "    .dataframe tbody tr th:only-of-type {\n",
       "        vertical-align: middle;\n",
       "    }\n",
       "\n",
       "    .dataframe tbody tr th {\n",
       "        vertical-align: top;\n",
       "    }\n",
       "\n",
       "    .dataframe thead th {\n",
       "        text-align: right;\n",
       "    }\n",
       "</style>\n",
       "<table border=\"1\" class=\"dataframe\">\n",
       "  <thead>\n",
       "    <tr style=\"text-align: right;\">\n",
       "      <th></th>\n",
       "      <th>book_title</th>\n",
       "      <th>book_author</th>\n",
       "      <th>publisher</th>\n",
       "      <th>tier</th>\n",
       "      <th>avg_rating</th>\n",
       "    </tr>\n",
       "  </thead>\n",
       "  <tbody>\n",
       "    <tr>\n",
       "      <th>0</th>\n",
       "      <td>programming python</td>\n",
       "      <td>mark lutz</td>\n",
       "      <td>o'reilly</td>\n",
       "      <td>tier 5</td>\n",
       "      <td>NaN</td>\n",
       "    </tr>\n",
       "    <tr>\n",
       "      <th>1</th>\n",
       "      <td>programming python (2nd edition)</td>\n",
       "      <td>mark lutz</td>\n",
       "      <td>o'reilly</td>\n",
       "      <td>tier 1</td>\n",
       "      <td>9.500000</td>\n",
       "    </tr>\n",
       "    <tr>\n",
       "      <th>2</th>\n",
       "      <td>python programming on win32</td>\n",
       "      <td>mark hammond</td>\n",
       "      <td>o'reilly</td>\n",
       "      <td>tier 2</td>\n",
       "      <td>8.000000</td>\n",
       "    </tr>\n",
       "    <tr>\n",
       "      <th>3</th>\n",
       "      <td>python web programming</td>\n",
       "      <td>steve  holden</td>\n",
       "      <td>sams</td>\n",
       "      <td>tier 1</td>\n",
       "      <td>9.000000</td>\n",
       "    </tr>\n",
       "    <tr>\n",
       "      <th>4</th>\n",
       "      <td>programming c#, third edition</td>\n",
       "      <td>jesse liberty</td>\n",
       "      <td>o'reilly</td>\n",
       "      <td>tier 5</td>\n",
       "      <td>NaN</td>\n",
       "    </tr>\n",
       "    <tr>\n",
       "      <th>5</th>\n",
       "      <td>learning python (help for programmers)</td>\n",
       "      <td>mark lutz</td>\n",
       "      <td>o'reilly</td>\n",
       "      <td>tier 1</td>\n",
       "      <td>9.664062</td>\n",
       "    </tr>\n",
       "  </tbody>\n",
       "</table>\n",
       "</div>"
      ],
      "text/plain": [
       "                               book_title    book_author publisher    tier  \\\n",
       "0                      programming python      mark lutz  o'reilly  tier 5   \n",
       "1        programming python (2nd edition)      mark lutz  o'reilly  tier 1   \n",
       "2             python programming on win32   mark hammond  o'reilly  tier 2   \n",
       "3                  python web programming  steve  holden      sams  tier 1   \n",
       "4           programming c#, third edition  jesse liberty  o'reilly  tier 5   \n",
       "5  learning python (help for programmers)      mark lutz  o'reilly  tier 1   \n",
       "\n",
       "   avg_rating  \n",
       "0         NaN  \n",
       "1    9.500000  \n",
       "2    8.000000  \n",
       "3    9.000000  \n",
       "4         NaN  \n",
       "5    9.664062  "
      ]
     },
     "execution_count": 74,
     "metadata": {},
     "output_type": "execute_result"
    }
   ],
   "source": [
    "out = recommend(\n",
    "    #book_id=\"0671870432\", \n",
    "    book_id=\"1565921976\",\n",
    "    n_rec=5, \n",
    "    items_dict=items_dict,\n",
    "    features=features, \n",
    "    nearest_neighbors=nn,\n",
    "    df=cbf\n",
    ")\n",
    "\n",
    "out"
   ]
  },
  {
   "cell_type": "markdown",
   "id": "a0196c3a-020d-471e-b541-6b94854e33ea",
   "metadata": {},
   "source": [
    "#### <font color='DarkBlue'>Collaborating Filtering</font>"
   ]
  },
  {
   "cell_type": "markdown",
   "id": "9f4a1805-b177-4ec5-a792-ecc17fbb9229",
   "metadata": {},
   "source": [
    "Use-Case: Recommend most relevant items per user.\n",
    "\n",
    "Differente technique we can use:\n",
    "\n",
    "- Nearest Neighbors: https://scikit-learn.org/stable/modules/neighbors.html\n",
    "- Alternating Least Square (ALS) or Bayesian Personalized Ranking(BPR): https://github.com/benfred/implicit/tree/main\n",
    "- Neural Collaborative Filtering: https://arxiv.org/abs/1708.05031\n",
    "- LightFM: https://making.lyst.com/lightfm/docs/index.html"
   ]
  },
  {
   "cell_type": "markdown",
   "id": "87e33df9-2d1d-4ab6-8f58-f74cd1d1716d",
   "metadata": {},
   "source": [
    "##### <font color='DarkBlue'>Implicit Library: Implicit or Explicit Ratings</font>\n",
    "____________"
   ]
  },
  {
   "cell_type": "code",
   "execution_count": 75,
   "id": "35e4e0ae-c880-48b5-97d6-7576377c7865",
   "metadata": {},
   "outputs": [],
   "source": [
    "# see data exploration \n",
    "# sub product group which doesn't include thise limited products\n",
    "\n",
    "def sub_item(tbl, col):\n",
    "    first_quartile = np.percentile(tbl[col], 25)\n",
    "    mask = tbl[col] > first_quartile\n",
    "    out = tbl[mask]\n",
    "    out.reset_index(inplace=True)\n",
    "    return out"
   ]
  },
  {
   "cell_type": "code",
   "execution_count": 76,
   "id": "ca5058d6-bea0-4d15-bd06-86599be52e63",
   "metadata": {},
   "outputs": [
    {
     "name": "stdout",
     "output_type": "stream",
     "text": [
      "(93, 1) (69, 2)\n",
      "(93, 1) (68, 2)\n",
      "(149836, 1) (111752, 2)\n"
     ]
    }
   ],
   "source": [
    "sub_product_year_i = sub_item(pop_year_i, 'count')\n",
    "sub_product_year_e = sub_item(pop_year_e, 'count')\n",
    "sub_product_avg_rating = sub_item(avg_rating, 'avg_rating')\n",
    "\n",
    "# 93 - 69 = 24 years removed from implicit \n",
    "# 93 - 68 = 25 years removed from explicit \n",
    "# 149836 - 111752 = 38 084 average rating removed from explicit \n",
    "print(pop_year_i.shape, sub_product_year_i.shape)\n",
    "print(pop_year_e.shape, sub_product_year_e.shape)\n",
    "print(avg_rating.shape, sub_product_avg_rating.shape)"
   ]
  },
  {
   "cell_type": "code",
   "execution_count": 77,
   "id": "aabb118b-7a38-489c-b1ba-95994cbc5d5b",
   "metadata": {},
   "outputs": [
    {
     "data": {
      "text/html": [
       "<div>\n",
       "<style scoped>\n",
       "    .dataframe tbody tr th:only-of-type {\n",
       "        vertical-align: middle;\n",
       "    }\n",
       "\n",
       "    .dataframe tbody tr th {\n",
       "        vertical-align: top;\n",
       "    }\n",
       "\n",
       "    .dataframe thead th {\n",
       "        text-align: right;\n",
       "    }\n",
       "</style>\n",
       "<table border=\"1\" class=\"dataframe\">\n",
       "  <thead>\n",
       "    <tr style=\"text-align: right;\">\n",
       "      <th></th>\n",
       "      <th>user_id</th>\n",
       "      <th>isbn</th>\n",
       "      <th>book_rating</th>\n",
       "      <th>book_title</th>\n",
       "      <th>book_author</th>\n",
       "      <th>publisher</th>\n",
       "      <th>year_publication</th>\n",
       "      <th>avg_rating</th>\n",
       "    </tr>\n",
       "  </thead>\n",
       "  <tbody>\n",
       "    <tr>\n",
       "      <th>0</th>\n",
       "      <td>276726</td>\n",
       "      <td>0155061224</td>\n",
       "      <td>5</td>\n",
       "      <td>Rites of Passage</td>\n",
       "      <td>Judith Rae</td>\n",
       "      <td>Heinle</td>\n",
       "      <td>2001</td>\n",
       "      <td>5.0</td>\n",
       "    </tr>\n",
       "    <tr>\n",
       "      <th>1</th>\n",
       "      <td>276729</td>\n",
       "      <td>052165615X</td>\n",
       "      <td>3</td>\n",
       "      <td>Help!: Level 1</td>\n",
       "      <td>Philip Prowse</td>\n",
       "      <td>Cambridge University Press</td>\n",
       "      <td>1999</td>\n",
       "      <td>3.0</td>\n",
       "    </tr>\n",
       "  </tbody>\n",
       "</table>\n",
       "</div>"
      ],
      "text/plain": [
       "   user_id        isbn  book_rating        book_title    book_author  \\\n",
       "0   276726  0155061224            5  Rites of Passage     Judith Rae   \n",
       "1   276729  052165615X            3    Help!: Level 1  Philip Prowse   \n",
       "\n",
       "                    publisher  year_publication  avg_rating  \n",
       "0                      Heinle              2001         5.0  \n",
       "1  Cambridge University Press              1999         3.0  "
      ]
     },
     "execution_count": 77,
     "metadata": {},
     "output_type": "execute_result"
    }
   ],
   "source": [
    "# Merge the average rating\n",
    "dfe = dfe.merge(avg_rating, how='left', on='isbn')\n",
    "dfe.head(2)"
   ]
  },
  {
   "cell_type": "code",
   "execution_count": 78,
   "id": "9a90eec3-2c17-4468-89c8-f8e0dbfdcf37",
   "metadata": {},
   "outputs": [
    {
     "name": "stdout",
     "output_type": "stream",
     "text": [
      "(647294, 7) (383842, 8) (1031136, 7)\n"
     ]
    }
   ],
   "source": [
    "print(dfi.shape, dfe.shape, df.shape)"
   ]
  },
  {
   "cell_type": "code",
   "execution_count": 79,
   "id": "f5982c9c-267b-4c83-b0cf-2fefc1c6c7fb",
   "metadata": {},
   "outputs": [],
   "source": [
    "# create column group_flag for highlight group (0 or 1)\n",
    "\n",
    "dfi['group_year'] = np.where(dfi['year_publication'].isin(sub_product_year_i['year_publication']), 1, 0)\n",
    "dfe['group_year'] = np.where(dfe['year_publication'].isin(sub_product_year_e['year_publication']), 1, 0)\n",
    "dfe['group_avg_rating'] = np.where(dfe['avg_rating'].isin(sub_product_avg_rating['avg_rating']), 1, 0)"
   ]
  },
  {
   "cell_type": "code",
   "execution_count": 80,
   "id": "0f76ac0d-080e-4c92-8bd8-a41d5ff9faaa",
   "metadata": {},
   "outputs": [
    {
     "data": {
      "text/html": [
       "<div>\n",
       "<style scoped>\n",
       "    .dataframe tbody tr th:only-of-type {\n",
       "        vertical-align: middle;\n",
       "    }\n",
       "\n",
       "    .dataframe tbody tr th {\n",
       "        vertical-align: top;\n",
       "    }\n",
       "\n",
       "    .dataframe thead th {\n",
       "        text-align: right;\n",
       "    }\n",
       "</style>\n",
       "<table border=\"1\" class=\"dataframe\">\n",
       "  <thead>\n",
       "    <tr style=\"text-align: right;\">\n",
       "      <th></th>\n",
       "      <th>user_id</th>\n",
       "      <th>isbn</th>\n",
       "      <th>book_rating</th>\n",
       "      <th>book_title</th>\n",
       "      <th>book_author</th>\n",
       "      <th>publisher</th>\n",
       "      <th>year_publication</th>\n",
       "      <th>avg_rating</th>\n",
       "      <th>group_year</th>\n",
       "      <th>group_avg_rating</th>\n",
       "    </tr>\n",
       "  </thead>\n",
       "  <tbody>\n",
       "    <tr>\n",
       "      <th>383837</th>\n",
       "      <td>276704</td>\n",
       "      <td>0743211383</td>\n",
       "      <td>7</td>\n",
       "      <td>Dreamcatcher</td>\n",
       "      <td>Stephen King</td>\n",
       "      <td>Scribner</td>\n",
       "      <td>2001</td>\n",
       "      <td>6.964912</td>\n",
       "      <td>1</td>\n",
       "      <td>1</td>\n",
       "    </tr>\n",
       "    <tr>\n",
       "      <th>383838</th>\n",
       "      <td>276704</td>\n",
       "      <td>0806917695</td>\n",
       "      <td>5</td>\n",
       "      <td>Perplexing Lateral Thinking Puzzles: Scholasti...</td>\n",
       "      <td>Paul Sloane</td>\n",
       "      <td>Sterling Publishing</td>\n",
       "      <td>1997</td>\n",
       "      <td>5.000000</td>\n",
       "      <td>1</td>\n",
       "      <td>0</td>\n",
       "    </tr>\n",
       "    <tr>\n",
       "      <th>383839</th>\n",
       "      <td>276704</td>\n",
       "      <td>1563526298</td>\n",
       "      <td>9</td>\n",
       "      <td>Get Clark Smart : The Ultimate Guide for the S...</td>\n",
       "      <td>Clark Howard</td>\n",
       "      <td>Longstreet Press</td>\n",
       "      <td>2000</td>\n",
       "      <td>7.000000</td>\n",
       "      <td>1</td>\n",
       "      <td>1</td>\n",
       "    </tr>\n",
       "    <tr>\n",
       "      <th>383840</th>\n",
       "      <td>276709</td>\n",
       "      <td>0515107662</td>\n",
       "      <td>10</td>\n",
       "      <td>The Sherbrooke Bride (Bride Trilogy (Paperback))</td>\n",
       "      <td>Catherine Coulter</td>\n",
       "      <td>Jove Books</td>\n",
       "      <td>1996</td>\n",
       "      <td>8.444444</td>\n",
       "      <td>1</td>\n",
       "      <td>1</td>\n",
       "    </tr>\n",
       "    <tr>\n",
       "      <th>383841</th>\n",
       "      <td>276721</td>\n",
       "      <td>0590442449</td>\n",
       "      <td>10</td>\n",
       "      <td>Fourth Grade Rats</td>\n",
       "      <td>Jerry Spinelli</td>\n",
       "      <td>Scholastic</td>\n",
       "      <td>1996</td>\n",
       "      <td>9.000000</td>\n",
       "      <td>1</td>\n",
       "      <td>1</td>\n",
       "    </tr>\n",
       "  </tbody>\n",
       "</table>\n",
       "</div>"
      ],
      "text/plain": [
       "        user_id        isbn  book_rating  \\\n",
       "383837   276704  0743211383            7   \n",
       "383838   276704  0806917695            5   \n",
       "383839   276704  1563526298            9   \n",
       "383840   276709  0515107662           10   \n",
       "383841   276721  0590442449           10   \n",
       "\n",
       "                                               book_title        book_author  \\\n",
       "383837                                       Dreamcatcher       Stephen King   \n",
       "383838  Perplexing Lateral Thinking Puzzles: Scholasti...        Paul Sloane   \n",
       "383839  Get Clark Smart : The Ultimate Guide for the S...       Clark Howard   \n",
       "383840   The Sherbrooke Bride (Bride Trilogy (Paperback))  Catherine Coulter   \n",
       "383841                                  Fourth Grade Rats     Jerry Spinelli   \n",
       "\n",
       "                  publisher  year_publication  avg_rating  group_year  \\\n",
       "383837             Scribner              2001    6.964912           1   \n",
       "383838  Sterling Publishing              1997    5.000000           1   \n",
       "383839     Longstreet Press              2000    7.000000           1   \n",
       "383840           Jove Books              1996    8.444444           1   \n",
       "383841           Scholastic              1996    9.000000           1   \n",
       "\n",
       "        group_avg_rating  \n",
       "383837                 1  \n",
       "383838                 0  \n",
       "383839                 1  \n",
       "383840                 1  \n",
       "383841                 1  "
      ]
     },
     "execution_count": 80,
     "metadata": {},
     "output_type": "execute_result"
    }
   ],
   "source": [
    "dfe.tail()"
   ]
  },
  {
   "cell_type": "code",
   "execution_count": 81,
   "id": "2abcd714-4200-4fe9-bf43-543a1a96045f",
   "metadata": {},
   "outputs": [
    {
     "name": "stdout",
     "output_type": "stream",
     "text": [
      "(647294, 8) (647201, 8)\n",
      "(383842, 10) (383761, 10)\n",
      "(383842, 10) (325206, 10)\n"
     ]
    }
   ],
   "source": [
    "# for the evaluation, remove the group_flag = 0 (not for the training)\n",
    "dfi_eval_year = dfi[dfi[\"group_year\"] == 1]\n",
    "dfe_eval_year = dfe[dfe[\"group_year\"] == 1]\n",
    "dfe_eval_avg_rating = dfe[dfe[\"group_avg_rating\"] == 1]\n",
    "\n",
    "print(dfi.shape, dfi_eval_year.shape)\n",
    "print(dfe.shape, dfe_eval_year.shape)\n",
    "print(dfe.shape, dfe_eval_avg_rating.shape)"
   ]
  },
  {
   "cell_type": "code",
   "execution_count": 82,
   "id": "9054167a-80b1-4f6a-8b35-4bc7cccacb91",
   "metadata": {},
   "outputs": [],
   "source": [
    "# Convert dataset into a csr sparse matrix with users x items format\n",
    "def cat(tbl, col1, col2):\n",
    "    tbl[col1] = tbl[col1].astype('category')\n",
    "    tbl[col2] = tbl[col2].astype('category')\n",
    "\n",
    "cat(dfi, \"user_id\", \"isbn\")\n",
    "cat(dfi_eval_year, \"user_id\", \"isbn\")\n",
    "cat(dfe, \"user_id\", \"isbn\")\n",
    "cat(dfe_eval_year, \"user_id\", \"isbn\")\n",
    "cat(dfe_eval_avg_rating, \"user_id\", \"isbn\")\n",
    "cat(df, \"user_id\", \"isbn\")"
   ]
  },
  {
   "cell_type": "code",
   "execution_count": 83,
   "id": "92d9e224-e5bd-40c6-9e13-43da4a085932",
   "metadata": {},
   "outputs": [
    {
     "name": "stdout",
     "output_type": "stream",
     "text": [
      "<class 'pandas.core.frame.DataFrame'>\n",
      "Int64Index: 1031136 entries, 0 to 1031135\n",
      "Data columns (total 7 columns):\n",
      " #   Column            Non-Null Count    Dtype   \n",
      "---  ------            --------------    -----   \n",
      " 0   user_id           1031136 non-null  category\n",
      " 1   isbn              1031136 non-null  category\n",
      " 2   book_rating       1031136 non-null  int64   \n",
      " 3   book_title        1031136 non-null  object  \n",
      " 4   book_author       1031136 non-null  object  \n",
      " 5   publisher         1031136 non-null  object  \n",
      " 6   year_publication  1031136 non-null  int64   \n",
      "dtypes: category(2), int64(2), object(3)\n",
      "memory usage: 67.9+ MB\n"
     ]
    }
   ],
   "source": [
    "df.info()"
   ]
  },
  {
   "cell_type": "code",
   "execution_count": 84,
   "id": "17005ab5-79b4-4e55-ae84-7da3c64438de",
   "metadata": {},
   "outputs": [
    {
     "name": "stderr",
     "output_type": "stream",
     "text": [
      "The unique number of users for dfe: 68091\n",
      "The unique number of books for dfe: 149836\n",
      "The unique number of users for dfe_eval_avg_rating: 61770\n",
      "The unique number of books for dfe_eval_avg_rating: 111752\n"
     ]
    }
   ],
   "source": [
    "logger.info(f'The unique number of users for dfe: {dfe[\"user_id\"].nunique()}')\n",
    "logger.info(f'The unique number of books for dfe: {dfe[\"isbn\"].nunique()}')\n",
    "logger.info(f'The unique number of users for dfe_eval_avg_rating: {dfe_eval_avg_rating[\"user_id\"].nunique()}')\n",
    "logger.info(f'The unique number of books for dfe_eval_avg_rating: {dfe_eval_avg_rating[\"isbn\"].nunique()}')"
   ]
  },
  {
   "cell_type": "code",
   "execution_count": 85,
   "id": "9fc0df2a-f742-464b-9727-4ef060f772e7",
   "metadata": {},
   "outputs": [],
   "source": [
    "# Convert dataset into a csr sparse matrix with users x items format\n",
    "def matrix_factorization(tbl, name):\n",
    "    out = csr_matrix(\n",
    "        (name, (tbl['user_id'].cat.codes.copy(), tbl['isbn'].cat.codes.copy())), \n",
    "        dtype=np.float32,\n",
    "    )\n",
    "    return out\n",
    "\n",
    "user_item_data = matrix_factorization(df, df['book_rating'].astype(np.float32))\n",
    "\n",
    "user_item_data_i = matrix_factorization(dfi, np.ones(len(dfi)))\n",
    "user_item_data_i_year = matrix_factorization(dfi_eval_year, np.ones(len(dfi_eval_year)))\n",
    "\n",
    "user_item_data_e = matrix_factorization(dfe, dfe['book_rating'].astype(np.float32))\n",
    "user_item_data_e_year = matrix_factorization(dfe_eval_year, dfe_eval_year['book_rating'].astype(np.float32))\n",
    "user_item_data_e_avg = matrix_factorization(dfe_eval_avg_rating, dfe_eval_avg_rating['book_rating'].astype(np.float32))"
   ]
  },
  {
   "cell_type": "code",
   "execution_count": 86,
   "id": "ac92eb7f-044d-4a7d-a7e4-4e4ff86d1b4c",
   "metadata": {},
   "outputs": [
    {
     "data": {
      "text/plain": [
       "<92106x270151 sparse matrix of type '<class 'numpy.float32'>'\n",
       "\twith 1031136 stored elements in Compressed Sparse Row format>"
      ]
     },
     "execution_count": 86,
     "metadata": {},
     "output_type": "execute_result"
    }
   ],
   "source": [
    "user_item_data"
   ]
  },
  {
   "cell_type": "code",
   "execution_count": 87,
   "id": "91c30f90-607c-4714-9112-8dfec33a5417",
   "metadata": {},
   "outputs": [
    {
     "data": {
      "text/plain": [
       "(1031136, 7)"
      ]
     },
     "execution_count": 87,
     "metadata": {},
     "output_type": "execute_result"
    }
   ],
   "source": [
    "df.shape"
   ]
  },
  {
   "cell_type": "code",
   "execution_count": 88,
   "id": "c2a27d5a-56ab-4017-8f94-b0e722d0a0f3",
   "metadata": {},
   "outputs": [
    {
     "data": {
      "text/plain": [
       "array([5., 0., 0., 0., 0., 0., 0., 0., 5., 0., 0., 5., 5., 0., 6., 6., 7.],\n",
       "      dtype=float32)"
      ]
     },
     "execution_count": 88,
     "metadata": {},
     "output_type": "execute_result"
    }
   ],
   "source": [
    "user_item_data[1].data"
   ]
  },
  {
   "cell_type": "code",
   "execution_count": 89,
   "id": "bf742772-a55e-44fd-9ba4-7fcc33dcd2c6",
   "metadata": {},
   "outputs": [
    {
     "data": {
      "text/plain": [
       "<68091x149836 sparse matrix of type '<class 'numpy.float32'>'\n",
       "\twith 383842 stored elements in Compressed Sparse Row format>"
      ]
     },
     "execution_count": 89,
     "metadata": {},
     "output_type": "execute_result"
    }
   ],
   "source": [
    "user_item_data_e"
   ]
  },
  {
   "cell_type": "code",
   "execution_count": 90,
   "id": "58c489a9-e773-41d3-80a2-fae019231123",
   "metadata": {},
   "outputs": [
    {
     "data": {
      "text/plain": [
       "(383842, 10)"
      ]
     },
     "execution_count": 90,
     "metadata": {},
     "output_type": "execute_result"
    }
   ],
   "source": [
    "dfe.shape"
   ]
  },
  {
   "cell_type": "code",
   "execution_count": 91,
   "id": "0cdd28da-c7a3-4fb4-9dd3-ca9c29519947",
   "metadata": {},
   "outputs": [
    {
     "data": {
      "text/plain": [
       "array([5., 5., 5., 5., 6., 6., 7.], dtype=float32)"
      ]
     },
     "execution_count": 91,
     "metadata": {},
     "output_type": "execute_result"
    }
   ],
   "source": [
    "user_item_data_e[0].data"
   ]
  },
  {
   "cell_type": "code",
   "execution_count": 92,
   "id": "5ef3cbda-f670-4422-a3e2-42e3c8dc0feb",
   "metadata": {},
   "outputs": [
    {
     "data": {
      "text/plain": [
       "<52451x201623 sparse matrix of type '<class 'numpy.float32'>'\n",
       "\twith 647294 stored elements in Compressed Sparse Row format>"
      ]
     },
     "execution_count": 92,
     "metadata": {},
     "output_type": "execute_result"
    }
   ],
   "source": [
    "user_item_data_i"
   ]
  },
  {
   "cell_type": "code",
   "execution_count": 93,
   "id": "6d7ce219-d0a1-4418-99bf-4056dbad6f01",
   "metadata": {},
   "outputs": [
    {
     "data": {
      "text/plain": [
       "(647294, 8)"
      ]
     },
     "execution_count": 93,
     "metadata": {},
     "output_type": "execute_result"
    }
   ],
   "source": [
    "dfi.shape"
   ]
  },
  {
   "cell_type": "code",
   "execution_count": 94,
   "id": "a8cba04b-8202-43d8-9ec1-ded306811c01",
   "metadata": {},
   "outputs": [
    {
     "data": {
      "text/plain": [
       "array([1., 1., 1., 1., 1., 1., 1., 1., 1., 1.], dtype=float32)"
      ]
     },
     "execution_count": 94,
     "metadata": {},
     "output_type": "execute_result"
    }
   ],
   "source": [
    "user_item_data_i[1].data"
   ]
  },
  {
   "cell_type": "markdown",
   "id": "70f6512b-998b-4b70-b1ee-b664bf559e0a",
   "metadata": {},
   "source": [
    "With implicit library: https://github.com/benfred/implicit/tree/main\n",
    "- Try on implicit or explixit rating, with BM25, ALS, BPR algo"
   ]
  },
  {
   "cell_type": "code",
   "execution_count": 95,
   "id": "7e94014b-09f1-4991-9f75-1ca11176c0be",
   "metadata": {},
   "outputs": [
    {
     "name": "stderr",
     "output_type": "stream",
     "text": [
      "0.05, MAP@5: 0.015811882895701266\n",
      "0.15, MAP@5: 0.016213596535353078\n",
      "0.25, MAP@5: 0.016435047452056876\n",
      "0.5, MAP@5: 0.016165545638770287\n",
      "0.75, MAP@5: 0.01576122105807782\n",
      "1, MAP@5: 0.015320558885104184\n"
     ]
    }
   ],
   "source": [
    "for i in [0.05, 0.15, 0.25, 0.5, 0.75, 1]:\n",
    "\n",
    "    # Reduce the weight given to popular books\n",
    "    item_user_data_bm25 = bm25_weight(user_item_data_e_avg.T, K1=1, B=i) \n",
    "    user_item_data_bm25 = item_user_data_bm25.T.tocsr() \n",
    "    \n",
    "    # Initialization\n",
    "    models = {\n",
    "        \"als\": AlternatingLeastSquares,\n",
    "        \"bpr\": BayesianPersonalizedRanking,\n",
    "    }\n",
    "    \n",
    "    params = {\n",
    "        'als': {'factors': 512, 'iterations': 10, 'regularization': 0.5, 'random_state':0},\n",
    "        'bpr': {'factors': 128, 'iterations': 200, 'learning_rate': 0.4, 'regularization': 0.005, 'random_state':0}\n",
    "    }\n",
    "    \n",
    "    # ALS or BPR ...\n",
    "    model_name = 'als'\n",
    "    selected_model = models.get(model_name)(**params.get(model_name))\n",
    "    \n",
    "    # Evaluation\n",
    "    train, test = train_test_split( # https://github.com/benfred/implicit/tree/main\n",
    "        user_item_data_bm25, \n",
    "        train_percentage=0.8, \n",
    "        random_state=0 \n",
    "    )\n",
    "    assert train.shape[0] == test.shape[0] == user_item_data_bm25.shape[0]\n",
    "    assert train.data.shape[0] + test.data.shape[0] == user_item_data_bm25.data.shape[0]\n",
    "    \n",
    "    selected_model.fit(train, show_progress=False)\n",
    "    map_at_k = mean_average_precision_at_k( \n",
    "        model = selected_model, \n",
    "        train_user_items=train, \n",
    "        test_user_items=test, # then evaluate with the test set\n",
    "        K=5,\n",
    "        show_progress=False, \n",
    "        num_threads=1\n",
    "    )\n",
    "    logger.info(f'{i}, MAP@5: {map_at_k}')"
   ]
  },
  {
   "cell_type": "markdown",
   "id": "c76b7e7f-8bf6-4d99-a50e-5a6af0a3c1a4",
   "metadata": {},
   "source": [
    "**Explicit** - Hyper parameters by iteration:\n",
    "\n",
    "**ALS:**\n",
    "- Factors: 64, 128, 256, **512**, 1024 --> MAP@5 (%): 0.9, 1.1, 1.3, **1.4**, 1.3\n",
    "- Iterations: **10**, 20, 50, 100 --> MAP@5 (%): **1.42**, 1.40, 1.38, 1.38\n",
    "- Regularization: **0.5**, 0.1, 0.05, 0.01 --> MAP@5 (%): **1.43**, 1.42, 1.42, 1.42          \n",
    "- With normalization --> MAP@5 (%): 0.93\n",
    "- With BM25 - k1: **1**, 10, 50, 100  --> MAP@5 (%): **1.41**, 0.67, 0.47, 0.43\n",
    "- With BM25 - B: 0.05, 0.15, **0.25**, 0.5, 0.75, 1 --> MAP@5 (%): 1.48, 1.49, **1.49**, 1.47, 1.41, 1.30\n",
    "- With subclass for year --> MAP@5 (%): 1.36\n",
    "- With subclass for average ratings --> MAP@5 (%): **<font color='blue'>1.64</font>**\n",
    "\n",
    "**BPR:**\n",
    "- Factors: 64, **128**, 256, 512, 1024 --> MAP@5 (%): 0.56, **0.63**, 0.62, 0.60, 0.61\n",
    "- Iterations: 50, 100, 150, **200**, 250 --> MAP@5 (%): 0.48, 0.63, 0.67, **0.73**, 0.73\n",
    "- Learning Rate: 0.5, **0.4**, 0.3, 0.2, 0.1, 0.01 --> MAP@5 (%): 0.84, **0.87**, 0.85, 0.77, 0.73, 0.49\n",
    "- Regularization: 0.1, 0.05, 0.01, **0.005** --> MAP@5 (%): 0.26, 0.54, 0.81, **0.86**\n",
    "- With normalization --> MAP@5 (%): 0.83\n",
    "- With BM25 - k1: 1, 10, 50, 100, 200 --> MAP@5 (%): 0.82, 0.82, 0.79, 0.81, 0.85\n",
    "- With BM25 - B: 0.05, 0.15, 0.25, 0.5, 0.75, 1 --> MAP@5 (%): 0.81, 0.84, 0.81, 0.84, 0.82, 0.81\n",
    "- Without subclass for year --> MAP@5 (%): 0.78\n",
    "- With subclass for average ratings --> MAP@5 (%): **0.99**"
   ]
  },
  {
   "cell_type": "markdown",
   "id": "fde0e923-4d7e-4588-a23c-b2505405cb15",
   "metadata": {},
   "source": [
    "**Implicit** - Hyper parameters by iteration:\n",
    "\n",
    "**ALS:**\n",
    "- Factors: 64, 128, 256, 512, **1024** --> MAP@5 (%): 0.55, 0.57, 0.58, 0.75, **0.82**\n",
    "- Iterations: **10**, 20, 50, 100 --> MAP@5 (%): **0,82**, 0.82, 0.81, 0.81\n",
    "- Regularization: **0.5**, 0.1, 0.05, 0.01 --> MAP@5 (%): **0.82**, 0.80, 0.80, 0.78       \n",
    "- With BM25 - k1: **1**, 10, 50, 100  --> MAP@5 (%): **0.62**, 0.43, 0.40, 0.40\n",
    "- With BM25 - B: **0.05**, 0.10, 0.15, 0.25 --> MAP@5 (%): **1.07**, 1.06, 1.04, 0.96\n",
    "- With subclass for year --> MAP@5 (%): **1.12**\n",
    "\n",
    "**BPR:**\n",
    "- Factors: 64, 128, 256, 512, **1024** --> MAP@5 (%): 0.39, 0.47, 0.47, 0.47, 0.48, **0.53**\n",
    "- Iterations: 50, 100, 150, **200**, 250 --> MAP@5 (%): 0.39, 0.53, 0.57, **0.62**, 0.62\n",
    "- Learning Rate: **0.3**, 0.2, 0.1, 0.05 --> MAP@5 (%): **0.84**, 0.80, 0.71, 0.62\n",
    "- Regularization: 0.05, 0.01, **0.005** --> MAP@5 (%): 0.51, 0.78, **0.91**\n",
    "- With BM25 - k1: **1**, 10, 50, 100, 200 --> MAP@5 (%): **0.79**, 0.78, 0.79, 0.78, 0.75\n",
    "- With BM25 - B: 0.05, **0.15**, 0.25, 0.75, 1 --> MAP@5 (%): 0.82, **1.30**, 0.81, 1.06, 0.89\n",
    "- With subclass for year --> MAP@5 (%): 0.77"
   ]
  },
  {
   "cell_type": "code",
   "execution_count": 96,
   "id": "28ad3224-8026-4331-93e2-4456a5dae999",
   "metadata": {},
   "outputs": [
    {
     "name": "stderr",
     "output_type": "stream",
     "text": [
      "The training time: 27.29949188232422 seconds\n"
     ]
    }
   ],
   "source": [
    "#Final model with all score after my choice of hyper parameters \n",
    "\n",
    "# Reduce the weight given to popular books\n",
    "item_user_data_bm25 = bm25_weight(user_item_data_e_avg.T, K1=1, B=0.25) \n",
    "user_item_data_bm25 = item_user_data_bm25.T.tocsr()\n",
    "\n",
    "# Initialization\n",
    "models = {\"als\": AlternatingLeastSquares}  \n",
    "params = {'als': {'factors': 512, 'iterations': 10, 'regularization': 0.5, 'random_state':0}}\n",
    "    \n",
    "# ALS \n",
    "model_name = 'als'\n",
    "als_model = models.get(model_name)(**params.get(model_name))\n",
    "    \n",
    "# Evaluation\n",
    "train, test = train_test_split( # function from evaluation in github\n",
    "    user_item_data_bm25, \n",
    "    train_percentage=0.8, \n",
    "    random_state=0 # reproduce result\n",
    ")\n",
    "assert train.shape[0] == test.shape[0] == user_item_data_bm25.shape[0]\n",
    "assert train.data.shape[0] + test.data.shape[0] == user_item_data_bm25.data.shape[0]\n",
    "    \n",
    "start = time.time()\n",
    "als_model.fit(train, show_progress=False)\n",
    "end = time.time()\n",
    "logger.info(f'The training time: {(end - start) } seconds')"
   ]
  },
  {
   "cell_type": "code",
   "execution_count": 97,
   "id": "34169a4f-5433-47e4-86e1-70d22726a6ac",
   "metadata": {},
   "outputs": [
    {
     "name": "stderr",
     "output_type": "stream",
     "text": [
      "The evaluation time: 11.600022077560425 seconds\n",
      "MAP@5: 0.016435047452056876\n"
     ]
    }
   ],
   "source": [
    "start = time.time()\n",
    "map_at_k = mean_average_precision_at_k( \n",
    "    model=als_model, \n",
    "    train_user_items=train, \n",
    "    test_user_items=test, \n",
    "    K=5,\n",
    "    show_progress=False, \n",
    "    num_threads=1\n",
    ")\n",
    "end = time.time()\n",
    "logger.info(f'The evaluation time: {(end - start) } seconds')\n",
    "logger.info(f'MAP@5: {map_at_k}')"
   ]
  },
  {
   "cell_type": "code",
   "execution_count": 98,
   "id": "a4540df5-8b8f-4f29-805f-0d622ad83b61",
   "metadata": {},
   "outputs": [
    {
     "name": "stderr",
     "output_type": "stream",
     "text": [
      "The evaluation time: 11.810950994491577 seconds\n",
      "Precision@5: 0.03375716543605954\n"
     ]
    }
   ],
   "source": [
    "from implicit.evaluation import precision_at_k\n",
    "#precision_at_k\n",
    "start = time.time()\n",
    "precision_result = precision_at_k( \n",
    "    model=als_model, \n",
    "    train_user_items=train, \n",
    "    test_user_items=test, \n",
    "    K=5,\n",
    "    show_progress=False, \n",
    "    num_threads=1\n",
    ")\n",
    "end = time.time()\n",
    "logger.info(f'The evaluation time: {(end - start) } seconds')\n",
    "logger.info(f'Precision@5: {precision_result}')"
   ]
  },
  {
   "cell_type": "code",
   "execution_count": 99,
   "id": "a6c990ec-8836-4bf1-8488-006707d98bd6",
   "metadata": {},
   "outputs": [
    {
     "name": "stderr",
     "output_type": "stream",
     "text": [
      "The evaluation time: 12.415424108505249 seconds\n",
      "NDCG@5: 0.022444081701496744\n"
     ]
    }
   ],
   "source": [
    "# With NDCG to compare \n",
    "start = time.time()\n",
    "ndcg_result = ndcg_at_k(\n",
    "    model=als_model, \n",
    "    train_user_items=train, \n",
    "    test_user_items=test, \n",
    "    K=5, \n",
    "    show_progress=False, \n",
    "    num_threads=1\n",
    ")\n",
    "end = time.time()\n",
    "logger.info(f'The evaluation time: {(end - start) } seconds')\n",
    "logger.info(f'NDCG@5: {ndcg_result}')"
   ]
  },
  {
   "cell_type": "code",
   "execution_count": 100,
   "id": "55692af9-a46d-4d53-84b7-8a97c0c3ce35",
   "metadata": {},
   "outputs": [
    {
     "name": "stderr",
     "output_type": "stream",
     "text": [
      "The evaluation time: 11.618900299072266 seconds\n",
      "AUC@5: 0.510826505244257\n"
     ]
    }
   ],
   "source": [
    "# With auc_at_k to compare \n",
    "start = time.time()\n",
    "AUC_result = AUC_at_k(\n",
    "    model=als_model, \n",
    "    train_user_items=train, \n",
    "    test_user_items=test, \n",
    "    K=5, \n",
    "    show_progress=False, \n",
    "    num_threads=1\n",
    ")\n",
    "end = time.time()\n",
    "logger.info(f'The evaluation time: {(end - start) } seconds')\n",
    "logger.info(f'AUC@5: {AUC_result}')"
   ]
  },
  {
   "cell_type": "code",
   "execution_count": 101,
   "id": "6a727c5e-e993-49fe-807f-afc0754faba8",
   "metadata": {},
   "outputs": [],
   "source": [
    "# Create mapping dictionaries\n",
    "user_dict = dict((v, k) for k, v in dict(enumerate(dfe['user_id'].cat.categories)).items())\n",
    "item_dict = dict(enumerate(dfe['isbn'].cat.categories))"
   ]
  },
  {
   "cell_type": "code",
   "execution_count": 102,
   "id": "7ee534ca-71e1-41b2-9475-024d94d91e43",
   "metadata": {},
   "outputs": [
    {
     "data": {
      "text/html": [
       "<div>\n",
       "<style scoped>\n",
       "    .dataframe tbody tr th:only-of-type {\n",
       "        vertical-align: middle;\n",
       "    }\n",
       "\n",
       "    .dataframe tbody tr th {\n",
       "        vertical-align: top;\n",
       "    }\n",
       "\n",
       "    .dataframe thead th {\n",
       "        text-align: right;\n",
       "    }\n",
       "</style>\n",
       "<table border=\"1\" class=\"dataframe\">\n",
       "  <thead>\n",
       "    <tr style=\"text-align: right;\">\n",
       "      <th></th>\n",
       "      <th>id</th>\n",
       "      <th>isbn</th>\n",
       "    </tr>\n",
       "  </thead>\n",
       "  <tbody>\n",
       "    <tr>\n",
       "      <th>0</th>\n",
       "      <td>0</td>\n",
       "      <td>0000913154</td>\n",
       "    </tr>\n",
       "    <tr>\n",
       "      <th>1</th>\n",
       "      <td>1</td>\n",
       "      <td>0001046438</td>\n",
       "    </tr>\n",
       "    <tr>\n",
       "      <th>2</th>\n",
       "      <td>2</td>\n",
       "      <td>000104687X</td>\n",
       "    </tr>\n",
       "    <tr>\n",
       "      <th>3</th>\n",
       "      <td>3</td>\n",
       "      <td>0001047213</td>\n",
       "    </tr>\n",
       "    <tr>\n",
       "      <th>4</th>\n",
       "      <td>4</td>\n",
       "      <td>0001047973</td>\n",
       "    </tr>\n",
       "  </tbody>\n",
       "</table>\n",
       "</div>"
      ],
      "text/plain": [
       "   id        isbn\n",
       "0   0  0000913154\n",
       "1   1  0001046438\n",
       "2   2  000104687X\n",
       "3   3  0001047213\n",
       "4   4  0001047973"
      ]
     },
     "execution_count": 102,
     "metadata": {},
     "output_type": "execute_result"
    }
   ],
   "source": [
    "# convert into pandas dataframe\n",
    "items_df = pd.DataFrame(item_dict, index=['isbn']).T    \n",
    "items_df.reset_index(inplace=True)\n",
    "items_df.rename(columns={'index': 'id'}, inplace=True)\n",
    "items_df.head()"
   ]
  },
  {
   "cell_type": "code",
   "execution_count": 103,
   "id": "86bc820c-bb2b-4ed0-bde4-1a978e920320",
   "metadata": {},
   "outputs": [
    {
     "data": {
      "text/html": [
       "<div>\n",
       "<style scoped>\n",
       "    .dataframe tbody tr th:only-of-type {\n",
       "        vertical-align: middle;\n",
       "    }\n",
       "\n",
       "    .dataframe tbody tr th {\n",
       "        vertical-align: top;\n",
       "    }\n",
       "\n",
       "    .dataframe thead th {\n",
       "        text-align: right;\n",
       "    }\n",
       "</style>\n",
       "<table border=\"1\" class=\"dataframe\">\n",
       "  <thead>\n",
       "    <tr style=\"text-align: right;\">\n",
       "      <th></th>\n",
       "      <th>id</th>\n",
       "      <th>user_id</th>\n",
       "    </tr>\n",
       "  </thead>\n",
       "  <tbody>\n",
       "    <tr>\n",
       "      <th>0</th>\n",
       "      <td>0</td>\n",
       "      <td>8</td>\n",
       "    </tr>\n",
       "    <tr>\n",
       "      <th>1</th>\n",
       "      <td>1</td>\n",
       "      <td>9</td>\n",
       "    </tr>\n",
       "    <tr>\n",
       "      <th>2</th>\n",
       "      <td>2</td>\n",
       "      <td>12</td>\n",
       "    </tr>\n",
       "    <tr>\n",
       "      <th>3</th>\n",
       "      <td>3</td>\n",
       "      <td>14</td>\n",
       "    </tr>\n",
       "    <tr>\n",
       "      <th>4</th>\n",
       "      <td>4</td>\n",
       "      <td>16</td>\n",
       "    </tr>\n",
       "  </tbody>\n",
       "</table>\n",
       "</div>"
      ],
      "text/plain": [
       "   id  user_id\n",
       "0   0        8\n",
       "1   1        9\n",
       "2   2       12\n",
       "3   3       14\n",
       "4   4       16"
      ]
     },
     "execution_count": 103,
     "metadata": {},
     "output_type": "execute_result"
    }
   ],
   "source": [
    "# same for the users\n",
    "users_df = pd.DataFrame(dict(enumerate(dfe['user_id'].cat.categories)), index=['user_id']).T    \n",
    "users_df.reset_index(inplace=True)\n",
    "users_df.rename(columns={'index': 'id'}, inplace=True)\n",
    "users_df.head()"
   ]
  },
  {
   "cell_type": "code",
   "execution_count": 104,
   "id": "dbca5ea8-689c-48cd-b880-53131066d20d",
   "metadata": {},
   "outputs": [
    {
     "data": {
      "application/vnd.jupyter.widget-view+json": {
       "model_id": "a5e2814dd5884bf0abdd23bb77b8c43e",
       "version_major": 2,
       "version_minor": 0
      },
      "text/plain": [
       "  0%|          | 0/10 [00:00<?, ?it/s]"
      ]
     },
     "metadata": {},
     "output_type": "display_data"
    }
   ],
   "source": [
    "# Training\n",
    "# tha ALS model on the entire dataset and the entire user item data (not just on the train subset)\n",
    "# we want to have the maximum amount of data, leverage all the data to capture all the existing patern in the data set\n",
    "\n",
    "model_name = 'als'\n",
    "als_model = models.get(model_name)(**params.get(model_name))\n",
    "als_model.fit(user_item_data_e, show_progress=True)\n",
    "\n",
    "# Model serialization (Course 3/module 3/dev-data/model/classic_model.pkl)\n",
    "training_als = {\n",
    "    \"users_df\": users_df,\n",
    "    \"items_df\": items_df,\n",
    "    'model': als_model\n",
    "}\n",
    "\n",
    "# we can save on AWS / GCP / Azure Bucket also\n",
    "with open(f'model/training_als.pkl', 'wb') as f:\n",
    "    pickle.dump(training_als, f, protocol=pickle.HIGHEST_PROTOCOL)\n",
    "f.close()"
   ]
  },
  {
   "cell_type": "code",
   "execution_count": 105,
   "id": "e697c5ee-ea82-46cb-99c4-1808399e2d2d",
   "metadata": {},
   "outputs": [
    {
     "name": "stderr",
     "output_type": "stream",
     "text": [
      "Users embedding shape : (68091, 512)\n",
      "Movies embedding shape : (149836, 512)\n"
     ]
    }
   ],
   "source": [
    "# Model artifact\n",
    "\n",
    "logger.info(f'Users embedding shape : {als_model.user_factors.shape}')\n",
    "logger.info(f'Movies embedding shape : {als_model.item_factors.shape}')"
   ]
  },
  {
   "cell_type": "markdown",
   "id": "7918adab-cb2b-4c54-98f5-6d06dd3c536c",
   "metadata": {},
   "source": [
    "Inference:"
   ]
  },
  {
   "cell_type": "code",
   "execution_count": 106,
   "id": "3ab8eae1-bc7e-4401-97d7-ac87d31ba72f",
   "metadata": {},
   "outputs": [],
   "source": [
    "# Initialize model\n",
    "with open(os.path.join(f'model/', 'training_als.pkl'), 'rb') as f:\n",
    "    training_als = pickle.load(f)\n",
    "f.close()\n",
    "\n",
    "#training_output\n",
    "als_model = training_als['model']\n",
    "users_df = training_als['users_df']\n",
    "items_df = training_als['items_df']"
   ]
  },
  {
   "cell_type": "markdown",
   "id": "33e55bf5-b57c-419f-9094-ba2c04912956",
   "metadata": {},
   "source": [
    "Personalization:"
   ]
  },
  {
   "cell_type": "code",
   "execution_count": 107,
   "id": "2c6d375b-7aff-4669-a859-b871694af836",
   "metadata": {},
   "outputs": [],
   "source": [
    "# Create a list of extra articles to filter out from personalized lists\n",
    "item_to_filter = dfe[dfe['group_avg_rating'] == 0]['isbn'].unique()\n",
    "#logger.info(f'The number of items to filter: {len(item_to_filter)}')\n",
    "rev_item_dict = dict((v, k) for k, v in item_dict.items())\n",
    "item_to_filter = [rev_item_dict[item] for item in item_to_filter]"
   ]
  },
  {
   "cell_type": "code",
   "execution_count": 108,
   "id": "76f4c8dd-ddb4-4f7e-ae3e-b25980fe9108",
   "metadata": {},
   "outputs": [
    {
     "data": {
      "text/plain": [
       "38084"
      ]
     },
     "execution_count": 108,
     "metadata": {},
     "output_type": "execute_result"
    }
   ],
   "source": [
    "len(item_to_filter)"
   ]
  },
  {
   "cell_type": "code",
   "execution_count": 109,
   "id": "d4847cb9-5e4f-4c6f-b0d0-30c5e9630bf9",
   "metadata": {},
   "outputs": [
    {
     "name": "stderr",
     "output_type": "stream",
     "text": [
      "The number of explicit rating: 39\n",
      "The number of explicit average rating <= 6.5: 0\n",
      "user_id: 36003\n",
      "The elapsed time: 16.588211059570312 milliseconds\n",
      "ids: [ 37440  74526 121105 121065 125824]\n",
      "scores: [0.36883312 0.3664825  0.35274267 0.33950928 0.3127002 ]\n"
     ]
    }
   ],
   "source": [
    "## use-case: Single user prediction (static history) with filtered itmes\n",
    "user_id = 36003\n",
    "#user_id = 18067\n",
    "\n",
    "logger.info(f'The number of explicit rating: {len(dfe[dfe[\"user_id\"] == user_id])}')\n",
    "logger.info(f'The number of explicit average rating <= 6.5: {len(dfe[(dfe[\"user_id\"] == user_id) & (dfe[\"avg_rating\"] <= 6.5)])}')\n",
    "\n",
    "customer_id = user_dict[user_id]\n",
    "logger.info(f'user_id: {user_id}')\n",
    "\n",
    "start = time.time()\n",
    "ids, scores = als_model.recommend( \n",
    "        userid=customer_id, \n",
    "        user_items=user_item_data_e[customer_id], \n",
    "        N=5, \n",
    "        filter_already_liked_items=True,\n",
    "        filter_items=item_to_filter, #None, \n",
    "        recalculate_user=False, #\n",
    ") #other parameter --> items: rank only items in this list (not all item in our dataset)\n",
    "\n",
    "end = time.time()\n",
    "logger.info(f'The elapsed time: {(end - start) * 1000} milliseconds')\n",
    "\n",
    "logger.info(f'ids: {ids}')\n",
    "logger.info(f'scores: {scores}')\n",
    "\n",
    "ids_mf = pd.DataFrame(ids.T, columns=[user_id])\n",
    "ids_mf = pd.melt(ids_mf, var_name='user_id', value_name='id')\n",
    "\n",
    "scores_mf = pd.DataFrame(scores.T, columns=[user_id])\n",
    "scores_mf = pd.melt(scores_mf, var_name='user_id', value_name='score')\n",
    "\n",
    "usecase_1 = pd.concat([ids_mf, scores_mf[['score']]], axis=1)\n",
    "usecase_1 = usecase_1.set_index(['id'])\n",
    "usecase_1['isbn'] = items_df['isbn'] #map id to the actual article id\n",
    "usecase_1 = pd.merge(\n",
    "    usecase_1, \n",
    "    books[['isbn', 'book_title', 'book_author', 'year_publication', 'publisher']], \n",
    "    how='left', \n",
    "    on='isbn'\n",
    ")"
   ]
  },
  {
   "cell_type": "code",
   "execution_count": 110,
   "id": "0d3cb13f-02a0-4136-b922-801775ef17f4",
   "metadata": {},
   "outputs": [
    {
     "data": {
      "text/html": [
       "<div>\n",
       "<style scoped>\n",
       "    .dataframe tbody tr th:only-of-type {\n",
       "        vertical-align: middle;\n",
       "    }\n",
       "\n",
       "    .dataframe tbody tr th {\n",
       "        vertical-align: top;\n",
       "    }\n",
       "\n",
       "    .dataframe thead th {\n",
       "        text-align: right;\n",
       "    }\n",
       "</style>\n",
       "<table border=\"1\" class=\"dataframe\">\n",
       "  <thead>\n",
       "    <tr style=\"text-align: right;\">\n",
       "      <th></th>\n",
       "      <th>user_id</th>\n",
       "      <th>isbn</th>\n",
       "      <th>book_title</th>\n",
       "      <th>book_author</th>\n",
       "      <th>year_publication</th>\n",
       "      <th>publisher</th>\n",
       "      <th>avg_rating</th>\n",
       "      <th>group_avg_rating</th>\n",
       "    </tr>\n",
       "  </thead>\n",
       "  <tbody>\n",
       "    <tr>\n",
       "      <th>57389</th>\n",
       "      <td>36003</td>\n",
       "      <td>0060196122</td>\n",
       "      <td>Veronika Decides to Die</td>\n",
       "      <td>Paulo Coelho</td>\n",
       "      <td>2000</td>\n",
       "      <td>HarperCollins Publishers</td>\n",
       "      <td>7.900000</td>\n",
       "      <td>1</td>\n",
       "    </tr>\n",
       "    <tr>\n",
       "      <th>57390</th>\n",
       "      <td>36003</td>\n",
       "      <td>0060502304</td>\n",
       "      <td>The Great Train Robbery</td>\n",
       "      <td>Michael Crichton</td>\n",
       "      <td>2002</td>\n",
       "      <td>Avon Books</td>\n",
       "      <td>7.333333</td>\n",
       "      <td>1</td>\n",
       "    </tr>\n",
       "    <tr>\n",
       "      <th>57391</th>\n",
       "      <td>36003</td>\n",
       "      <td>0140018328</td>\n",
       "      <td>Kiss Kiss (French Language Edition)</td>\n",
       "      <td>Roald Dahl</td>\n",
       "      <td>1978</td>\n",
       "      <td>French &amp;amp; European Pubns</td>\n",
       "      <td>8.000000</td>\n",
       "      <td>1</td>\n",
       "    </tr>\n",
       "    <tr>\n",
       "      <th>57392</th>\n",
       "      <td>36003</td>\n",
       "      <td>0140282734</td>\n",
       "      <td>A Portrait of the Artist as a Young Man (Essen...</td>\n",
       "      <td>James Joyce</td>\n",
       "      <td>2000</td>\n",
       "      <td>Penguin Books Ltd</td>\n",
       "      <td>9.500000</td>\n",
       "      <td>1</td>\n",
       "    </tr>\n",
       "    <tr>\n",
       "      <th>57393</th>\n",
       "      <td>36003</td>\n",
       "      <td>0140293248</td>\n",
       "      <td>The Girls' Guide to Hunting and Fishing</td>\n",
       "      <td>Melissa Bank</td>\n",
       "      <td>2000</td>\n",
       "      <td>Penguin Books</td>\n",
       "      <td>6.909091</td>\n",
       "      <td>1</td>\n",
       "    </tr>\n",
       "    <tr>\n",
       "      <th>57394</th>\n",
       "      <td>36003</td>\n",
       "      <td>0140298479</td>\n",
       "      <td>Bridget Jones: The Edge of Reason</td>\n",
       "      <td>Helen Fielding</td>\n",
       "      <td>2001</td>\n",
       "      <td>Penguin Books</td>\n",
       "      <td>7.539823</td>\n",
       "      <td>1</td>\n",
       "    </tr>\n",
       "    <tr>\n",
       "      <th>57395</th>\n",
       "      <td>36003</td>\n",
       "      <td>0140373624</td>\n",
       "      <td>The Complete Adventures of Charlie and Mr.Will...</td>\n",
       "      <td>Roald Dahl</td>\n",
       "      <td>1995</td>\n",
       "      <td>Puffin Books</td>\n",
       "      <td>9.500000</td>\n",
       "      <td>1</td>\n",
       "    </tr>\n",
       "    <tr>\n",
       "      <th>57396</th>\n",
       "      <td>36003</td>\n",
       "      <td>0140436936</td>\n",
       "      <td>Nothing...Except My Genius (Penguin Classics)</td>\n",
       "      <td>Oscar Wilde</td>\n",
       "      <td>1997</td>\n",
       "      <td>Penguin Books Ltd</td>\n",
       "      <td>7.500000</td>\n",
       "      <td>1</td>\n",
       "    </tr>\n",
       "    <tr>\n",
       "      <th>57397</th>\n",
       "      <td>36003</td>\n",
       "      <td>0140482091</td>\n",
       "      <td>The Importance of Being Earnest and Other Plays</td>\n",
       "      <td>Oscar Wilde</td>\n",
       "      <td>1986</td>\n",
       "      <td>Penguin Books</td>\n",
       "      <td>9.333333</td>\n",
       "      <td>1</td>\n",
       "    </tr>\n",
       "    <tr>\n",
       "      <th>57398</th>\n",
       "      <td>36003</td>\n",
       "      <td>0140620664</td>\n",
       "      <td>Mansfield Park (Penguin Popular Classics)</td>\n",
       "      <td>Jane Austen</td>\n",
       "      <td>1994</td>\n",
       "      <td>Penguin Books Ltd</td>\n",
       "      <td>8.545455</td>\n",
       "      <td>1</td>\n",
       "    </tr>\n",
       "    <tr>\n",
       "      <th>57399</th>\n",
       "      <td>36003</td>\n",
       "      <td>0140621342</td>\n",
       "      <td>The Best of Saki (Penguin Popular Classics)</td>\n",
       "      <td>Saki</td>\n",
       "      <td>1994</td>\n",
       "      <td>Penguin Books Ltd</td>\n",
       "      <td>7.500000</td>\n",
       "      <td>1</td>\n",
       "    </tr>\n",
       "    <tr>\n",
       "      <th>57400</th>\n",
       "      <td>36003</td>\n",
       "      <td>0141000198</td>\n",
       "      <td>Bridget Jones's Diary</td>\n",
       "      <td>Helen Fielding</td>\n",
       "      <td>2001</td>\n",
       "      <td>Penguin Putnam</td>\n",
       "      <td>7.525641</td>\n",
       "      <td>1</td>\n",
       "    </tr>\n",
       "    <tr>\n",
       "      <th>57401</th>\n",
       "      <td>36003</td>\n",
       "      <td>0141301066</td>\n",
       "      <td>Matilda</td>\n",
       "      <td>Roald Dahl</td>\n",
       "      <td>1998</td>\n",
       "      <td>Puffin Books</td>\n",
       "      <td>9.076923</td>\n",
       "      <td>1</td>\n",
       "    </tr>\n",
       "    <tr>\n",
       "      <th>57402</th>\n",
       "      <td>36003</td>\n",
       "      <td>0141302712</td>\n",
       "      <td>The Umbrella Man and Other Stories (Short Stor...</td>\n",
       "      <td>Roald Dahl</td>\n",
       "      <td>2000</td>\n",
       "      <td>Puffin Books</td>\n",
       "      <td>8.250000</td>\n",
       "      <td>1</td>\n",
       "    </tr>\n",
       "    <tr>\n",
       "      <th>57403</th>\n",
       "      <td>36003</td>\n",
       "      <td>0141310340</td>\n",
       "      <td>Skin and Other Stories (Now in Speak!)</td>\n",
       "      <td>Roald Dahl</td>\n",
       "      <td>2002</td>\n",
       "      <td>Puffin Books</td>\n",
       "      <td>7.500000</td>\n",
       "      <td>1</td>\n",
       "    </tr>\n",
       "    <tr>\n",
       "      <th>57404</th>\n",
       "      <td>36003</td>\n",
       "      <td>0156012197</td>\n",
       "      <td>The Little Prince</td>\n",
       "      <td>Antoine de Saint-ExupÃ©ry</td>\n",
       "      <td>2000</td>\n",
       "      <td>Harvest Books</td>\n",
       "      <td>9.391304</td>\n",
       "      <td>1</td>\n",
       "    </tr>\n",
       "    <tr>\n",
       "      <th>57405</th>\n",
       "      <td>36003</td>\n",
       "      <td>0312975856</td>\n",
       "      <td>The Phantom of Manhattan</td>\n",
       "      <td>Frederick Forsyth</td>\n",
       "      <td>2000</td>\n",
       "      <td>St. Martin's Press</td>\n",
       "      <td>7.285714</td>\n",
       "      <td>1</td>\n",
       "    </tr>\n",
       "    <tr>\n",
       "      <th>57406</th>\n",
       "      <td>36003</td>\n",
       "      <td>0316769487</td>\n",
       "      <td>The Catcher in the Rye</td>\n",
       "      <td>J.D. Salinger</td>\n",
       "      <td>1991</td>\n",
       "      <td>Little, Brown</td>\n",
       "      <td>7.687243</td>\n",
       "      <td>1</td>\n",
       "    </tr>\n",
       "    <tr>\n",
       "      <th>57407</th>\n",
       "      <td>36003</td>\n",
       "      <td>0385319673</td>\n",
       "      <td>Red Dragon</td>\n",
       "      <td>Thomas Harris</td>\n",
       "      <td>1998</td>\n",
       "      <td>Delta Trade Paperbacks</td>\n",
       "      <td>7.375000</td>\n",
       "      <td>1</td>\n",
       "    </tr>\n",
       "    <tr>\n",
       "      <th>57408</th>\n",
       "      <td>36003</td>\n",
       "      <td>0385420161</td>\n",
       "      <td>Like Water for Chocolate: A Novel in Monthly I...</td>\n",
       "      <td>Laura Esquivel</td>\n",
       "      <td>1992</td>\n",
       "      <td>Doubleday Books</td>\n",
       "      <td>8.278689</td>\n",
       "      <td>1</td>\n",
       "    </tr>\n",
       "    <tr>\n",
       "      <th>57409</th>\n",
       "      <td>36003</td>\n",
       "      <td>0425152251</td>\n",
       "      <td>Sophie's World: A Novel About the History of P...</td>\n",
       "      <td>Jostein Gaarder</td>\n",
       "      <td>1996</td>\n",
       "      <td>Berkley Publishing Group</td>\n",
       "      <td>7.712766</td>\n",
       "      <td>1</td>\n",
       "    </tr>\n",
       "    <tr>\n",
       "      <th>57410</th>\n",
       "      <td>36003</td>\n",
       "      <td>0439064864</td>\n",
       "      <td>Harry Potter and the Chamber of Secrets (Book 2)</td>\n",
       "      <td>J. K. Rowling</td>\n",
       "      <td>1999</td>\n",
       "      <td>Scholastic</td>\n",
       "      <td>8.920635</td>\n",
       "      <td>1</td>\n",
       "    </tr>\n",
       "    <tr>\n",
       "      <th>57411</th>\n",
       "      <td>36003</td>\n",
       "      <td>0439136350</td>\n",
       "      <td>Harry Potter and the Prisoner of Azkaban (Book 3)</td>\n",
       "      <td>J. K. Rowling</td>\n",
       "      <td>1999</td>\n",
       "      <td>Scholastic</td>\n",
       "      <td>9.035461</td>\n",
       "      <td>1</td>\n",
       "    </tr>\n",
       "    <tr>\n",
       "      <th>57412</th>\n",
       "      <td>36003</td>\n",
       "      <td>0439139597</td>\n",
       "      <td>Harry Potter and the Goblet of Fire (Book 4)</td>\n",
       "      <td>J. K. Rowling</td>\n",
       "      <td>2000</td>\n",
       "      <td>Scholastic</td>\n",
       "      <td>9.262774</td>\n",
       "      <td>1</td>\n",
       "    </tr>\n",
       "    <tr>\n",
       "      <th>57413</th>\n",
       "      <td>36003</td>\n",
       "      <td>043935806X</td>\n",
       "      <td>Harry Potter and the Order of the Phoenix (Boo...</td>\n",
       "      <td>J. K. Rowling</td>\n",
       "      <td>2003</td>\n",
       "      <td>Scholastic</td>\n",
       "      <td>9.033981</td>\n",
       "      <td>1</td>\n",
       "    </tr>\n",
       "    <tr>\n",
       "      <th>57414</th>\n",
       "      <td>36003</td>\n",
       "      <td>0440226430</td>\n",
       "      <td>Summer Sisters</td>\n",
       "      <td>Judy Blume</td>\n",
       "      <td>1999</td>\n",
       "      <td>Dell Publishing Company</td>\n",
       "      <td>7.556075</td>\n",
       "      <td>1</td>\n",
       "    </tr>\n",
       "    <tr>\n",
       "      <th>57415</th>\n",
       "      <td>36003</td>\n",
       "      <td>0446310786</td>\n",
       "      <td>To Kill a Mockingbird</td>\n",
       "      <td>Harper Lee</td>\n",
       "      <td>1988</td>\n",
       "      <td>Little Brown &amp;amp; Company</td>\n",
       "      <td>8.943925</td>\n",
       "      <td>1</td>\n",
       "    </tr>\n",
       "    <tr>\n",
       "      <th>57416</th>\n",
       "      <td>36003</td>\n",
       "      <td>0486278077</td>\n",
       "      <td>The Picture of Dorian Gray (Dover Thrift Editi...</td>\n",
       "      <td>Oscar Wilde</td>\n",
       "      <td>1993</td>\n",
       "      <td>Dover Publications</td>\n",
       "      <td>9.000000</td>\n",
       "      <td>1</td>\n",
       "    </tr>\n",
       "    <tr>\n",
       "      <th>57417</th>\n",
       "      <td>36003</td>\n",
       "      <td>0517263297</td>\n",
       "      <td>Complete Works Of William Shakespeare J</td>\n",
       "      <td>William Shakespeare</td>\n",
       "      <td>1988</td>\n",
       "      <td>Random House Value Publishing</td>\n",
       "      <td>10.000000</td>\n",
       "      <td>1</td>\n",
       "    </tr>\n",
       "    <tr>\n",
       "      <th>57418</th>\n",
       "      <td>36003</td>\n",
       "      <td>0553583077</td>\n",
       "      <td>To Kiss a Spy (Get Connected Romances)</td>\n",
       "      <td>JANE FEATHER</td>\n",
       "      <td>2003</td>\n",
       "      <td>Bantam</td>\n",
       "      <td>6.916667</td>\n",
       "      <td>1</td>\n",
       "    </tr>\n",
       "    <tr>\n",
       "      <th>57419</th>\n",
       "      <td>36003</td>\n",
       "      <td>0553583085</td>\n",
       "      <td>Kissed by Shadows (Get Connected Romances)</td>\n",
       "      <td>Jane Feather</td>\n",
       "      <td>2003</td>\n",
       "      <td>Bantam Books</td>\n",
       "      <td>7.800000</td>\n",
       "      <td>1</td>\n",
       "    </tr>\n",
       "    <tr>\n",
       "      <th>57420</th>\n",
       "      <td>36003</td>\n",
       "      <td>0590353403</td>\n",
       "      <td>Harry Potter and the Sorcerer's Stone (Book 1)</td>\n",
       "      <td>J. K. Rowling</td>\n",
       "      <td>1998</td>\n",
       "      <td>Scholastic</td>\n",
       "      <td>8.983193</td>\n",
       "      <td>1</td>\n",
       "    </tr>\n",
       "    <tr>\n",
       "      <th>57421</th>\n",
       "      <td>36003</td>\n",
       "      <td>067976402X</td>\n",
       "      <td>Snow Falling on Cedars</td>\n",
       "      <td>David Guterson</td>\n",
       "      <td>1995</td>\n",
       "      <td>Vintage Books USA</td>\n",
       "      <td>7.808594</td>\n",
       "      <td>1</td>\n",
       "    </tr>\n",
       "    <tr>\n",
       "      <th>57422</th>\n",
       "      <td>36003</td>\n",
       "      <td>0786817879</td>\n",
       "      <td>Artemis Fowl (Artemis Fowl, Book 1)</td>\n",
       "      <td>Eoin Colfer</td>\n",
       "      <td>2003</td>\n",
       "      <td>Miramax Kids</td>\n",
       "      <td>7.166667</td>\n",
       "      <td>1</td>\n",
       "    </tr>\n",
       "    <tr>\n",
       "      <th>57423</th>\n",
       "      <td>36003</td>\n",
       "      <td>1400034779</td>\n",
       "      <td>The No. 1 Ladies' Detective Agency (Today Show...</td>\n",
       "      <td>Alexander McCall Smith</td>\n",
       "      <td>2003</td>\n",
       "      <td>Anchor</td>\n",
       "      <td>8.049180</td>\n",
       "      <td>1</td>\n",
       "    </tr>\n",
       "    <tr>\n",
       "      <th>57424</th>\n",
       "      <td>36003</td>\n",
       "      <td>1558744592</td>\n",
       "      <td>A 4th Course of Chicken Soup for the Soul: 101...</td>\n",
       "      <td>Jack Canfield</td>\n",
       "      <td>1997</td>\n",
       "      <td>Health Communications</td>\n",
       "      <td>8.318182</td>\n",
       "      <td>1</td>\n",
       "    </tr>\n",
       "    <tr>\n",
       "      <th>57425</th>\n",
       "      <td>36003</td>\n",
       "      <td>1558744630</td>\n",
       "      <td>Chicken Soup for the Teenage Soul (Chicken Sou...</td>\n",
       "      <td>Jack Canfield</td>\n",
       "      <td>1997</td>\n",
       "      <td>Health Communications</td>\n",
       "      <td>7.509804</td>\n",
       "      <td>1</td>\n",
       "    </tr>\n",
       "    <tr>\n",
       "      <th>57426</th>\n",
       "      <td>36003</td>\n",
       "      <td>1558745432</td>\n",
       "      <td>A 5th Portion of Chicken Soup for the Soul : 1...</td>\n",
       "      <td>Jack Canfield</td>\n",
       "      <td>1998</td>\n",
       "      <td>Health Communications</td>\n",
       "      <td>8.333333</td>\n",
       "      <td>1</td>\n",
       "    </tr>\n",
       "    <tr>\n",
       "      <th>57427</th>\n",
       "      <td>36003</td>\n",
       "      <td>1573228214</td>\n",
       "      <td>High Fidelity</td>\n",
       "      <td>Nick Hornby</td>\n",
       "      <td>2000</td>\n",
       "      <td>Riverhead Books</td>\n",
       "      <td>7.846154</td>\n",
       "      <td>1</td>\n",
       "    </tr>\n",
       "  </tbody>\n",
       "</table>\n",
       "</div>"
      ],
      "text/plain": [
       "      user_id        isbn                                         book_title  \\\n",
       "57389   36003  0060196122                            Veronika Decides to Die   \n",
       "57390   36003  0060502304                            The Great Train Robbery   \n",
       "57391   36003  0140018328                Kiss Kiss (French Language Edition)   \n",
       "57392   36003  0140282734  A Portrait of the Artist as a Young Man (Essen...   \n",
       "57393   36003  0140293248            The Girls' Guide to Hunting and Fishing   \n",
       "57394   36003  0140298479                  Bridget Jones: The Edge of Reason   \n",
       "57395   36003  0140373624  The Complete Adventures of Charlie and Mr.Will...   \n",
       "57396   36003  0140436936      Nothing...Except My Genius (Penguin Classics)   \n",
       "57397   36003  0140482091    The Importance of Being Earnest and Other Plays   \n",
       "57398   36003  0140620664          Mansfield Park (Penguin Popular Classics)   \n",
       "57399   36003  0140621342        The Best of Saki (Penguin Popular Classics)   \n",
       "57400   36003  0141000198                              Bridget Jones's Diary   \n",
       "57401   36003  0141301066                                            Matilda   \n",
       "57402   36003  0141302712  The Umbrella Man and Other Stories (Short Stor...   \n",
       "57403   36003  0141310340             Skin and Other Stories (Now in Speak!)   \n",
       "57404   36003  0156012197                                  The Little Prince   \n",
       "57405   36003  0312975856                           The Phantom of Manhattan   \n",
       "57406   36003  0316769487                             The Catcher in the Rye   \n",
       "57407   36003  0385319673                                         Red Dragon   \n",
       "57408   36003  0385420161  Like Water for Chocolate: A Novel in Monthly I...   \n",
       "57409   36003  0425152251  Sophie's World: A Novel About the History of P...   \n",
       "57410   36003  0439064864   Harry Potter and the Chamber of Secrets (Book 2)   \n",
       "57411   36003  0439136350  Harry Potter and the Prisoner of Azkaban (Book 3)   \n",
       "57412   36003  0439139597       Harry Potter and the Goblet of Fire (Book 4)   \n",
       "57413   36003  043935806X  Harry Potter and the Order of the Phoenix (Boo...   \n",
       "57414   36003  0440226430                                     Summer Sisters   \n",
       "57415   36003  0446310786                              To Kill a Mockingbird   \n",
       "57416   36003  0486278077  The Picture of Dorian Gray (Dover Thrift Editi...   \n",
       "57417   36003  0517263297            Complete Works Of William Shakespeare J   \n",
       "57418   36003  0553583077             To Kiss a Spy (Get Connected Romances)   \n",
       "57419   36003  0553583085         Kissed by Shadows (Get Connected Romances)   \n",
       "57420   36003  0590353403     Harry Potter and the Sorcerer's Stone (Book 1)   \n",
       "57421   36003  067976402X                             Snow Falling on Cedars   \n",
       "57422   36003  0786817879                Artemis Fowl (Artemis Fowl, Book 1)   \n",
       "57423   36003  1400034779  The No. 1 Ladies' Detective Agency (Today Show...   \n",
       "57424   36003  1558744592  A 4th Course of Chicken Soup for the Soul: 101...   \n",
       "57425   36003  1558744630  Chicken Soup for the Teenage Soul (Chicken Sou...   \n",
       "57426   36003  1558745432  A 5th Portion of Chicken Soup for the Soul : 1...   \n",
       "57427   36003  1573228214                                      High Fidelity   \n",
       "\n",
       "                     book_author  year_publication  \\\n",
       "57389               Paulo Coelho              2000   \n",
       "57390           Michael Crichton              2002   \n",
       "57391                 Roald Dahl              1978   \n",
       "57392                James Joyce              2000   \n",
       "57393               Melissa Bank              2000   \n",
       "57394             Helen Fielding              2001   \n",
       "57395                 Roald Dahl              1995   \n",
       "57396                Oscar Wilde              1997   \n",
       "57397                Oscar Wilde              1986   \n",
       "57398                Jane Austen              1994   \n",
       "57399                       Saki              1994   \n",
       "57400             Helen Fielding              2001   \n",
       "57401                 Roald Dahl              1998   \n",
       "57402                 Roald Dahl              2000   \n",
       "57403                 Roald Dahl              2002   \n",
       "57404  Antoine de Saint-ExupÃ©ry              2000   \n",
       "57405          Frederick Forsyth              2000   \n",
       "57406              J.D. Salinger              1991   \n",
       "57407              Thomas Harris              1998   \n",
       "57408             Laura Esquivel              1992   \n",
       "57409            Jostein Gaarder              1996   \n",
       "57410              J. K. Rowling              1999   \n",
       "57411              J. K. Rowling              1999   \n",
       "57412              J. K. Rowling              2000   \n",
       "57413              J. K. Rowling              2003   \n",
       "57414                 Judy Blume              1999   \n",
       "57415                 Harper Lee              1988   \n",
       "57416                Oscar Wilde              1993   \n",
       "57417        William Shakespeare              1988   \n",
       "57418               JANE FEATHER              2003   \n",
       "57419               Jane Feather              2003   \n",
       "57420              J. K. Rowling              1998   \n",
       "57421             David Guterson              1995   \n",
       "57422                Eoin Colfer              2003   \n",
       "57423     Alexander McCall Smith              2003   \n",
       "57424              Jack Canfield              1997   \n",
       "57425              Jack Canfield              1997   \n",
       "57426              Jack Canfield              1998   \n",
       "57427                Nick Hornby              2000   \n",
       "\n",
       "                           publisher  avg_rating  group_avg_rating  \n",
       "57389       HarperCollins Publishers    7.900000                 1  \n",
       "57390                     Avon Books    7.333333                 1  \n",
       "57391    French &amp; European Pubns    8.000000                 1  \n",
       "57392              Penguin Books Ltd    9.500000                 1  \n",
       "57393                  Penguin Books    6.909091                 1  \n",
       "57394                  Penguin Books    7.539823                 1  \n",
       "57395                   Puffin Books    9.500000                 1  \n",
       "57396              Penguin Books Ltd    7.500000                 1  \n",
       "57397                  Penguin Books    9.333333                 1  \n",
       "57398              Penguin Books Ltd    8.545455                 1  \n",
       "57399              Penguin Books Ltd    7.500000                 1  \n",
       "57400                 Penguin Putnam    7.525641                 1  \n",
       "57401                   Puffin Books    9.076923                 1  \n",
       "57402                   Puffin Books    8.250000                 1  \n",
       "57403                   Puffin Books    7.500000                 1  \n",
       "57404                  Harvest Books    9.391304                 1  \n",
       "57405             St. Martin's Press    7.285714                 1  \n",
       "57406                  Little, Brown    7.687243                 1  \n",
       "57407         Delta Trade Paperbacks    7.375000                 1  \n",
       "57408                Doubleday Books    8.278689                 1  \n",
       "57409       Berkley Publishing Group    7.712766                 1  \n",
       "57410                     Scholastic    8.920635                 1  \n",
       "57411                     Scholastic    9.035461                 1  \n",
       "57412                     Scholastic    9.262774                 1  \n",
       "57413                     Scholastic    9.033981                 1  \n",
       "57414        Dell Publishing Company    7.556075                 1  \n",
       "57415     Little Brown &amp; Company    8.943925                 1  \n",
       "57416             Dover Publications    9.000000                 1  \n",
       "57417  Random House Value Publishing   10.000000                 1  \n",
       "57418                         Bantam    6.916667                 1  \n",
       "57419                   Bantam Books    7.800000                 1  \n",
       "57420                     Scholastic    8.983193                 1  \n",
       "57421              Vintage Books USA    7.808594                 1  \n",
       "57422                   Miramax Kids    7.166667                 1  \n",
       "57423                         Anchor    8.049180                 1  \n",
       "57424          Health Communications    8.318182                 1  \n",
       "57425          Health Communications    7.509804                 1  \n",
       "57426          Health Communications    8.333333                 1  \n",
       "57427                Riverhead Books    7.846154                 1  "
      ]
     },
     "execution_count": 110,
     "metadata": {},
     "output_type": "execute_result"
    }
   ],
   "source": [
    "#customer history \n",
    "dfe[dfe['user_id'] == user_id][['user_id', 'isbn', 'book_title', 'book_author', 'year_publication', 'publisher', 'avg_rating','group_avg_rating']]"
   ]
  },
  {
   "cell_type": "code",
   "execution_count": 111,
   "id": "2e03c97a-6138-404c-b266-138040881aab",
   "metadata": {},
   "outputs": [
    {
     "data": {
      "text/html": [
       "<div>\n",
       "<style scoped>\n",
       "    .dataframe tbody tr th:only-of-type {\n",
       "        vertical-align: middle;\n",
       "    }\n",
       "\n",
       "    .dataframe tbody tr th {\n",
       "        vertical-align: top;\n",
       "    }\n",
       "\n",
       "    .dataframe thead th {\n",
       "        text-align: right;\n",
       "    }\n",
       "</style>\n",
       "<table border=\"1\" class=\"dataframe\">\n",
       "  <thead>\n",
       "    <tr style=\"text-align: right;\">\n",
       "      <th></th>\n",
       "      <th>user_id</th>\n",
       "      <th>score</th>\n",
       "      <th>book_title</th>\n",
       "      <th>book_author</th>\n",
       "      <th>publisher</th>\n",
       "      <th>year_publication</th>\n",
       "    </tr>\n",
       "  </thead>\n",
       "  <tbody>\n",
       "    <tr>\n",
       "      <th>0</th>\n",
       "      <td>36003</td>\n",
       "      <td>0.368833</td>\n",
       "      <td>The Book of Ruth (Oprah's Book Club (Paperback))</td>\n",
       "      <td>Jane Hamilton</td>\n",
       "      <td>Anchor</td>\n",
       "      <td>1990</td>\n",
       "    </tr>\n",
       "    <tr>\n",
       "      <th>1</th>\n",
       "      <td>36003</td>\n",
       "      <td>0.366482</td>\n",
       "      <td>SHIPPING NEWS</td>\n",
       "      <td>Annie Proulx</td>\n",
       "      <td>Scribner</td>\n",
       "      <td>1994</td>\n",
       "    </tr>\n",
       "    <tr>\n",
       "      <th>2</th>\n",
       "      <td>36003</td>\n",
       "      <td>0.352743</td>\n",
       "      <td>Chicken Soup for the Teenage Soul II (Chicken ...</td>\n",
       "      <td>Jack Canfield</td>\n",
       "      <td>HCI Teens</td>\n",
       "      <td>1998</td>\n",
       "    </tr>\n",
       "    <tr>\n",
       "      <th>3</th>\n",
       "      <td>36003</td>\n",
       "      <td>0.339509</td>\n",
       "      <td>A 3rd Serving of Chicken Soup for the Soul (Ch...</td>\n",
       "      <td>Jack Canfield</td>\n",
       "      <td>Health Communications</td>\n",
       "      <td>1996</td>\n",
       "    </tr>\n",
       "    <tr>\n",
       "      <th>4</th>\n",
       "      <td>36003</td>\n",
       "      <td>0.312700</td>\n",
       "      <td>How to Be Good</td>\n",
       "      <td>Nick Hornby</td>\n",
       "      <td>Riverhead Books</td>\n",
       "      <td>2002</td>\n",
       "    </tr>\n",
       "  </tbody>\n",
       "</table>\n",
       "</div>"
      ],
      "text/plain": [
       "   user_id     score                                         book_title  \\\n",
       "0    36003  0.368833   The Book of Ruth (Oprah's Book Club (Paperback))   \n",
       "1    36003  0.366482                                      SHIPPING NEWS   \n",
       "2    36003  0.352743  Chicken Soup for the Teenage Soul II (Chicken ...   \n",
       "3    36003  0.339509  A 3rd Serving of Chicken Soup for the Soul (Ch...   \n",
       "4    36003  0.312700                                     How to Be Good   \n",
       "\n",
       "     book_author              publisher  year_publication  \n",
       "0  Jane Hamilton                 Anchor              1990  \n",
       "1   Annie Proulx               Scribner              1994  \n",
       "2  Jack Canfield              HCI Teens              1998  \n",
       "3  Jack Canfield  Health Communications              1996  \n",
       "4    Nick Hornby        Riverhead Books              2002  "
      ]
     },
     "execution_count": 111,
     "metadata": {},
     "output_type": "execute_result"
    }
   ],
   "source": [
    "# recommendation (not show isbn)\n",
    "usecase_1[['user_id', 'score', 'book_title','book_author','publisher','year_publication']]"
   ]
  },
  {
   "cell_type": "markdown",
   "id": "db22c3e0-da56-45d7-a1e0-a84a97fa0dd3",
   "metadata": {},
   "source": [
    "Other use-case (Module 4):\n",
    "- use-case 1: Single user prediction (static history)\n",
    "- use-case 3: Single user prediction (static history) with liked items included\n",
    "- use-case 4: Single user prediction (new history)\n",
    "- use-case 5: Batch prediction (static history)\n",
    "- Non-presonalized item to item recommendation\n",
    "- Non-presonalized user to user recommendation"
   ]
  },
  {
   "cell_type": "markdown",
   "id": "14054d8f-97fb-49ca-b70f-c0ecb68c709e",
   "metadata": {},
   "source": [
    "##### <font color='DarkBlue'>LightFM Library: Implicit & Explicit Ratings</font>\n",
    "_________"
   ]
  },
  {
   "cell_type": "code",
   "execution_count": 112,
   "id": "918dd7e6-e254-4866-86f8-1e356cbeecc9",
   "metadata": {},
   "outputs": [
    {
     "name": "stdout",
     "output_type": "stream",
     "text": [
      "Num users: 92106, num_books: 270151.\n"
     ]
    }
   ],
   "source": [
    "dataset = Dataset()\n",
    "\n",
    "dataset.fit(users=df['user_id'], \n",
    "            items=df['isbn'])\n",
    "\n",
    "# quick check to determine the number of unique users and items in the data\n",
    "num_users, num_topics = dataset.interactions_shape()\n",
    "print(f'Num users: {num_users}, num_books: {num_topics}.')"
   ]
  },
  {
   "cell_type": "code",
   "execution_count": 113,
   "id": "b8a31c7c-c9fd-4b3f-8920-4d5b846d9057",
   "metadata": {},
   "outputs": [
    {
     "name": "stderr",
     "output_type": "stream",
     "text": [
      "The unique number of users for df: 92106\n",
      "The unique number of books for df: 270151\n"
     ]
    }
   ],
   "source": [
    "logger.info(f'The unique number of users for df: {df[\"user_id\"].nunique()}')\n",
    "logger.info(f'The unique number of books for df: {df[\"isbn\"].nunique()}')"
   ]
  },
  {
   "cell_type": "code",
   "execution_count": 114,
   "id": "b11f6a01-943a-4115-a09c-0cfe53d18f32",
   "metadata": {},
   "outputs": [],
   "source": [
    "# interection matrix: It is a matrix that contains user/ item interections \n",
    "# weights: weight of interection matrix. Less weight means less importance to that interection matrix.\n",
    "(interactions, weights) = dataset.build_interactions(df.iloc[:, 0:3].values)"
   ]
  },
  {
   "cell_type": "code",
   "execution_count": 115,
   "id": "9d564352-fee9-4c16-8920-b6692748923f",
   "metadata": {},
   "outputs": [
    {
     "data": {
      "text/plain": [
       "<92106x270151 sparse matrix of type '<class 'numpy.int32'>'\n",
       "\twith 1031136 stored elements in COOrdinate format>"
      ]
     },
     "execution_count": 115,
     "metadata": {},
     "output_type": "execute_result"
    }
   ],
   "source": [
    "interactions"
   ]
  },
  {
   "cell_type": "code",
   "execution_count": 116,
   "id": "ec90a73f-8c18-4b73-afc0-c4649d2c4cb3",
   "metadata": {},
   "outputs": [
    {
     "data": {
      "text/plain": [
       "<92106x270151 sparse matrix of type '<class 'numpy.float32'>'\n",
       "\twith 1031136 stored elements in COOrdinate format>"
      ]
     },
     "execution_count": 116,
     "metadata": {},
     "output_type": "execute_result"
    }
   ],
   "source": [
    "weights"
   ]
  },
  {
   "cell_type": "code",
   "execution_count": 117,
   "id": "a5e111b4-fd2a-465b-9ceb-7ab82989f4b1",
   "metadata": {},
   "outputs": [],
   "source": [
    "train, test = random_train_test_split( #https://github.com/lyst/lightfm/blob/master/lightfm/cross_validation.py\n",
    "        interactions, \n",
    "        test_percentage=0.2, \n",
    "        random_state=0 \n",
    "    )\n",
    "assert train.shape[0] == test.shape[0] == interactions.shape[0]\n",
    "assert train.data.shape[0] + test.data.shape[0] == interactions.data.shape[0]"
   ]
  },
  {
   "cell_type": "code",
   "execution_count": 118,
   "id": "2008144a-8760-432c-81c7-174b39b4bfc8",
   "metadata": {},
   "outputs": [],
   "source": [
    "train_w, test_w = random_train_test_split( \n",
    "        weights, \n",
    "        test_percentage=0.2, \n",
    "        random_state=0 \n",
    "    )\n",
    "assert train.shape[0] == test.shape[0] == weights.shape[0]\n",
    "assert train.data.shape[0] + test.data.shape[0] == weights.data.shape[0]"
   ]
  },
  {
   "cell_type": "code",
   "execution_count": 119,
   "id": "bb40c366-0098-48e2-8898-77d02432c777",
   "metadata": {},
   "outputs": [
    {
     "name": "stdout",
     "output_type": "stream",
     "text": [
      "1\n",
      "Train precision: 0.0135\n",
      "Test precision: 0.0065\n",
      "Train auc: 0.8448\n",
      "Test auc: 0.7522\n"
     ]
    }
   ],
   "source": [
    "from lightfm.evaluation import precision_at_k\n",
    "\n",
    "for i in [1]:\n",
    "    model = LightFM(loss='warp', # logistic, BPR, WARP, k-OS WARP\n",
    "                    no_components=50, #the dimensionality of the feature latent embeddings.\n",
    "                    learning_rate=0.01,                 \n",
    "                    random_state=0)\n",
    "\n",
    "    #sample_weight: matrix with entries expressing weights of individual interactions from the interactions matrix.\n",
    "    model.fit(interactions=train, \n",
    "              sample_weight = train_w, \n",
    "              epochs=10, \n",
    "              num_threads=4);\n",
    "\n",
    "    print(i)\n",
    "    print(\"Train precision: %.4f\" % precision_at_k(model, train, k=5).mean())\n",
    "    print(\"Test precision: %.4f\" % precision_at_k(model, test, k=5, train_interactions=train).mean())\n",
    "    print(\"Train auc: %.4f\" % auc_score(model, train, num_threads=4).mean())\n",
    "    print(\"Test auc: %.4f\" %  auc_score(model, test, train_interactions=train, num_threads=4).mean())"
   ]
  },
  {
   "cell_type": "markdown",
   "id": "3eda1689-60ec-44bf-949e-69a0f68ae31b",
   "metadata": {},
   "source": [
    "Hyper parameters by iteration:\n",
    "\n",
    "- no_components: 20, **50**, 100, train / test precision: (1.60/0.65) **(3.65/0.69)** (8.56/0.70), train / test auc: (96.73/77.32) **(99.48/77.37)** (99.86/77.23)\n",
    "- learning_rate: **0.01**, 0.05, train / test precision: **(1.18/0.69)** (3.65/0.69), train / test auc: **(86.84/76.04)** (99.48/77.37) --> less overfitting\n",
    "- epochs: **10**, 20,  train / test precision: **(1.18/0.69)** (1.18/0.70), train / test auc: **(86.84/76.04)** (89.49/77.04)\n",
    "- with sample_weight: train / test precision: 1.35 / 0.65, train / test auc: 84.48 / 75.22"
   ]
  },
  {
   "cell_type": "code",
   "execution_count": 120,
   "id": "e8986bbd-7e03-4d36-b1e6-a67d578b04b2",
   "metadata": {},
   "outputs": [
    {
     "data": {
      "text/html": [
       "<div>\n",
       "<style scoped>\n",
       "    .dataframe tbody tr th:only-of-type {\n",
       "        vertical-align: middle;\n",
       "    }\n",
       "\n",
       "    .dataframe tbody tr th {\n",
       "        vertical-align: top;\n",
       "    }\n",
       "\n",
       "    .dataframe thead th {\n",
       "        text-align: right;\n",
       "    }\n",
       "</style>\n",
       "<table border=\"1\" class=\"dataframe\">\n",
       "  <thead>\n",
       "    <tr style=\"text-align: right;\">\n",
       "      <th></th>\n",
       "      <th>user_id</th>\n",
       "      <th>isbn</th>\n",
       "      <th>book_rating</th>\n",
       "      <th>book_title</th>\n",
       "      <th>book_author</th>\n",
       "      <th>publisher</th>\n",
       "      <th>year_publication</th>\n",
       "    </tr>\n",
       "  </thead>\n",
       "  <tbody>\n",
       "    <tr>\n",
       "      <th>0</th>\n",
       "      <td>276725</td>\n",
       "      <td>034545104X</td>\n",
       "      <td>0</td>\n",
       "      <td>Flesh Tones: A Novel</td>\n",
       "      <td>M. J. Rose</td>\n",
       "      <td>Ballantine Books</td>\n",
       "      <td>2002</td>\n",
       "    </tr>\n",
       "    <tr>\n",
       "      <th>1</th>\n",
       "      <td>276726</td>\n",
       "      <td>0155061224</td>\n",
       "      <td>5</td>\n",
       "      <td>Rites of Passage</td>\n",
       "      <td>Judith Rae</td>\n",
       "      <td>Heinle</td>\n",
       "      <td>2001</td>\n",
       "    </tr>\n",
       "  </tbody>\n",
       "</table>\n",
       "</div>"
      ],
      "text/plain": [
       "  user_id        isbn  book_rating            book_title book_author  \\\n",
       "0  276725  034545104X            0  Flesh Tones: A Novel  M. J. Rose   \n",
       "1  276726  0155061224            5      Rites of Passage  Judith Rae   \n",
       "\n",
       "          publisher  year_publication  \n",
       "0  Ballantine Books              2002  \n",
       "1            Heinle              2001  "
      ]
     },
     "execution_count": 120,
     "metadata": {},
     "output_type": "execute_result"
    }
   ],
   "source": [
    "df.head(2)"
   ]
  },
  {
   "cell_type": "code",
   "execution_count": 121,
   "id": "238f3034-98bb-414b-85d6-8ae4630f3523",
   "metadata": {},
   "outputs": [
    {
     "data": {
      "text/plain": [
       "array([    0,     1,     2, ..., 92103, 92104, 92105], dtype=int32)"
      ]
     },
     "execution_count": 121,
     "metadata": {},
     "output_type": "execute_result"
    }
   ],
   "source": [
    "interactions.row"
   ]
  },
  {
   "cell_type": "markdown",
   "id": "d254c178-a7c4-499b-a39c-c07b04287425",
   "metadata": {},
   "source": [
    "The order of elements in interactions matrices is based on the order of the rows and columns in your original dataset. The first dimension corresponds to the users, and the second dimension corresponds to the items. The order is determined by how the data was organized in df.iloc[:, 0:3].values."
   ]
  },
  {
   "cell_type": "code",
   "execution_count": 122,
   "id": "be81b0b6-9612-4c39-af6c-e54e97e0f657",
   "metadata": {},
   "outputs": [],
   "source": [
    "# Create mapping dictionaries\n",
    "user_dict = dict((v, k) for k, v in dict(enumerate(df['user_id'].cat.categories)).items())\n",
    "item_dict = dict(enumerate(df['isbn'].cat.categories))"
   ]
  },
  {
   "cell_type": "code",
   "execution_count": 123,
   "id": "5433b5f4-6831-47f8-bb5a-b043db568e69",
   "metadata": {},
   "outputs": [
    {
     "data": {
      "text/html": [
       "<div>\n",
       "<style scoped>\n",
       "    .dataframe tbody tr th:only-of-type {\n",
       "        vertical-align: middle;\n",
       "    }\n",
       "\n",
       "    .dataframe tbody tr th {\n",
       "        vertical-align: top;\n",
       "    }\n",
       "\n",
       "    .dataframe thead th {\n",
       "        text-align: right;\n",
       "    }\n",
       "</style>\n",
       "<table border=\"1\" class=\"dataframe\">\n",
       "  <thead>\n",
       "    <tr style=\"text-align: right;\">\n",
       "      <th></th>\n",
       "      <th>id</th>\n",
       "      <th>isbn</th>\n",
       "    </tr>\n",
       "  </thead>\n",
       "  <tbody>\n",
       "    <tr>\n",
       "      <th>0</th>\n",
       "      <td>0</td>\n",
       "      <td>0000913154</td>\n",
       "    </tr>\n",
       "    <tr>\n",
       "      <th>1</th>\n",
       "      <td>1</td>\n",
       "      <td>0001010565</td>\n",
       "    </tr>\n",
       "    <tr>\n",
       "      <th>2</th>\n",
       "      <td>2</td>\n",
       "      <td>0001046438</td>\n",
       "    </tr>\n",
       "    <tr>\n",
       "      <th>3</th>\n",
       "      <td>3</td>\n",
       "      <td>0001046713</td>\n",
       "    </tr>\n",
       "    <tr>\n",
       "      <th>4</th>\n",
       "      <td>4</td>\n",
       "      <td>000104687X</td>\n",
       "    </tr>\n",
       "  </tbody>\n",
       "</table>\n",
       "</div>"
      ],
      "text/plain": [
       "   id        isbn\n",
       "0   0  0000913154\n",
       "1   1  0001010565\n",
       "2   2  0001046438\n",
       "3   3  0001046713\n",
       "4   4  000104687X"
      ]
     },
     "execution_count": 123,
     "metadata": {},
     "output_type": "execute_result"
    }
   ],
   "source": [
    "# convert into pandas dataframe\n",
    "items_df = pd.DataFrame(item_dict, index=['isbn']).T    \n",
    "items_df.reset_index(inplace=True)\n",
    "items_df.rename(columns={'index': 'id'}, inplace=True)\n",
    "items_df.head()"
   ]
  },
  {
   "cell_type": "code",
   "execution_count": 124,
   "id": "380f3b3d-f8da-4357-92de-319c149a7ae0",
   "metadata": {},
   "outputs": [
    {
     "data": {
      "text/html": [
       "<div>\n",
       "<style scoped>\n",
       "    .dataframe tbody tr th:only-of-type {\n",
       "        vertical-align: middle;\n",
       "    }\n",
       "\n",
       "    .dataframe tbody tr th {\n",
       "        vertical-align: top;\n",
       "    }\n",
       "\n",
       "    .dataframe thead th {\n",
       "        text-align: right;\n",
       "    }\n",
       "</style>\n",
       "<table border=\"1\" class=\"dataframe\">\n",
       "  <thead>\n",
       "    <tr style=\"text-align: right;\">\n",
       "      <th></th>\n",
       "      <th>id</th>\n",
       "      <th>user_id</th>\n",
       "    </tr>\n",
       "  </thead>\n",
       "  <tbody>\n",
       "    <tr>\n",
       "      <th>0</th>\n",
       "      <td>0</td>\n",
       "      <td>8</td>\n",
       "    </tr>\n",
       "    <tr>\n",
       "      <th>1</th>\n",
       "      <td>1</td>\n",
       "      <td>9</td>\n",
       "    </tr>\n",
       "    <tr>\n",
       "      <th>2</th>\n",
       "      <td>2</td>\n",
       "      <td>12</td>\n",
       "    </tr>\n",
       "    <tr>\n",
       "      <th>3</th>\n",
       "      <td>3</td>\n",
       "      <td>14</td>\n",
       "    </tr>\n",
       "    <tr>\n",
       "      <th>4</th>\n",
       "      <td>4</td>\n",
       "      <td>16</td>\n",
       "    </tr>\n",
       "  </tbody>\n",
       "</table>\n",
       "</div>"
      ],
      "text/plain": [
       "   id  user_id\n",
       "0   0        8\n",
       "1   1        9\n",
       "2   2       12\n",
       "3   3       14\n",
       "4   4       16"
      ]
     },
     "execution_count": 124,
     "metadata": {},
     "output_type": "execute_result"
    }
   ],
   "source": [
    "# same for the users\n",
    "users_df = pd.DataFrame(dict(enumerate(dfe['user_id'].cat.categories)), index=['user_id']).T    \n",
    "users_df.reset_index(inplace=True)\n",
    "users_df.rename(columns={'index': 'id'}, inplace=True)\n",
    "users_df.head()"
   ]
  },
  {
   "cell_type": "code",
   "execution_count": 125,
   "id": "d5c91487-bc25-4e87-8ad2-c2f948410ccc",
   "metadata": {},
   "outputs": [],
   "source": [
    "# Training\n",
    "# tha ALS model on the entire dataset and the entire user item data (not just on the train subset)\n",
    "# we want to have the maximum amount of data, leverage all the data to capture all the existing patern in the data set\n",
    "\n",
    "model_lightfm = LightFM(loss='warp', # logistic, BPR, WARP, k-OS WARP\n",
    "                        no_components=50, #the dimensionality of the feature latent embeddings.\n",
    "                        learning_rate=0.01,                 \n",
    "                        random_state=0)\n",
    "\n",
    "model_lightfm.fit(interactions=interactions, epochs=10, num_threads=4);\n",
    "\n",
    "# Model serialization (Course 3/module 3/dev-data/model/classic_model.pkl)\n",
    "model_lightfm_cb = {\n",
    "    \"users_df\": users_df,\n",
    "    \"items_df\": items_df,\n",
    "    'model': model_lightfm\n",
    "}\n",
    "\n",
    "# we can save on AWS / GCP / Azure Bucket also\n",
    "with open(f'model/model_lightfm_cb.pkl', 'wb') as f:\n",
    "    pickle.dump(model_lightfm_cb, f, protocol=pickle.HIGHEST_PROTOCOL)\n",
    "f.close()"
   ]
  },
  {
   "cell_type": "code",
   "execution_count": 126,
   "id": "838c6d58-852e-4933-9484-33740785a03f",
   "metadata": {},
   "outputs": [],
   "source": [
    "# Inference\n",
    "\n",
    "# Initialize model\n",
    "with open(os.path.join(f'model/', 'model_lightfm_cb.pkl'), 'rb') as f:\n",
    "    model_lightfm_cb = pickle.load(f)\n",
    "f.close()\n",
    "\n",
    "#training_output\n",
    "model_lightfm = model_lightfm_cb['model']\n",
    "users_df = model_lightfm_cb['users_df']\n",
    "items_df = model_lightfm_cb['items_df']"
   ]
  },
  {
   "cell_type": "code",
   "execution_count": 127,
   "id": "a9aeccc6-f113-48ec-88e6-da2e2bc05faa",
   "metadata": {},
   "outputs": [
    {
     "name": "stderr",
     "output_type": "stream",
     "text": [
      "user_id: 36003\n",
      "n_users: 92106, n_items: 270151\n",
      "ids: [ 335  306  309 1075  551]\n",
      "scores: [1.0914283  0.6441974  0.5133871  0.4679039  0.44867015]\n"
     ]
    }
   ],
   "source": [
    "user_id = 36003\n",
    "\n",
    "num_items_to_recommend=5\n",
    "customer_id = user_dict[user_id]\n",
    "logger.info(f'user_id: {user_id}')\n",
    "\n",
    "n_users, n_items = interactions.shape\n",
    "logger.info(f'n_users: {n_users}, n_items: {n_items}')\n",
    "all_item_ids = list(range(0, n_items)) # List of item IDs for which you want to generate recommendations\n",
    "\n",
    "recommendations = model_lightfm.predict(user_ids=customer_id, item_ids=all_item_ids) # customer_id or user_id ??? ok customer_id\n",
    "ranking_score = np.sort(recommendations)[::-1][:num_items_to_recommend] # They are simply a means of ranking the items.\n",
    "\n",
    "# Sort the recommendations in descending order by score\n",
    "recommended_item_ids = np.argsort(recommendations)[::-1][:num_items_to_recommend]\n",
    "\n",
    "logger.info(f'ids: {recommended_item_ids}')\n",
    "logger.info(f'scores: {ranking_score}')\n",
    "\n",
    "ids_mf = pd.DataFrame(recommended_item_ids.T, columns=[user_id])\n",
    "ids_mf = pd.melt(ids_mf, var_name='user_id', value_name='id')\n",
    "\n",
    "scores_mf = pd.DataFrame(ranking_score.T, columns=[user_id])\n",
    "scores_mf = pd.melt(scores_mf, var_name='user_id', value_name='ranking_score')\n",
    "\n",
    "usecase_2 = pd.concat([ids_mf, scores_mf[['ranking_score']]], axis=1)\n",
    "usecase_2 = usecase_2.set_index(['id'])\n",
    "usecase_2['isbn'] = items_df['isbn'] #map id to the actual article id\n",
    "usecase_2 = pd.merge(\n",
    "    usecase_2, \n",
    "    books[['isbn', 'book_title', 'book_author', 'year_publication', 'publisher']], \n",
    "    how='left', \n",
    "    on='isbn'\n",
    ")"
   ]
  },
  {
   "cell_type": "code",
   "execution_count": 128,
   "id": "d362888d-3413-4afe-82ac-68e4441e8534",
   "metadata": {},
   "outputs": [
    {
     "data": {
      "text/html": [
       "<div>\n",
       "<style scoped>\n",
       "    .dataframe tbody tr th:only-of-type {\n",
       "        vertical-align: middle;\n",
       "    }\n",
       "\n",
       "    .dataframe tbody tr th {\n",
       "        vertical-align: top;\n",
       "    }\n",
       "\n",
       "    .dataframe thead th {\n",
       "        text-align: right;\n",
       "    }\n",
       "</style>\n",
       "<table border=\"1\" class=\"dataframe\">\n",
       "  <thead>\n",
       "    <tr style=\"text-align: right;\">\n",
       "      <th></th>\n",
       "      <th>user_id</th>\n",
       "      <th>ranking_score</th>\n",
       "      <th>book_title</th>\n",
       "      <th>book_author</th>\n",
       "      <th>publisher</th>\n",
       "      <th>year_publication</th>\n",
       "    </tr>\n",
       "  </thead>\n",
       "  <tbody>\n",
       "    <tr>\n",
       "      <th>0</th>\n",
       "      <td>36003</td>\n",
       "      <td>1.091428</td>\n",
       "      <td>A Day in the Life of Hollywood (Day in the Life)</td>\n",
       "      <td>Bill Messing</td>\n",
       "      <td>Collins Publishers</td>\n",
       "      <td>1992</td>\n",
       "    </tr>\n",
       "    <tr>\n",
       "      <th>1</th>\n",
       "      <td>36003</td>\n",
       "      <td>0.644197</td>\n",
       "      <td>Swimmer</td>\n",
       "      <td>Bill Broady</td>\n",
       "      <td>Flamingo</td>\n",
       "      <td>2000</td>\n",
       "    </tr>\n",
       "    <tr>\n",
       "      <th>2</th>\n",
       "      <td>36003</td>\n",
       "      <td>0.513387</td>\n",
       "      <td>Lust, Or, No Harm Done</td>\n",
       "      <td>Geoff Ryman</td>\n",
       "      <td>Flamingo</td>\n",
       "      <td>2001</td>\n",
       "    </tr>\n",
       "    <tr>\n",
       "      <th>3</th>\n",
       "      <td>36003</td>\n",
       "      <td>0.467904</td>\n",
       "      <td>Druidry</td>\n",
       "      <td>Emma Restall Orr</td>\n",
       "      <td>Thorsons Publishers</td>\n",
       "      <td>2001</td>\n",
       "    </tr>\n",
       "    <tr>\n",
       "      <th>4</th>\n",
       "      <td>36003</td>\n",
       "      <td>0.448670</td>\n",
       "      <td>The Honey Ant</td>\n",
       "      <td>Duncan Kyle</td>\n",
       "      <td>HarperCollins Publishers</td>\n",
       "      <td>1989</td>\n",
       "    </tr>\n",
       "  </tbody>\n",
       "</table>\n",
       "</div>"
      ],
      "text/plain": [
       "   user_id  ranking_score                                        book_title  \\\n",
       "0    36003       1.091428  A Day in the Life of Hollywood (Day in the Life)   \n",
       "1    36003       0.644197                                           Swimmer   \n",
       "2    36003       0.513387                            Lust, Or, No Harm Done   \n",
       "3    36003       0.467904                                           Druidry   \n",
       "4    36003       0.448670                                     The Honey Ant   \n",
       "\n",
       "        book_author                 publisher  year_publication  \n",
       "0      Bill Messing        Collins Publishers              1992  \n",
       "1       Bill Broady                  Flamingo              2000  \n",
       "2       Geoff Ryman                  Flamingo              2001  \n",
       "3  Emma Restall Orr       Thorsons Publishers              2001  \n",
       "4       Duncan Kyle  HarperCollins Publishers              1989  "
      ]
     },
     "execution_count": 128,
     "metadata": {},
     "output_type": "execute_result"
    }
   ],
   "source": [
    "usecase_2[['user_id', 'ranking_score', 'book_title', 'book_author', 'publisher', 'year_publication']]"
   ]
  },
  {
   "cell_type": "markdown",
   "id": "1e89b9fe-9b4f-4e9b-91a7-0a576caa364e",
   "metadata": {},
   "source": [
    "#### <font color='DarkBlue'>Hybrid</font>"
   ]
  },
  {
   "cell_type": "markdown",
   "id": "e9f76e27-96fa-4df4-9a5b-b6cd48000471",
   "metadata": {},
   "source": [
    "##### <font color='DarkBlue'>LightFM Library - Hybrid Content-Collaborative Filtering: Weighting</font>\n",
    "_________"
   ]
  },
  {
   "cell_type": "markdown",
   "id": "ffdefaa2-b9c8-4c08-9d9f-4b00a2420432",
   "metadata": {},
   "source": [
    "Example of code here:\n",
    "- https://gitee.com/fruitwater/recommenders/blob/master/examples/02_model_hybrid/lightfm_deep_dive.ipynb\n",
    "- https://github.com/lyst/lightfm/blob/master/examples/stackexchange/hybrid_crossvalidated.ipynb"
   ]
  },
  {
   "cell_type": "code",
   "execution_count": 129,
   "id": "347ea07f-f8e4-4c4c-89ba-9524eda47d1e",
   "metadata": {},
   "outputs": [
    {
     "data": {
      "text/html": [
       "<div>\n",
       "<style scoped>\n",
       "    .dataframe tbody tr th:only-of-type {\n",
       "        vertical-align: middle;\n",
       "    }\n",
       "\n",
       "    .dataframe tbody tr th {\n",
       "        vertical-align: top;\n",
       "    }\n",
       "\n",
       "    .dataframe thead th {\n",
       "        text-align: right;\n",
       "    }\n",
       "</style>\n",
       "<table border=\"1\" class=\"dataframe\">\n",
       "  <thead>\n",
       "    <tr style=\"text-align: right;\">\n",
       "      <th></th>\n",
       "      <th>user_id</th>\n",
       "      <th>isbn</th>\n",
       "      <th>book_rating</th>\n",
       "      <th>book_title</th>\n",
       "      <th>book_author</th>\n",
       "      <th>publisher</th>\n",
       "      <th>year_publication</th>\n",
       "      <th>age</th>\n",
       "      <th>country</th>\n",
       "    </tr>\n",
       "  </thead>\n",
       "  <tbody>\n",
       "    <tr>\n",
       "      <th>0</th>\n",
       "      <td>276725</td>\n",
       "      <td>034545104X</td>\n",
       "      <td>0</td>\n",
       "      <td>Flesh Tones: A Novel</td>\n",
       "      <td>M. J. Rose</td>\n",
       "      <td>Ballantine Books</td>\n",
       "      <td>2002</td>\n",
       "      <td>34</td>\n",
       "      <td>United States</td>\n",
       "    </tr>\n",
       "    <tr>\n",
       "      <th>1</th>\n",
       "      <td>276726</td>\n",
       "      <td>0155061224</td>\n",
       "      <td>5</td>\n",
       "      <td>Rites of Passage</td>\n",
       "      <td>Judith Rae</td>\n",
       "      <td>Heinle</td>\n",
       "      <td>2001</td>\n",
       "      <td>34</td>\n",
       "      <td>United States</td>\n",
       "    </tr>\n",
       "  </tbody>\n",
       "</table>\n",
       "</div>"
      ],
      "text/plain": [
       "  user_id        isbn  book_rating            book_title book_author  \\\n",
       "0  276725  034545104X            0  Flesh Tones: A Novel  M. J. Rose   \n",
       "1  276726  0155061224            5      Rites of Passage  Judith Rae   \n",
       "\n",
       "          publisher  year_publication  age        country  \n",
       "0  Ballantine Books              2002   34  United States  \n",
       "1            Heinle              2001   34  United States  "
      ]
     },
     "execution_count": 129,
     "metadata": {},
     "output_type": "execute_result"
    }
   ],
   "source": [
    "# Merge the users dataset\n",
    "df = df.merge(users, how='left', on='user_id')\n",
    "cat(df, \"user_id\", \"isbn\")\n",
    "df.head(2)"
   ]
  },
  {
   "cell_type": "code",
   "execution_count": 130,
   "id": "d0187713-c872-484f-bc1a-fa6e4bd7d99d",
   "metadata": {},
   "outputs": [
    {
     "name": "stdout",
     "output_type": "stream",
     "text": [
      "<class 'pandas.core.frame.DataFrame'>\n",
      "Int64Index: 1031136 entries, 0 to 1031135\n",
      "Data columns (total 10 columns):\n",
      " #   Column            Non-Null Count    Dtype   \n",
      "---  ------            --------------    -----   \n",
      " 0   user_id           1031136 non-null  category\n",
      " 1   isbn              1031136 non-null  category\n",
      " 2   book_rating       1031136 non-null  int64   \n",
      " 3   book_title        1031136 non-null  object  \n",
      " 4   book_author       1031136 non-null  object  \n",
      " 5   publisher         1031136 non-null  object  \n",
      " 6   year_publication  1031136 non-null  int64   \n",
      " 7   age               1031136 non-null  int32   \n",
      " 8   country           1031136 non-null  object  \n",
      " 9   age_class         1031136 non-null  object  \n",
      "dtypes: category(2), int32(1), int64(2), object(5)\n",
      "memory usage: 87.6+ MB\n"
     ]
    }
   ],
   "source": [
    "# convert ratings into tiers\n",
    "def convert_age(x):\n",
    "    \n",
    "    if x >= 0 and x <= 14:\n",
    "        return 'children'\n",
    "    elif x > 14 and x <=24:\n",
    "        return 'teeneger'\n",
    "    elif x > 24 and x <= 64:\n",
    "        return 'adult'\n",
    "    else:\n",
    "        return 'senior'\n",
    "\n",
    "df['age_class'] = df['age'].apply(lambda x: convert_age(x))\n",
    "df.info()"
   ]
  },
  {
   "cell_type": "code",
   "execution_count": 131,
   "id": "635d31c6-3fab-4c03-80b8-b321addc2afd",
   "metadata": {},
   "outputs": [
    {
     "data": {
      "text/html": [
       "<div>\n",
       "<style scoped>\n",
       "    .dataframe tbody tr th:only-of-type {\n",
       "        vertical-align: middle;\n",
       "    }\n",
       "\n",
       "    .dataframe tbody tr th {\n",
       "        vertical-align: top;\n",
       "    }\n",
       "\n",
       "    .dataframe thead th {\n",
       "        text-align: right;\n",
       "    }\n",
       "</style>\n",
       "<table border=\"1\" class=\"dataframe\">\n",
       "  <thead>\n",
       "    <tr style=\"text-align: right;\">\n",
       "      <th></th>\n",
       "      <th>user_id</th>\n",
       "      <th>isbn</th>\n",
       "      <th>book_rating</th>\n",
       "      <th>book_title</th>\n",
       "      <th>book_author</th>\n",
       "      <th>publisher</th>\n",
       "      <th>year_publication</th>\n",
       "      <th>age</th>\n",
       "      <th>country</th>\n",
       "      <th>age_class</th>\n",
       "    </tr>\n",
       "  </thead>\n",
       "  <tbody>\n",
       "    <tr>\n",
       "      <th>0</th>\n",
       "      <td>276725</td>\n",
       "      <td>034545104X</td>\n",
       "      <td>0</td>\n",
       "      <td>Flesh Tones: A Novel</td>\n",
       "      <td>M. J. Rose</td>\n",
       "      <td>Ballantine Books</td>\n",
       "      <td>2002</td>\n",
       "      <td>34</td>\n",
       "      <td>United States</td>\n",
       "      <td>adult</td>\n",
       "    </tr>\n",
       "    <tr>\n",
       "      <th>1</th>\n",
       "      <td>276726</td>\n",
       "      <td>0155061224</td>\n",
       "      <td>5</td>\n",
       "      <td>Rites of Passage</td>\n",
       "      <td>Judith Rae</td>\n",
       "      <td>Heinle</td>\n",
       "      <td>2001</td>\n",
       "      <td>34</td>\n",
       "      <td>United States</td>\n",
       "      <td>adult</td>\n",
       "    </tr>\n",
       "    <tr>\n",
       "      <th>2</th>\n",
       "      <td>276727</td>\n",
       "      <td>0446520802</td>\n",
       "      <td>0</td>\n",
       "      <td>The Notebook</td>\n",
       "      <td>Nicholas Sparks</td>\n",
       "      <td>Warner Books</td>\n",
       "      <td>1996</td>\n",
       "      <td>16</td>\n",
       "      <td>Australia</td>\n",
       "      <td>teeneger</td>\n",
       "    </tr>\n",
       "    <tr>\n",
       "      <th>3</th>\n",
       "      <td>276729</td>\n",
       "      <td>052165615X</td>\n",
       "      <td>3</td>\n",
       "      <td>Help!: Level 1</td>\n",
       "      <td>Philip Prowse</td>\n",
       "      <td>Cambridge University Press</td>\n",
       "      <td>1999</td>\n",
       "      <td>16</td>\n",
       "      <td>Croatia</td>\n",
       "      <td>teeneger</td>\n",
       "    </tr>\n",
       "    <tr>\n",
       "      <th>4</th>\n",
       "      <td>276729</td>\n",
       "      <td>0521795028</td>\n",
       "      <td>6</td>\n",
       "      <td>The Amsterdam Connection : Level 4 (Cambridge ...</td>\n",
       "      <td>Sue Leather</td>\n",
       "      <td>Cambridge University Press</td>\n",
       "      <td>2001</td>\n",
       "      <td>16</td>\n",
       "      <td>Croatia</td>\n",
       "      <td>teeneger</td>\n",
       "    </tr>\n",
       "  </tbody>\n",
       "</table>\n",
       "</div>"
      ],
      "text/plain": [
       "  user_id        isbn  book_rating  \\\n",
       "0  276725  034545104X            0   \n",
       "1  276726  0155061224            5   \n",
       "2  276727  0446520802            0   \n",
       "3  276729  052165615X            3   \n",
       "4  276729  0521795028            6   \n",
       "\n",
       "                                          book_title      book_author  \\\n",
       "0                               Flesh Tones: A Novel       M. J. Rose   \n",
       "1                                   Rites of Passage       Judith Rae   \n",
       "2                                       The Notebook  Nicholas Sparks   \n",
       "3                                     Help!: Level 1    Philip Prowse   \n",
       "4  The Amsterdam Connection : Level 4 (Cambridge ...      Sue Leather   \n",
       "\n",
       "                    publisher  year_publication  age        country age_class  \n",
       "0            Ballantine Books              2002   34  United States     adult  \n",
       "1                      Heinle              2001   34  United States     adult  \n",
       "2                Warner Books              1996   16      Australia  teeneger  \n",
       "3  Cambridge University Press              1999   16        Croatia  teeneger  \n",
       "4  Cambridge University Press              2001   16        Croatia  teeneger  "
      ]
     },
     "execution_count": 131,
     "metadata": {},
     "output_type": "execute_result"
    }
   ],
   "source": [
    "df.head()"
   ]
  },
  {
   "cell_type": "code",
   "execution_count": 132,
   "id": "d203f329-8e96-4cfd-9640-3dec07da197f",
   "metadata": {},
   "outputs": [
    {
     "name": "stderr",
     "output_type": "stream",
     "text": [
      "The unique number of users: 92106\n",
      "The unique number of books: 270151\n",
      "The unique number of publisher: 16726\n",
      "The unique number of author: 101586\n",
      "The unique number of title: 241071\n",
      "The unique number of country: 164\n",
      "The unique number of age: 90\n",
      "The unique number of age_class: 4\n"
     ]
    }
   ],
   "source": [
    "logger.info(f'The unique number of users: {df[\"user_id\"].nunique()}')\n",
    "logger.info(f'The unique number of books: {df[\"isbn\"].nunique()}')\n",
    "logger.info(f'The unique number of publisher: {df[\"publisher\"].nunique()}')\n",
    "logger.info(f'The unique number of author: {df[\"book_author\"].nunique()}')\n",
    "logger.info(f'The unique number of title: {df[\"book_title\"].nunique()}')\n",
    "logger.info(f'The unique number of country: {df[\"country\"].nunique()}')\n",
    "logger.info(f'The unique number of age: {df[\"age\"].nunique()}')\n",
    "logger.info(f'The unique number of age_class: {df[\"age_class\"].nunique()}')"
   ]
  },
  {
   "cell_type": "code",
   "execution_count": 133,
   "id": "c17c7a71-4998-42c2-94fc-48ea37e5259c",
   "metadata": {},
   "outputs": [
    {
     "name": "stdout",
     "output_type": "stream",
     "text": [
      "Number of users: 92106, Number of books: 270151\n"
     ]
    }
   ],
   "source": [
    "all_publishers = df['publisher'].unique()\n",
    "all_age_class = df['age_class'].unique()\n",
    "all_country = df['country'].unique()\n",
    "\n",
    "# fit method creates the user/item id mappings.\n",
    "dataset = Dataset()\n",
    "dataset.fit(users=df['user_id'], \n",
    "            items=df['isbn'])\n",
    "#dataset.fit_partial(item_features=all_publishers)\n",
    "#dataset.fit_partial(user_features=all_country)\n",
    "dataset.fit_partial(user_features=all_age_class)\n",
    "\n",
    "# quick check to determine the number of unique users and items in the data\n",
    "num_users, num_topics = dataset.interactions_shape()\n",
    "print(f'Number of users: {num_users}, Number of books: {num_topics}')"
   ]
  },
  {
   "cell_type": "code",
   "execution_count": 134,
   "id": "b1362172-aaf5-4b1c-a5a8-46538235825d",
   "metadata": {},
   "outputs": [],
   "source": [
    "#item_feature = dataset.build_item_features(\n",
    "#    (x, [y]) for x,y in zip(df.isbn, df['publisher']))\n",
    "#item_features"
   ]
  },
  {
   "cell_type": "code",
   "execution_count": 135,
   "id": "d627e912-c01c-4e7e-86fc-23e9280cba73",
   "metadata": {},
   "outputs": [
    {
     "data": {
      "text/plain": [
       "<92106x92110 sparse matrix of type '<class 'numpy.float32'>'\n",
       "\twith 184212 stored elements in Compressed Sparse Row format>"
      ]
     },
     "execution_count": 135,
     "metadata": {},
     "output_type": "execute_result"
    }
   ],
   "source": [
    "user_feature = dataset.build_user_features(\n",
    "    (x, [y]) for x,y in zip(df.user_id, df['age_class']))\n",
    "\n",
    "#user_feature = dataset.build_user_features(\n",
    "#    (x, [y]) for x,y in zip(df.user_id, df['country']))\n",
    "\n",
    "user_feature"
   ]
  },
  {
   "cell_type": "code",
   "execution_count": 136,
   "id": "eeb7f014-ff8c-49a8-983e-76f0e7240457",
   "metadata": {},
   "outputs": [],
   "source": [
    "(interactions, weights) = dataset.build_interactions(df.iloc[:, 0:3].values)"
   ]
  },
  {
   "cell_type": "code",
   "execution_count": 137,
   "id": "d545d227-4ee9-4807-94df-bd0fa558ae41",
   "metadata": {},
   "outputs": [
    {
     "data": {
      "text/plain": [
       "<92106x270151 sparse matrix of type '<class 'numpy.int32'>'\n",
       "\twith 1031136 stored elements in COOrdinate format>"
      ]
     },
     "execution_count": 137,
     "metadata": {},
     "output_type": "execute_result"
    }
   ],
   "source": [
    "interactions"
   ]
  },
  {
   "cell_type": "code",
   "execution_count": 138,
   "id": "060e3eed-f38c-4928-a31b-f2f83f7e29bc",
   "metadata": {},
   "outputs": [],
   "source": [
    "train, test = cross_validation.random_train_test_split( #https://github.com/lyst/lightfm/blob/master/lightfm/cross_validation.py\n",
    "        interactions, \n",
    "        test_percentage=0.2, \n",
    "        random_state=0 \n",
    "    )\n",
    "\n",
    "train_w, test_w = cross_validation.random_train_test_split( #https://github.com/lyst/lightfm/blob/master/lightfm/cross_validation.py\n",
    "        weights, \n",
    "        test_percentage=0.2, \n",
    "        random_state=0 \n",
    "    )\n",
    "\n",
    "assert train.shape[0] == test.shape[0] == interactions.shape[0]\n",
    "assert train.data.shape[0] + test.data.shape[0] == interactions.data.shape[0]\n",
    "\n",
    "assert train_w.shape[0] == test_w.shape[0] == weights.shape[0]\n",
    "assert train_w.data.shape[0] + test_w.data.shape[0] == weights.data.shape[0]"
   ]
  },
  {
   "cell_type": "code",
   "execution_count": 139,
   "id": "d294e542-e916-467d-9ffa-92aee594c1ba",
   "metadata": {},
   "outputs": [],
   "source": [
    "model2 = LightFM(loss='warp', \n",
    "                 no_components=50, \n",
    "                 learning_rate=0.01, \n",
    "                 #item_alpha=ITEM_ALPHA, #L2 penalty on item features.\n",
    "                 #user_alpha=USER_ALPHA, #L2 penalty on user features.\n",
    "                 random_state=0)\n",
    "\n",
    "model2.fit(interactions=train,\n",
    "           #item_features=item_feature,\n",
    "           user_features=user_feature,\n",
    "           sample_weight = train_w, \n",
    "           epochs=10,\n",
    "           num_threads=4);"
   ]
  },
  {
   "cell_type": "code",
   "execution_count": 140,
   "id": "94c9e123-dcba-4c6f-84e7-c13e1354a3f5",
   "metadata": {},
   "outputs": [
    {
     "name": "stdout",
     "output_type": "stream",
     "text": [
      "Train precision: 0.0117\n",
      "Test precision: 0.0070\n",
      "Train auc: 0.8299\n",
      "Test auc: 0.7556\n"
     ]
    }
   ],
   "source": [
    "#add cross validation and rebuild item/user\n",
    "print(\"Train precision: %.4f\" % precision_at_k(\n",
    "    model2, train, user_features = user_feature, \n",
    "    #item_features=item_feature, \n",
    "    k=5, num_threads=4).mean()\n",
    "     )\n",
    "print(\"Test precision: %.4f\" % precision_at_k(\n",
    "    model2, test, k=5, user_features = user_feature, \n",
    "    #item_features=item_feature, \n",
    "    train_interactions=train, num_threads=4).mean()\n",
    "     )\n",
    "print(\"Train auc: %.4f\" % auc_score(\n",
    "    model2, train, user_features = user_feature, \n",
    "    #item_features=item_feature, \n",
    "    num_threads=4).mean()\n",
    "     )\n",
    "print(\"Test auc: %.4f\" %  auc_score(\n",
    "    model2, test, user_features = user_feature, \n",
    "    #item_features=item_feature, \n",
    "    train_interactions=train, num_threads=4).mean()\n",
    "     )"
   ]
  },
  {
   "cell_type": "markdown",
   "id": "6b9c6c1d-17a1-426e-9f6f-277a66a100f1",
   "metadata": {},
   "source": [
    "**Hyper parameters by iteration:**\n",
    "\n",
    "- item (publisher) / user (country): train / test precision: 0.90 / 0.51, train / test auc: 88.08 / 83.23\n",
    "- user (country): train / test precision: 1.13 / 0.67, train / test auc: 88.84 / 79.07\n",
    "- **user (age_class):** train / test precision: 1.19 / 0.73, train / test auc: 83.34 / 75.10\n",
    "- user (age_class) & weights: train / test precision: 1.17 / 0.70, train / test auc: 82.99 / 75.56"
   ]
  },
  {
   "cell_type": "markdown",
   "id": "2fd477bf-ebf2-4def-a54d-bd268dd6c533",
   "metadata": {},
   "source": [
    "The choice between high precision and high AUC depends on the specific goals of your recommendation system:\n",
    "\n",
    "High Precision: If your primary goal is to provide highly accurate and relevant recommendations to users, you would aim for high precision. This is particularly important in applications where users are shown a limited number of recommendations, and the focus is on ensuring that those recommendations are as relevant as possible.\n",
    "\n",
    "High AUC: If your system's primary goal is to ensure that relevant items are ranked higher than irrelevant ones, even if it means including some less relevant items in the recommendation list, you might prioritize AUC. This is often the case in systems where users have the option to explore many recommendations or where the system needs to be good at separating relevant from irrelevant items across the entire item catalog."
   ]
  },
  {
   "cell_type": "code",
   "execution_count": 141,
   "id": "9cf86f67-3d6e-442d-92f0-6e62aa59062e",
   "metadata": {},
   "outputs": [],
   "source": [
    "# Create mapping dictionaries\n",
    "user_dict = dict((v, k) for k, v in dict(enumerate(df['user_id'].cat.categories)).items())\n",
    "item_dict = dict(enumerate(df['isbn'].cat.categories))"
   ]
  },
  {
   "cell_type": "code",
   "execution_count": 142,
   "id": "0fabbbfe-46f1-40c8-a6e2-56c3569af910",
   "metadata": {},
   "outputs": [
    {
     "data": {
      "text/html": [
       "<div>\n",
       "<style scoped>\n",
       "    .dataframe tbody tr th:only-of-type {\n",
       "        vertical-align: middle;\n",
       "    }\n",
       "\n",
       "    .dataframe tbody tr th {\n",
       "        vertical-align: top;\n",
       "    }\n",
       "\n",
       "    .dataframe thead th {\n",
       "        text-align: right;\n",
       "    }\n",
       "</style>\n",
       "<table border=\"1\" class=\"dataframe\">\n",
       "  <thead>\n",
       "    <tr style=\"text-align: right;\">\n",
       "      <th></th>\n",
       "      <th>id</th>\n",
       "      <th>isbn</th>\n",
       "    </tr>\n",
       "  </thead>\n",
       "  <tbody>\n",
       "    <tr>\n",
       "      <th>0</th>\n",
       "      <td>0</td>\n",
       "      <td>0000913154</td>\n",
       "    </tr>\n",
       "    <tr>\n",
       "      <th>1</th>\n",
       "      <td>1</td>\n",
       "      <td>0001010565</td>\n",
       "    </tr>\n",
       "    <tr>\n",
       "      <th>2</th>\n",
       "      <td>2</td>\n",
       "      <td>0001046438</td>\n",
       "    </tr>\n",
       "    <tr>\n",
       "      <th>3</th>\n",
       "      <td>3</td>\n",
       "      <td>0001046713</td>\n",
       "    </tr>\n",
       "    <tr>\n",
       "      <th>4</th>\n",
       "      <td>4</td>\n",
       "      <td>000104687X</td>\n",
       "    </tr>\n",
       "  </tbody>\n",
       "</table>\n",
       "</div>"
      ],
      "text/plain": [
       "   id        isbn\n",
       "0   0  0000913154\n",
       "1   1  0001010565\n",
       "2   2  0001046438\n",
       "3   3  0001046713\n",
       "4   4  000104687X"
      ]
     },
     "execution_count": 142,
     "metadata": {},
     "output_type": "execute_result"
    }
   ],
   "source": [
    "# convert into pandas dataframe\n",
    "items_df = pd.DataFrame(item_dict, index=['isbn']).T    \n",
    "items_df.reset_index(inplace=True)\n",
    "items_df.rename(columns={'index': 'id'}, inplace=True)\n",
    "items_df.head()"
   ]
  },
  {
   "cell_type": "code",
   "execution_count": 143,
   "id": "7a46a2d9-97e6-4c8b-b98f-6470ca1d449a",
   "metadata": {},
   "outputs": [
    {
     "data": {
      "text/html": [
       "<div>\n",
       "<style scoped>\n",
       "    .dataframe tbody tr th:only-of-type {\n",
       "        vertical-align: middle;\n",
       "    }\n",
       "\n",
       "    .dataframe tbody tr th {\n",
       "        vertical-align: top;\n",
       "    }\n",
       "\n",
       "    .dataframe thead th {\n",
       "        text-align: right;\n",
       "    }\n",
       "</style>\n",
       "<table border=\"1\" class=\"dataframe\">\n",
       "  <thead>\n",
       "    <tr style=\"text-align: right;\">\n",
       "      <th></th>\n",
       "      <th>id</th>\n",
       "      <th>user_id</th>\n",
       "    </tr>\n",
       "  </thead>\n",
       "  <tbody>\n",
       "    <tr>\n",
       "      <th>0</th>\n",
       "      <td>0</td>\n",
       "      <td>8</td>\n",
       "    </tr>\n",
       "    <tr>\n",
       "      <th>1</th>\n",
       "      <td>1</td>\n",
       "      <td>9</td>\n",
       "    </tr>\n",
       "    <tr>\n",
       "      <th>2</th>\n",
       "      <td>2</td>\n",
       "      <td>12</td>\n",
       "    </tr>\n",
       "    <tr>\n",
       "      <th>3</th>\n",
       "      <td>3</td>\n",
       "      <td>14</td>\n",
       "    </tr>\n",
       "    <tr>\n",
       "      <th>4</th>\n",
       "      <td>4</td>\n",
       "      <td>16</td>\n",
       "    </tr>\n",
       "  </tbody>\n",
       "</table>\n",
       "</div>"
      ],
      "text/plain": [
       "   id  user_id\n",
       "0   0        8\n",
       "1   1        9\n",
       "2   2       12\n",
       "3   3       14\n",
       "4   4       16"
      ]
     },
     "execution_count": 143,
     "metadata": {},
     "output_type": "execute_result"
    }
   ],
   "source": [
    "# same for the users\n",
    "users_df = pd.DataFrame(dict(enumerate(dfe['user_id'].cat.categories)), index=['user_id']).T    \n",
    "users_df.reset_index(inplace=True)\n",
    "users_df.rename(columns={'index': 'id'}, inplace=True)\n",
    "users_df.head()"
   ]
  },
  {
   "cell_type": "code",
   "execution_count": 144,
   "id": "49b7db17-e86a-4693-8cc0-137027533c59",
   "metadata": {},
   "outputs": [],
   "source": [
    "# Training\n",
    "# tha ALS model on the entire dataset and the entire user item data (not just on the train subset)\n",
    "# we want to have the maximum amount of data, leverage all the data to capture all the existing patern in the data set\n",
    "\n",
    "model2 = LightFM(loss='warp', \n",
    "                 no_components=50, \n",
    "                 learning_rate=0.01, \n",
    "                 #item_alpha=ITEM_ALPHA, #L2 penalty on item features.\n",
    "                 #user_alpha=USER_ALPHA, #L2 penalty on user features.\n",
    "                 random_state=0)\n",
    "\n",
    "model2.fit(interactions=interactions,\n",
    "           #item_features=item_feature,\n",
    "           user_features=user_feature,\n",
    "           epochs=10,\n",
    "           num_threads=4);\n",
    "\n",
    "# Model serialization (Course 3/module 3/dev-data/model/classic_model.pkl)\n",
    "model_lightfm_h = {\n",
    "    \"users_df\": users_df,\n",
    "    \"items_df\": items_df,\n",
    "    'model': model2\n",
    "}\n",
    "\n",
    "# we can save on AWS / GCP / Azure Bucket also\n",
    "with open(f'model/model_lightfm_h.pkl', 'wb') as f:\n",
    "    pickle.dump(model_lightfm_h, f, protocol=pickle.HIGHEST_PROTOCOL)\n",
    "f.close()"
   ]
  },
  {
   "cell_type": "code",
   "execution_count": 145,
   "id": "9030c917-9c7a-43b5-b446-79135286f509",
   "metadata": {},
   "outputs": [],
   "source": [
    "# Inference\n",
    "\n",
    "# Initialize model\n",
    "with open(os.path.join(f'model/', 'model_lightfm_h.pkl'), 'rb') as f:\n",
    "    model_lightfm_h = pickle.load(f)\n",
    "f.close()\n",
    "\n",
    "#training_output\n",
    "model_lightfm2 = model_lightfm_h['model']\n",
    "users_df = model_lightfm_h['users_df']\n",
    "items_df = model_lightfm_h['items_df']"
   ]
  },
  {
   "cell_type": "code",
   "execution_count": 146,
   "id": "ba646e32-d89f-488c-9f39-7951bf530712",
   "metadata": {},
   "outputs": [
    {
     "name": "stderr",
     "output_type": "stream",
     "text": [
      "user_id: 36003\n",
      "n_users: 92106, n_items: 270151\n",
      "ids: [  858  3016 10114 41153 18787]\n",
      "scores: [0.09467445 0.09273248 0.09117133 0.08891956 0.08890858]\n"
     ]
    }
   ],
   "source": [
    "user_id = 36003\n",
    "num_items_to_recommend=5\n",
    "\n",
    "customer_id = user_dict[user_id]\n",
    "logger.info(f'user_id: {user_id}')\n",
    "\n",
    "n_users, n_items = interactions.shape\n",
    "logger.info(f'n_users: {n_users}, n_items: {n_items}')\n",
    "all_item_ids = list(range(0, n_items)) \n",
    "\n",
    "recommendations = model_lightfm2.predict(user_ids=customer_id, item_ids=all_item_ids) \n",
    "ranking_score = np.sort(recommendations)[::-1][:num_items_to_recommend] \n",
    "\n",
    "# Sort the recommendations in descending order by score\n",
    "recommended_item_ids = np.argsort(recommendations)[::-1][:num_items_to_recommend]\n",
    "\n",
    "logger.info(f'ids: {recommended_item_ids}')\n",
    "logger.info(f'scores: {ranking_score}')\n",
    "\n",
    "ids_mf = pd.DataFrame(recommended_item_ids.T, columns=[user_id])\n",
    "ids_mf = pd.melt(ids_mf, var_name='user_id', value_name='id')\n",
    "\n",
    "scores_mf = pd.DataFrame(ranking_score.T, columns=[user_id])\n",
    "scores_mf = pd.melt(scores_mf, var_name='user_id', value_name='ranking_score')\n",
    "\n",
    "usecase_3 = pd.concat([ids_mf, scores_mf[['ranking_score']]], axis=1)\n",
    "usecase_3 = usecase_3.set_index(['id'])\n",
    "usecase_3['isbn'] = items_df['isbn'] #map id to the actual article id\n",
    "usecase_3 = pd.merge(\n",
    "    usecase_3, \n",
    "    books[['isbn', 'book_title', 'book_author', 'year_publication', 'publisher']], \n",
    "    how='left', \n",
    "    on='isbn'\n",
    ")"
   ]
  },
  {
   "cell_type": "code",
   "execution_count": 147,
   "id": "d114073c-d198-4c85-a57b-4f8a00bf3516",
   "metadata": {},
   "outputs": [
    {
     "data": {
      "text/html": [
       "<div>\n",
       "<style scoped>\n",
       "    .dataframe tbody tr th:only-of-type {\n",
       "        vertical-align: middle;\n",
       "    }\n",
       "\n",
       "    .dataframe tbody tr th {\n",
       "        vertical-align: top;\n",
       "    }\n",
       "\n",
       "    .dataframe thead th {\n",
       "        text-align: right;\n",
       "    }\n",
       "</style>\n",
       "<table border=\"1\" class=\"dataframe\">\n",
       "  <thead>\n",
       "    <tr style=\"text-align: right;\">\n",
       "      <th></th>\n",
       "      <th>user_id</th>\n",
       "      <th>ranking_score</th>\n",
       "      <th>book_title</th>\n",
       "      <th>book_author</th>\n",
       "      <th>publisher</th>\n",
       "      <th>year_publication</th>\n",
       "    </tr>\n",
       "  </thead>\n",
       "  <tbody>\n",
       "    <tr>\n",
       "      <th>0</th>\n",
       "      <td>36003</td>\n",
       "      <td>0.094674</td>\n",
       "      <td>My Friend Matt and Hena the Whore</td>\n",
       "      <td>Adam Zameenzad</td>\n",
       "      <td>Fontana Paperbacks</td>\n",
       "      <td>1994</td>\n",
       "    </tr>\n",
       "    <tr>\n",
       "      <th>1</th>\n",
       "      <td>36003</td>\n",
       "      <td>0.092732</td>\n",
       "      <td>Mmmmmmm: a feastiary</td>\n",
       "      <td>Ruth Reichl</td>\n",
       "      <td>Holt, Rinehart and Winston</td>\n",
       "      <td>1972</td>\n",
       "    </tr>\n",
       "    <tr>\n",
       "      <th>2</th>\n",
       "      <td>36003</td>\n",
       "      <td>0.091171</td>\n",
       "      <td>After All These Years</td>\n",
       "      <td>Susan Isaacs</td>\n",
       "      <td>HarperTorch</td>\n",
       "      <td>1994</td>\n",
       "    </tr>\n",
       "    <tr>\n",
       "      <th>3</th>\n",
       "      <td>36003</td>\n",
       "      <td>0.088920</td>\n",
       "      <td>Rubber Gloves or Jimmy Choos</td>\n",
       "      <td>Faith Bleasdale</td>\n",
       "      <td>Hodder &amp;amp; Stoughton Ltd</td>\n",
       "      <td>2000</td>\n",
       "    </tr>\n",
       "    <tr>\n",
       "      <th>4</th>\n",
       "      <td>36003</td>\n",
       "      <td>0.088909</td>\n",
       "      <td>Up with Skool! (Puffin Jokes, Games &amp;amp; Puzz...</td>\n",
       "      <td>Quentin Blake</td>\n",
       "      <td>Puffin Books</td>\n",
       "      <td>1981</td>\n",
       "    </tr>\n",
       "  </tbody>\n",
       "</table>\n",
       "</div>"
      ],
      "text/plain": [
       "   user_id  ranking_score                                         book_title  \\\n",
       "0    36003       0.094674                  My Friend Matt and Hena the Whore   \n",
       "1    36003       0.092732                               Mmmmmmm: a feastiary   \n",
       "2    36003       0.091171                              After All These Years   \n",
       "3    36003       0.088920                       Rubber Gloves or Jimmy Choos   \n",
       "4    36003       0.088909  Up with Skool! (Puffin Jokes, Games &amp; Puzz...   \n",
       "\n",
       "       book_author                   publisher  year_publication  \n",
       "0   Adam Zameenzad          Fontana Paperbacks              1994  \n",
       "1      Ruth Reichl  Holt, Rinehart and Winston              1972  \n",
       "2     Susan Isaacs                 HarperTorch              1994  \n",
       "3  Faith Bleasdale  Hodder &amp; Stoughton Ltd              2000  \n",
       "4    Quentin Blake                Puffin Books              1981  "
      ]
     },
     "execution_count": 147,
     "metadata": {},
     "output_type": "execute_result"
    }
   ],
   "source": [
    "usecase_3[['user_id', 'ranking_score', 'book_title', 'book_author', 'publisher', 'year_publication']]"
   ]
  },
  {
   "cell_type": "code",
   "execution_count": null,
   "id": "b5c76895-2182-415d-9e89-ac4d254b7d90",
   "metadata": {},
   "outputs": [],
   "source": []
  },
  {
   "cell_type": "markdown",
   "id": "5034105a-cd0d-47d0-9f83-c4b059b65894",
   "metadata": {},
   "source": [
    "The order of elements in interactions matrices is based on the order of the rows and columns in your original dataset. The first dimension corresponds to the users, and the second dimension corresponds to the items. The order is determined by how the data was organized in df.iloc[:, 0:3].values."
   ]
  },
  {
   "cell_type": "code",
   "execution_count": 149,
   "id": "e506229b-6a43-49cb-9a9c-9c79b698c81c",
   "metadata": {},
   "outputs": [
    {
     "data": {
      "text/html": [
       "<div>\n",
       "<style scoped>\n",
       "    .dataframe tbody tr th:only-of-type {\n",
       "        vertical-align: middle;\n",
       "    }\n",
       "\n",
       "    .dataframe tbody tr th {\n",
       "        vertical-align: top;\n",
       "    }\n",
       "\n",
       "    .dataframe thead th {\n",
       "        text-align: right;\n",
       "    }\n",
       "</style>\n",
       "<table border=\"1\" class=\"dataframe\">\n",
       "  <thead>\n",
       "    <tr style=\"text-align: right;\">\n",
       "      <th></th>\n",
       "      <th>id</th>\n",
       "      <th>isbn</th>\n",
       "    </tr>\n",
       "  </thead>\n",
       "  <tbody>\n",
       "    <tr>\n",
       "      <th>858</th>\n",
       "      <td>858</td>\n",
       "      <td>0006543456</td>\n",
       "    </tr>\n",
       "  </tbody>\n",
       "</table>\n",
       "</div>"
      ],
      "text/plain": [
       "      id        isbn\n",
       "858  858  0006543456"
      ]
     },
     "execution_count": 149,
     "metadata": {},
     "output_type": "execute_result"
    }
   ],
   "source": [
    "items_df[items_df['id']==858]"
   ]
  },
  {
   "cell_type": "code",
   "execution_count": 150,
   "id": "dbdbbc4c-2678-4a5b-b17e-be9f14af983d",
   "metadata": {},
   "outputs": [
    {
     "data": {
      "text/html": [
       "<div>\n",
       "<style scoped>\n",
       "    .dataframe tbody tr th:only-of-type {\n",
       "        vertical-align: middle;\n",
       "    }\n",
       "\n",
       "    .dataframe tbody tr th {\n",
       "        vertical-align: top;\n",
       "    }\n",
       "\n",
       "    .dataframe thead th {\n",
       "        text-align: right;\n",
       "    }\n",
       "</style>\n",
       "<table border=\"1\" class=\"dataframe\">\n",
       "  <thead>\n",
       "    <tr style=\"text-align: right;\">\n",
       "      <th></th>\n",
       "      <th>isbn</th>\n",
       "      <th>book_title</th>\n",
       "      <th>book_author</th>\n",
       "      <th>year_publication</th>\n",
       "      <th>publisher</th>\n",
       "      <th>image_url_m</th>\n",
       "    </tr>\n",
       "  </thead>\n",
       "  <tbody>\n",
       "    <tr>\n",
       "      <th>176058</th>\n",
       "      <td>0006543456</td>\n",
       "      <td>My Friend Matt and Hena the Whore</td>\n",
       "      <td>Adam Zameenzad</td>\n",
       "      <td>1994</td>\n",
       "      <td>Fontana Paperbacks</td>\n",
       "      <td>http://images.amazon.com/images/P/0006543456.0...</td>\n",
       "    </tr>\n",
       "  </tbody>\n",
       "</table>\n",
       "</div>"
      ],
      "text/plain": [
       "              isbn                         book_title     book_author  \\\n",
       "176058  0006543456  My Friend Matt and Hena the Whore  Adam Zameenzad   \n",
       "\n",
       "        year_publication           publisher  \\\n",
       "176058              1994  Fontana Paperbacks   \n",
       "\n",
       "                                              image_url_m  \n",
       "176058  http://images.amazon.com/images/P/0006543456.0...  "
      ]
     },
     "execution_count": 150,
     "metadata": {},
     "output_type": "execute_result"
    }
   ],
   "source": [
    "books[books['isbn']=='0006543456']"
   ]
  }
 ],
 "metadata": {
  "kernelspec": {
   "display_name": "Python 3 (ipykernel)",
   "language": "python",
   "name": "python3"
  },
  "language_info": {
   "codemirror_mode": {
    "name": "ipython",
    "version": 3
   },
   "file_extension": ".py",
   "mimetype": "text/x-python",
   "name": "python",
   "nbconvert_exporter": "python",
   "pygments_lexer": "ipython3",
   "version": "3.10.12"
  }
 },
 "nbformat": 4,
 "nbformat_minor": 5
}
